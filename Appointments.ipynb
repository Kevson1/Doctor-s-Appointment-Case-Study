{
 "cells": [
  {
   "cell_type": "markdown",
   "id": "f70a8885",
   "metadata": {},
   "source": [
    "# Project: Hospital Data Analysis\n",
    "\n",
    "## Table of Contents\n",
    "<ul>\n",
    "  <li><a href=\"#introduction\">Introduction</a></li>\n",
    "  <li><a href=\"#wrangling\">Data Wrangling</a></li>\n",
    "  <li><a href=\"\">Exploratory Data Analysis</a></li>\n",
    "  <li><a href=\"\">Conclusion</a></li>\n",
    "</ul>"
   ]
  },
  {
   "cell_type": "markdown",
   "id": "db17659c",
   "metadata": {},
   "source": [
    "<a id=\"introduction\"></a>\n",
    "## Introduction\n",
    "> This analysis focuses on examining the **No-Show appointments** data from Kaggle. In the dataset, about 100,000 medical appointment records from Brazil have been featured. The information captured in the dataset include the patient's **id, Appointment Id, Gender, ScheduledDay, AppointmentDay, Age, Neighbourhood, Scholarship, Hipertension, Diabetes, Alcoholism, Handcap, SMS_received, No-show**\n",
    "> ### Definition of important variables.\n",
    ">> _Gender_: Describes whether the patient is **male** or **female**. <br>\n",
    ">> _ScheduledDay_: Tells us on what day the patient set up their appointment. <br>\n",
    ">> _Age_: Indicates the patients age. <br>\n",
    ">> _Neighbourhood_: Indicates the location of the hospital. <br>\n",
    ">> _Scholarship_: Indicates whether or not the patient is enrolled in Brasilian welfare program Bolsa Família. <br>\n",
    ">> _Hipertension_: Indicates whether a patient has Hipertension or not <br>\n",
    ">> _Diabetes_: Indicates whether a patient is diabetic or not. <br>\n",
    ">> _Alcoholism_: Indicates whether a patient alcoholic or not. <br>\n",
    ">> _Handcap_: Indicates whether a patient is Handcapped or not. <br>\n",
    ">> _SMS_received_: Indicates whether a patient received sms notifications about the appointment or not. <br>\n",
    ">> _No-show_: Indicates whether a patient showed up for their appointment or not. <br>\n",
    ">>> #### Important Points to Note:\n",
    ">>>> 1. For the _Scholarship_, _Hipertension_, _Diabetes_, _Alcoholism_, _Handcap_, and _SMS_received_ fields, **1 = Yes** and **0 = No**\n",
    ">>>> 2. For the _No-show_ field, **No = The patient showed up for the appointment** and **yes = The patient did not show up for the appointment**\n",
    "> ### Questions to be answered.\n",
    ">> Q1: Are male patients more likely to show up for an appointment as compared to female patients? <br>\n",
    ">> Q2: Are older patients more likely to show up for an appointment as compared to the younger patients? <br>\n",
    ">> Q3: How do patients from different neighbourhoods differ in terms of showing up for doctor's appointments? <br>\n",
    ">> Q4: Are patients who are enrolled in Brasilian welfare program more likely to show up for scheduled appointments? <br>\n",
    ">> Q5: How do positive diagnosis of health conditions such as hipertension, Diabetes, Alcoholism, and Handcap affect appointment attendance? <br>"
   ]
  },
  {
   "cell_type": "code",
   "execution_count": 1,
   "id": "656fefda",
   "metadata": {},
   "outputs": [],
   "source": [
    "# Import the required libraries\n",
    "import pandas as pd\n",
    "import numpy as np\n",
    "import matplotlib.pyplot as plt\n",
    "import seaborn as sns\n",
    "\n",
    "%matplotlib inline"
   ]
  },
  {
   "cell_type": "markdown",
   "id": "aa749d41",
   "metadata": {},
   "source": [
    "<a id=\"wrangling\"></a>\n",
    "# Data Wrangling"
   ]
  },
  {
   "cell_type": "markdown",
   "id": "7efe84d4",
   "metadata": {},
   "source": [
    "## General Properties"
   ]
  },
  {
   "cell_type": "code",
   "execution_count": 2,
   "id": "e9d665a5",
   "metadata": {},
   "outputs": [
    {
     "data": {
      "text/html": [
       "<div>\n",
       "<style scoped>\n",
       "    .dataframe tbody tr th:only-of-type {\n",
       "        vertical-align: middle;\n",
       "    }\n",
       "\n",
       "    .dataframe tbody tr th {\n",
       "        vertical-align: top;\n",
       "    }\n",
       "\n",
       "    .dataframe thead th {\n",
       "        text-align: right;\n",
       "    }\n",
       "</style>\n",
       "<table border=\"1\" class=\"dataframe\">\n",
       "  <thead>\n",
       "    <tr style=\"text-align: right;\">\n",
       "      <th></th>\n",
       "      <th>PatientId</th>\n",
       "      <th>AppointmentID</th>\n",
       "      <th>Gender</th>\n",
       "      <th>ScheduledDay</th>\n",
       "      <th>AppointmentDay</th>\n",
       "      <th>Age</th>\n",
       "      <th>Neighbourhood</th>\n",
       "      <th>Scholarship</th>\n",
       "      <th>Hipertension</th>\n",
       "      <th>Diabetes</th>\n",
       "      <th>Alcoholism</th>\n",
       "      <th>Handcap</th>\n",
       "      <th>SMS_received</th>\n",
       "      <th>No-show</th>\n",
       "    </tr>\n",
       "  </thead>\n",
       "  <tbody>\n",
       "    <tr>\n",
       "      <th>0</th>\n",
       "      <td>2.987250e+13</td>\n",
       "      <td>5642903</td>\n",
       "      <td>F</td>\n",
       "      <td>2016-04-29T18:38:08Z</td>\n",
       "      <td>2016-04-29T00:00:00Z</td>\n",
       "      <td>62</td>\n",
       "      <td>JARDIM DA PENHA</td>\n",
       "      <td>0</td>\n",
       "      <td>1</td>\n",
       "      <td>0</td>\n",
       "      <td>0</td>\n",
       "      <td>0</td>\n",
       "      <td>0</td>\n",
       "      <td>No</td>\n",
       "    </tr>\n",
       "    <tr>\n",
       "      <th>1</th>\n",
       "      <td>5.589978e+14</td>\n",
       "      <td>5642503</td>\n",
       "      <td>M</td>\n",
       "      <td>2016-04-29T16:08:27Z</td>\n",
       "      <td>2016-04-29T00:00:00Z</td>\n",
       "      <td>56</td>\n",
       "      <td>JARDIM DA PENHA</td>\n",
       "      <td>0</td>\n",
       "      <td>0</td>\n",
       "      <td>0</td>\n",
       "      <td>0</td>\n",
       "      <td>0</td>\n",
       "      <td>0</td>\n",
       "      <td>No</td>\n",
       "    </tr>\n",
       "    <tr>\n",
       "      <th>2</th>\n",
       "      <td>4.262962e+12</td>\n",
       "      <td>5642549</td>\n",
       "      <td>F</td>\n",
       "      <td>2016-04-29T16:19:04Z</td>\n",
       "      <td>2016-04-29T00:00:00Z</td>\n",
       "      <td>62</td>\n",
       "      <td>MATA DA PRAIA</td>\n",
       "      <td>0</td>\n",
       "      <td>0</td>\n",
       "      <td>0</td>\n",
       "      <td>0</td>\n",
       "      <td>0</td>\n",
       "      <td>0</td>\n",
       "      <td>No</td>\n",
       "    </tr>\n",
       "    <tr>\n",
       "      <th>3</th>\n",
       "      <td>8.679512e+11</td>\n",
       "      <td>5642828</td>\n",
       "      <td>F</td>\n",
       "      <td>2016-04-29T17:29:31Z</td>\n",
       "      <td>2016-04-29T00:00:00Z</td>\n",
       "      <td>8</td>\n",
       "      <td>PONTAL DE CAMBURI</td>\n",
       "      <td>0</td>\n",
       "      <td>0</td>\n",
       "      <td>0</td>\n",
       "      <td>0</td>\n",
       "      <td>0</td>\n",
       "      <td>0</td>\n",
       "      <td>No</td>\n",
       "    </tr>\n",
       "    <tr>\n",
       "      <th>4</th>\n",
       "      <td>8.841186e+12</td>\n",
       "      <td>5642494</td>\n",
       "      <td>F</td>\n",
       "      <td>2016-04-29T16:07:23Z</td>\n",
       "      <td>2016-04-29T00:00:00Z</td>\n",
       "      <td>56</td>\n",
       "      <td>JARDIM DA PENHA</td>\n",
       "      <td>0</td>\n",
       "      <td>1</td>\n",
       "      <td>1</td>\n",
       "      <td>0</td>\n",
       "      <td>0</td>\n",
       "      <td>0</td>\n",
       "      <td>No</td>\n",
       "    </tr>\n",
       "  </tbody>\n",
       "</table>\n",
       "</div>"
      ],
      "text/plain": [
       "      PatientId  AppointmentID Gender          ScheduledDay  \\\n",
       "0  2.987250e+13        5642903      F  2016-04-29T18:38:08Z   \n",
       "1  5.589978e+14        5642503      M  2016-04-29T16:08:27Z   \n",
       "2  4.262962e+12        5642549      F  2016-04-29T16:19:04Z   \n",
       "3  8.679512e+11        5642828      F  2016-04-29T17:29:31Z   \n",
       "4  8.841186e+12        5642494      F  2016-04-29T16:07:23Z   \n",
       "\n",
       "         AppointmentDay  Age      Neighbourhood  Scholarship  Hipertension  \\\n",
       "0  2016-04-29T00:00:00Z   62    JARDIM DA PENHA            0             1   \n",
       "1  2016-04-29T00:00:00Z   56    JARDIM DA PENHA            0             0   \n",
       "2  2016-04-29T00:00:00Z   62      MATA DA PRAIA            0             0   \n",
       "3  2016-04-29T00:00:00Z    8  PONTAL DE CAMBURI            0             0   \n",
       "4  2016-04-29T00:00:00Z   56    JARDIM DA PENHA            0             1   \n",
       "\n",
       "   Diabetes  Alcoholism  Handcap  SMS_received No-show  \n",
       "0         0           0        0             0      No  \n",
       "1         0           0        0             0      No  \n",
       "2         0           0        0             0      No  \n",
       "3         0           0        0             0      No  \n",
       "4         1           0        0             0      No  "
      ]
     },
     "execution_count": 2,
     "metadata": {},
     "output_type": "execute_result"
    }
   ],
   "source": [
    "# Loading the data\n",
    "df = pd.read_csv('Dataset/appointments_data.csv')\n",
    "\n",
    "# Verify that the data was loaded successfully\n",
    "df.head()"
   ]
  },
  {
   "cell_type": "code",
   "execution_count": 3,
   "id": "2fc74828",
   "metadata": {
    "scrolled": true
   },
   "outputs": [
    {
     "data": {
      "text/plain": [
       "PatientId         float64\n",
       "AppointmentID       int64\n",
       "Gender             object\n",
       "ScheduledDay       object\n",
       "AppointmentDay     object\n",
       "Age                 int64\n",
       "Neighbourhood      object\n",
       "Scholarship         int64\n",
       "Hipertension        int64\n",
       "Diabetes            int64\n",
       "Alcoholism          int64\n",
       "Handcap             int64\n",
       "SMS_received        int64\n",
       "No-show            object\n",
       "dtype: object"
      ]
     },
     "execution_count": 3,
     "metadata": {},
     "output_type": "execute_result"
    }
   ],
   "source": [
    "# Examine the datatypes of the data in every column in the dataset\n",
    "df.dtypes"
   ]
  },
  {
   "cell_type": "markdown",
   "id": "40fe7246",
   "metadata": {},
   "source": [
    "> All the numerical columns in the dataset are set as integers while the columns with text data are set to string as required."
   ]
  },
  {
   "cell_type": "code",
   "execution_count": 4,
   "id": "27d4f9de",
   "metadata": {},
   "outputs": [
    {
     "data": {
      "text/plain": [
       "(110527, 14)"
      ]
     },
     "execution_count": 4,
     "metadata": {},
     "output_type": "execute_result"
    }
   ],
   "source": [
    "# Examine the number of columns and rows in the data\n",
    "df.shape"
   ]
  },
  {
   "cell_type": "markdown",
   "id": "c3997300",
   "metadata": {},
   "source": [
    "> The dataset has 14 columns and 110527 entries"
   ]
  },
  {
   "cell_type": "code",
   "execution_count": 5,
   "id": "a74669ad",
   "metadata": {},
   "outputs": [
    {
     "data": {
      "text/plain": [
       "0"
      ]
     },
     "execution_count": 5,
     "metadata": {},
     "output_type": "execute_result"
    }
   ],
   "source": [
    "# Check whether the data has any duplicated records\n",
    "df.duplicated().sum()"
   ]
  },
  {
   "cell_type": "markdown",
   "id": "4c5987c1",
   "metadata": {},
   "source": [
    "> The dataset has no duplicated records"
   ]
  },
  {
   "cell_type": "code",
   "execution_count": 10,
   "id": "432faf00",
   "metadata": {
    "scrolled": true
   },
   "outputs": [
    {
     "data": {
      "text/plain": [
       "PatientId         0\n",
       "AppointmentID     0\n",
       "Gender            0\n",
       "ScheduledDay      0\n",
       "AppointmentDay    0\n",
       "Age               0\n",
       "Neighbourhood     0\n",
       "Scholarship       0\n",
       "Hipertension      0\n",
       "Diabetes          0\n",
       "Alcoholism        0\n",
       "Handcap           0\n",
       "SMS_received      0\n",
       "No-show           0\n",
       "dtype: int64"
      ]
     },
     "execution_count": 10,
     "metadata": {},
     "output_type": "execute_result"
    }
   ],
   "source": [
    "# check for records with null values.\n",
    "df.isnull().sum()"
   ]
  },
  {
   "cell_type": "markdown",
   "id": "1f8592fd",
   "metadata": {},
   "source": [
    "> There are no null values in the dataset."
   ]
  },
  {
   "cell_type": "code",
   "execution_count": 6,
   "id": "ad18bf0f",
   "metadata": {},
   "outputs": [
    {
     "data": {
      "text/plain": [
       "110527"
      ]
     },
     "execution_count": 6,
     "metadata": {},
     "output_type": "execute_result"
    }
   ],
   "source": [
    "# Check the number of unique appointments record by appointment id\n",
    "df['AppointmentID'].nunique()"
   ]
  },
  {
   "cell_type": "markdown",
   "id": "39ded23a",
   "metadata": {},
   "source": [
    "> There are 110527 unique appoint records in the dataset"
   ]
  },
  {
   "cell_type": "code",
   "execution_count": 7,
   "id": "a88dc375",
   "metadata": {},
   "outputs": [
    {
     "data": {
      "text/plain": [
       "62299"
      ]
     },
     "execution_count": 7,
     "metadata": {},
     "output_type": "execute_result"
    }
   ],
   "source": [
    "# How many unique patients are captured in the dataset?\n",
    "df['PatientId'].nunique()"
   ]
  },
  {
   "cell_type": "markdown",
   "id": "92dad583",
   "metadata": {},
   "source": [
    "> 62,299 unique patients have been captured in the dataset. <br>\n",
    "> - This shows that some patients set more than one appointments."
   ]
  },
  {
   "cell_type": "code",
   "execution_count": 8,
   "id": "7abbdb29",
   "metadata": {},
   "outputs": [
    {
     "data": {
      "text/plain": [
       "0    88726\n",
       "1    21801\n",
       "Name: Hipertension, dtype: int64"
      ]
     },
     "execution_count": 8,
     "metadata": {},
     "output_type": "execute_result"
    }
   ],
   "source": [
    "# How many appointments were made by patients with hipertension in the dataset?\n",
    "df['Hipertension'].value_counts()"
   ]
  },
  {
   "cell_type": "markdown",
   "id": "292af181",
   "metadata": {},
   "source": [
    "> Of all the appointments that were recorded, 21,810 appointments were made by patients who had hipertension."
   ]
  },
  {
   "cell_type": "code",
   "execution_count": 9,
   "id": "80187501",
   "metadata": {},
   "outputs": [
    {
     "data": {
      "text/plain": [
       "0    99666\n",
       "1    10861\n",
       "Name: Scholarship, dtype: int64"
      ]
     },
     "execution_count": 9,
     "metadata": {},
     "output_type": "execute_result"
    }
   ],
   "source": [
    "# How many appointments were made by patients with Scholarship?\n",
    "df['Scholarship'].value_counts()"
   ]
  },
  {
   "cell_type": "markdown",
   "id": "3c467279",
   "metadata": {},
   "source": [
    "> Of all the appointments that were recorded, 10861 appointments were made by patients who had enrolled in Brasilian welfare program Bolsa Família."
   ]
  },
  {
   "cell_type": "markdown",
   "id": "5925cd73",
   "metadata": {},
   "source": [
    "### _**Remarks:**_ The dataset :-\n",
    "> 1. Does not have any duplicated records. <br>\n",
    "> 2. Has no null values. <br>\n",
    "> 3. Has all the columns set to the correct datatypes <br>\n",
    "**All the only data cleaning step that is needed is to drop the unnecessary columns**"
   ]
  },
  {
   "cell_type": "markdown",
   "id": "374d51f4",
   "metadata": {},
   "source": [
    "## Data cleaning"
   ]
  },
  {
   "cell_type": "markdown",
   "id": "27c30e3b",
   "metadata": {},
   "source": [
    "### "
   ]
  }
 ],
 "metadata": {
  "kernelspec": {
   "display_name": "Python 3 (ipykernel)",
   "language": "python",
   "name": "python3"
  },
  "language_info": {
   "codemirror_mode": {
    "name": "ipython",
    "version": 3
   },
   "file_extension": ".py",
   "mimetype": "text/x-python",
   "name": "python",
   "nbconvert_exporter": "python",
   "pygments_lexer": "ipython3",
   "version": "3.9.12"
  }
 },
 "nbformat": 4,
 "nbformat_minor": 5
}
