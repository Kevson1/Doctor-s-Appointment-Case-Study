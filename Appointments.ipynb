{
 "cells": [
  {
   "cell_type": "markdown",
   "id": "c8415873",
   "metadata": {},
   "source": [
    "# Project: Hospital Data Analysis\n",
    "\n",
    "## Table of Contents\n",
    "<ul>\n",
    "  <li><a href=\"#introduction\">Introduction</a></li>\n",
    "  <li><a href=\"#wrangling\">Data Wrangling</a></li>\n",
    "  <li><a href=\"#eda\">Exploratory Data Analysis</a></li>\n",
    "  <li><a href=\"\">Conclusion</a></li>\n",
    "</ul>"
   ]
  },
  {
   "cell_type": "markdown",
   "id": "3b4e2d00",
   "metadata": {},
   "source": [
    "<a id=\"introduction\"></a>\n",
    "## Introduction\n",
    "> This analysis focuses on examining the **No-Show appointments** data from Kaggle. In the dataset, about 100,000 medical appointment records from Brazil have been featured. The information captured in the dataset include the patient's **id, Appointment Id, Gender, ScheduledDay, AppointmentDay, Age, Neighbourhood, Scholarship, Hipertension, Diabetes, Alcoholism, Handcap, SMS_received, No-show**\n",
    "> ### Definition of important variables.\n",
    ">> _Gender_: Describes whether the patient is **male** or **female**. <br>\n",
    ">> _ScheduledDay_: Tells us on what day the patient set up their appointment. <br>\n",
    ">> _Age_: Indicates the patients age. <br>\n",
    ">> _Neighbourhood_: Indicates the location of the hospital. <br>\n",
    ">> _Scholarship_: Indicates whether or not the patient is enrolled in Brasilian welfare program Bolsa Família. <br>\n",
    ">> _Hipertension_: Indicates whether a patient has Hipertension or not <br>\n",
    ">> _Diabetes_: Indicates whether a patient is diabetic or not. <br>\n",
    ">> _Alcoholism_: Indicates whether a patient alcoholic or not. <br>\n",
    ">> _Handcap_: Indicates whether a patient is Handcapped or not. <br>\n",
    ">> _SMS_received_: Indicates whether a patient received sms notifications about the appointment or not. <br>\n",
    ">> _No-show_: Indicates whether a patient showed up for their appointment or not. <br>\n",
    ">>> #### Important Points to Note:\n",
    ">>>> 1. For the _Scholarship_, _Hipertension_, _Diabetes_, _Alcoholism_, _Handcap_, and _SMS_received_ fields, **1 = Yes** and **0 = No**\n",
    ">>>> 2. For the _No-show_ field, **No = The patient showed up for the appointment** and **yes = The patient did not show up for the appointment**\n",
    "> ### Questions to be answered.\n",
    ">> Q1: Do patients of particular age groups book appointments more frequently than others? <br>\n",
    ">> Q2: Are male patients more likely to show up for an appointment as compared to female patients? <br>\n",
    ">> Q3: Are older patients more likely to show up for an appointment as compared to the younger patients? <br>\n",
    ">> Q4: How do patients from different neighbourhoods differ in terms of showing up for doctor's appointments? <br>\n",
    ">> Q5: Are patients who are enrolled in Brasilian welfare program more likely to show up for scheduled appointments? <br>\n",
    ">> Q6: How do positive diagnosis of health conditions such as hipertension, Diabetes, Alcoholism, and Handcap affect appointment attendance? <br>"
   ]
  },
  {
   "cell_type": "code",
   "execution_count": 1,
   "id": "69d0d20d",
   "metadata": {},
   "outputs": [],
   "source": [
    "# Import the required libraries\n",
    "import pandas as pd\n",
    "import numpy as np\n",
    "import matplotlib.pyplot as plt\n",
    "import seaborn as sns\n",
    "\n",
    "%matplotlib inline"
   ]
  },
  {
   "cell_type": "markdown",
   "id": "95eca775",
   "metadata": {},
   "source": [
    "<a id=\"wrangling\"></a>\n",
    "# Data Wrangling"
   ]
  },
  {
   "cell_type": "markdown",
   "id": "f5a1fe14",
   "metadata": {},
   "source": [
    "## General Properties"
   ]
  },
  {
   "cell_type": "code",
   "execution_count": 2,
   "id": "8ff3a86d",
   "metadata": {},
   "outputs": [
    {
     "data": {
      "text/html": [
       "<div>\n",
       "<style scoped>\n",
       "    .dataframe tbody tr th:only-of-type {\n",
       "        vertical-align: middle;\n",
       "    }\n",
       "\n",
       "    .dataframe tbody tr th {\n",
       "        vertical-align: top;\n",
       "    }\n",
       "\n",
       "    .dataframe thead th {\n",
       "        text-align: right;\n",
       "    }\n",
       "</style>\n",
       "<table border=\"1\" class=\"dataframe\">\n",
       "  <thead>\n",
       "    <tr style=\"text-align: right;\">\n",
       "      <th></th>\n",
       "      <th>PatientId</th>\n",
       "      <th>AppointmentID</th>\n",
       "      <th>Gender</th>\n",
       "      <th>ScheduledDay</th>\n",
       "      <th>AppointmentDay</th>\n",
       "      <th>Age</th>\n",
       "      <th>Neighbourhood</th>\n",
       "      <th>Scholarship</th>\n",
       "      <th>Hipertension</th>\n",
       "      <th>Diabetes</th>\n",
       "      <th>Alcoholism</th>\n",
       "      <th>Handcap</th>\n",
       "      <th>SMS_received</th>\n",
       "      <th>No-show</th>\n",
       "    </tr>\n",
       "  </thead>\n",
       "  <tbody>\n",
       "    <tr>\n",
       "      <th>0</th>\n",
       "      <td>2.987250e+13</td>\n",
       "      <td>5642903</td>\n",
       "      <td>F</td>\n",
       "      <td>2016-04-29T18:38:08Z</td>\n",
       "      <td>2016-04-29T00:00:00Z</td>\n",
       "      <td>62</td>\n",
       "      <td>JARDIM DA PENHA</td>\n",
       "      <td>0</td>\n",
       "      <td>1</td>\n",
       "      <td>0</td>\n",
       "      <td>0</td>\n",
       "      <td>0</td>\n",
       "      <td>0</td>\n",
       "      <td>No</td>\n",
       "    </tr>\n",
       "    <tr>\n",
       "      <th>1</th>\n",
       "      <td>5.589978e+14</td>\n",
       "      <td>5642503</td>\n",
       "      <td>M</td>\n",
       "      <td>2016-04-29T16:08:27Z</td>\n",
       "      <td>2016-04-29T00:00:00Z</td>\n",
       "      <td>56</td>\n",
       "      <td>JARDIM DA PENHA</td>\n",
       "      <td>0</td>\n",
       "      <td>0</td>\n",
       "      <td>0</td>\n",
       "      <td>0</td>\n",
       "      <td>0</td>\n",
       "      <td>0</td>\n",
       "      <td>No</td>\n",
       "    </tr>\n",
       "    <tr>\n",
       "      <th>2</th>\n",
       "      <td>4.262962e+12</td>\n",
       "      <td>5642549</td>\n",
       "      <td>F</td>\n",
       "      <td>2016-04-29T16:19:04Z</td>\n",
       "      <td>2016-04-29T00:00:00Z</td>\n",
       "      <td>62</td>\n",
       "      <td>MATA DA PRAIA</td>\n",
       "      <td>0</td>\n",
       "      <td>0</td>\n",
       "      <td>0</td>\n",
       "      <td>0</td>\n",
       "      <td>0</td>\n",
       "      <td>0</td>\n",
       "      <td>No</td>\n",
       "    </tr>\n",
       "    <tr>\n",
       "      <th>3</th>\n",
       "      <td>8.679512e+11</td>\n",
       "      <td>5642828</td>\n",
       "      <td>F</td>\n",
       "      <td>2016-04-29T17:29:31Z</td>\n",
       "      <td>2016-04-29T00:00:00Z</td>\n",
       "      <td>8</td>\n",
       "      <td>PONTAL DE CAMBURI</td>\n",
       "      <td>0</td>\n",
       "      <td>0</td>\n",
       "      <td>0</td>\n",
       "      <td>0</td>\n",
       "      <td>0</td>\n",
       "      <td>0</td>\n",
       "      <td>No</td>\n",
       "    </tr>\n",
       "    <tr>\n",
       "      <th>4</th>\n",
       "      <td>8.841186e+12</td>\n",
       "      <td>5642494</td>\n",
       "      <td>F</td>\n",
       "      <td>2016-04-29T16:07:23Z</td>\n",
       "      <td>2016-04-29T00:00:00Z</td>\n",
       "      <td>56</td>\n",
       "      <td>JARDIM DA PENHA</td>\n",
       "      <td>0</td>\n",
       "      <td>1</td>\n",
       "      <td>1</td>\n",
       "      <td>0</td>\n",
       "      <td>0</td>\n",
       "      <td>0</td>\n",
       "      <td>No</td>\n",
       "    </tr>\n",
       "  </tbody>\n",
       "</table>\n",
       "</div>"
      ],
      "text/plain": [
       "      PatientId  AppointmentID Gender          ScheduledDay  \\\n",
       "0  2.987250e+13        5642903      F  2016-04-29T18:38:08Z   \n",
       "1  5.589978e+14        5642503      M  2016-04-29T16:08:27Z   \n",
       "2  4.262962e+12        5642549      F  2016-04-29T16:19:04Z   \n",
       "3  8.679512e+11        5642828      F  2016-04-29T17:29:31Z   \n",
       "4  8.841186e+12        5642494      F  2016-04-29T16:07:23Z   \n",
       "\n",
       "         AppointmentDay  Age      Neighbourhood  Scholarship  Hipertension  \\\n",
       "0  2016-04-29T00:00:00Z   62    JARDIM DA PENHA            0             1   \n",
       "1  2016-04-29T00:00:00Z   56    JARDIM DA PENHA            0             0   \n",
       "2  2016-04-29T00:00:00Z   62      MATA DA PRAIA            0             0   \n",
       "3  2016-04-29T00:00:00Z    8  PONTAL DE CAMBURI            0             0   \n",
       "4  2016-04-29T00:00:00Z   56    JARDIM DA PENHA            0             1   \n",
       "\n",
       "   Diabetes  Alcoholism  Handcap  SMS_received No-show  \n",
       "0         0           0        0             0      No  \n",
       "1         0           0        0             0      No  \n",
       "2         0           0        0             0      No  \n",
       "3         0           0        0             0      No  \n",
       "4         1           0        0             0      No  "
      ]
     },
     "execution_count": 2,
     "metadata": {},
     "output_type": "execute_result"
    }
   ],
   "source": [
    "# Loading the data and set the 'AppointmentID' as the index\n",
    "df = pd.read_csv('Dataset/appointments_data.csv')\n",
    "\n",
    "# Verify that the data was loaded successfully\n",
    "df.head()"
   ]
  },
  {
   "cell_type": "code",
   "execution_count": 3,
   "id": "761c933c",
   "metadata": {
    "scrolled": false
   },
   "outputs": [
    {
     "data": {
      "text/plain": [
       "PatientId         float64\n",
       "AppointmentID       int64\n",
       "Gender             object\n",
       "ScheduledDay       object\n",
       "AppointmentDay     object\n",
       "Age                 int64\n",
       "Neighbourhood      object\n",
       "Scholarship         int64\n",
       "Hipertension        int64\n",
       "Diabetes            int64\n",
       "Alcoholism          int64\n",
       "Handcap             int64\n",
       "SMS_received        int64\n",
       "No-show            object\n",
       "dtype: object"
      ]
     },
     "execution_count": 3,
     "metadata": {},
     "output_type": "execute_result"
    }
   ],
   "source": [
    "# Examine the datatypes of the data in every column in the dataset\n",
    "df.dtypes"
   ]
  },
  {
   "cell_type": "markdown",
   "id": "fec60ac3",
   "metadata": {},
   "source": [
    "> All the numerical columns in the dataset are set as integers while the columns with text data are set to string as required."
   ]
  },
  {
   "cell_type": "code",
   "execution_count": 4,
   "id": "2a321a13",
   "metadata": {},
   "outputs": [
    {
     "data": {
      "text/plain": [
       "count    110527.000000\n",
       "mean         37.088874\n",
       "std          23.110205\n",
       "min          -1.000000\n",
       "25%          18.000000\n",
       "50%          37.000000\n",
       "75%          55.000000\n",
       "max         115.000000\n",
       "Name: Age, dtype: float64"
      ]
     },
     "execution_count": 4,
     "metadata": {},
     "output_type": "execute_result"
    }
   ],
   "source": [
    "# Descrptive summary for patient ages\n",
    "df.Age.describe()"
   ]
  },
  {
   "cell_type": "markdown",
   "id": "e10737b3",
   "metadata": {},
   "source": [
    "> This summary indicates that the minimum age entry is -1 years while the maximum age entry is 115 years.\n",
    "> **-1 is not a reasonable age and therefore needs some cleaning attention**"
   ]
  },
  {
   "cell_type": "code",
   "execution_count": 5,
   "id": "97817de4",
   "metadata": {},
   "outputs": [
    {
     "data": {
      "text/plain": [
       "(110527, 14)"
      ]
     },
     "execution_count": 5,
     "metadata": {},
     "output_type": "execute_result"
    }
   ],
   "source": [
    "# Examine the number of columns and rows in the data\n",
    "df.shape"
   ]
  },
  {
   "cell_type": "markdown",
   "id": "2f97912e",
   "metadata": {},
   "source": [
    "> The dataset has 14 columns and 110527 entries"
   ]
  },
  {
   "cell_type": "code",
   "execution_count": 6,
   "id": "390ff37c",
   "metadata": {},
   "outputs": [
    {
     "data": {
      "text/plain": [
       "0"
      ]
     },
     "execution_count": 6,
     "metadata": {},
     "output_type": "execute_result"
    }
   ],
   "source": [
    "# Check whether the data has any duplicated records\n",
    "df.duplicated().sum()"
   ]
  },
  {
   "cell_type": "markdown",
   "id": "55788fa4",
   "metadata": {},
   "source": [
    "> The dataset has no duplicated records"
   ]
  },
  {
   "cell_type": "code",
   "execution_count": 7,
   "id": "91f0a0ec",
   "metadata": {
    "scrolled": true
   },
   "outputs": [
    {
     "data": {
      "text/plain": [
       "PatientId         0\n",
       "AppointmentID     0\n",
       "Gender            0\n",
       "ScheduledDay      0\n",
       "AppointmentDay    0\n",
       "Age               0\n",
       "Neighbourhood     0\n",
       "Scholarship       0\n",
       "Hipertension      0\n",
       "Diabetes          0\n",
       "Alcoholism        0\n",
       "Handcap           0\n",
       "SMS_received      0\n",
       "No-show           0\n",
       "dtype: int64"
      ]
     },
     "execution_count": 7,
     "metadata": {},
     "output_type": "execute_result"
    }
   ],
   "source": [
    "# check for records with null values.\n",
    "df.isnull().sum()"
   ]
  },
  {
   "cell_type": "markdown",
   "id": "5002108c",
   "metadata": {},
   "source": [
    "> There are no null values in the dataset."
   ]
  },
  {
   "cell_type": "code",
   "execution_count": 8,
   "id": "4586458b",
   "metadata": {},
   "outputs": [
    {
     "data": {
      "text/plain": [
       "110527"
      ]
     },
     "execution_count": 8,
     "metadata": {},
     "output_type": "execute_result"
    }
   ],
   "source": [
    "# Check the number of unique appointments record by appointment id\n",
    "df['AppointmentID'].nunique()"
   ]
  },
  {
   "cell_type": "markdown",
   "id": "a04ec785",
   "metadata": {},
   "source": [
    "> There are 110527 unique appoint records in the dataset"
   ]
  },
  {
   "cell_type": "code",
   "execution_count": 9,
   "id": "33784d1d",
   "metadata": {},
   "outputs": [
    {
     "data": {
      "text/plain": [
       "62299"
      ]
     },
     "execution_count": 9,
     "metadata": {},
     "output_type": "execute_result"
    }
   ],
   "source": [
    "# How many unique patients are captured in the dataset?\n",
    "df['PatientId'].nunique()"
   ]
  },
  {
   "cell_type": "markdown",
   "id": "b5bc3898",
   "metadata": {},
   "source": [
    "> 62,299 unique patients have been captured in the dataset. <br>\n",
    "> - This shows that some patients set more than one appointments."
   ]
  },
  {
   "cell_type": "code",
   "execution_count": 10,
   "id": "00b4c66c",
   "metadata": {},
   "outputs": [
    {
     "data": {
      "text/plain": [
       "0    88726\n",
       "1    21801\n",
       "Name: Hipertension, dtype: int64"
      ]
     },
     "execution_count": 10,
     "metadata": {},
     "output_type": "execute_result"
    }
   ],
   "source": [
    "# How many appointments were made by patients with hipertension in the dataset?\n",
    "df['Hipertension'].value_counts()"
   ]
  },
  {
   "cell_type": "markdown",
   "id": "f257fa48",
   "metadata": {},
   "source": [
    "> Of all the appointments that were recorded, 21,810 appointments were made by patients who had hipertension."
   ]
  },
  {
   "cell_type": "code",
   "execution_count": 11,
   "id": "f059b719",
   "metadata": {},
   "outputs": [
    {
     "data": {
      "text/plain": [
       "0    99666\n",
       "1    10861\n",
       "Name: Scholarship, dtype: int64"
      ]
     },
     "execution_count": 11,
     "metadata": {},
     "output_type": "execute_result"
    }
   ],
   "source": [
    "# How many appointments were made by patients with Scholarship?\n",
    "df['Scholarship'].value_counts()"
   ]
  },
  {
   "cell_type": "markdown",
   "id": "2be5adff",
   "metadata": {},
   "source": [
    "> Of all the appointments that were recorded, 10861 appointments were made by patients who had enrolled in Brasilian welfare program Bolsa Família."
   ]
  },
  {
   "cell_type": "code",
   "execution_count": 12,
   "id": "6bf64c88",
   "metadata": {},
   "outputs": [
    {
     "data": {
      "text/plain": [
       "0    107167\n",
       "1      3360\n",
       "Name: Alcoholism, dtype: int64"
      ]
     },
     "execution_count": 12,
     "metadata": {},
     "output_type": "execute_result"
    }
   ],
   "source": [
    "# How many appointments were made by patients with alcoholism?\n",
    "df.Alcoholism.value_counts()\n"
   ]
  },
  {
   "cell_type": "markdown",
   "id": "91571539",
   "metadata": {},
   "source": [
    "> Of the appointments that were made, 3360 from patients with alcoholism."
   ]
  },
  {
   "cell_type": "code",
   "execution_count": 13,
   "id": "b6bc86d8",
   "metadata": {},
   "outputs": [
    {
     "data": {
      "text/plain": [
       "0    75045\n",
       "1    35482\n",
       "Name: SMS_received, dtype: int64"
      ]
     },
     "execution_count": 13,
     "metadata": {},
     "output_type": "execute_result"
    }
   ],
   "source": [
    "# How many appointments were made by patients who had received SMS?\n",
    "df.SMS_received.value_counts()"
   ]
  },
  {
   "cell_type": "markdown",
   "id": "adc45971",
   "metadata": {},
   "source": [
    "> Of all the appointments that were made, 35,482 were made by individuals who received SMS"
   ]
  },
  {
   "cell_type": "markdown",
   "id": "9f21ec2a",
   "metadata": {},
   "source": [
    "### _**Cleaning Remarks:**_ The dataset :-\n",
    "> 1. Does not have any duplicated records. <br>\n",
    "> 2. Has no null values. <br>\n",
    "> 3. Has all the columns set to the correct datatypes <br>\n",
    "> 4. Has one erroneous age entry, **-1**, which needs to be removed. <br>\n",
    "> 5. Has the last column named **No-show** instead of **No_show**. This needs to be addressed <br>\n",
    "> 6. Has some columns that we may not be needed in the analysis process. <br>\n",
    "> 7. Needs to have the `AppointmentId` field set as the index. <br>\n",
    "**In the data cleaning step, we need to address remarks 4, 5, 6, and 7**"
   ]
  },
  {
   "cell_type": "markdown",
   "id": "a494fc50",
   "metadata": {},
   "source": [
    "## Data cleaning"
   ]
  },
  {
   "cell_type": "code",
   "execution_count": 14,
   "id": "04ea8cc0",
   "metadata": {
    "scrolled": true
   },
   "outputs": [
    {
     "data": {
      "text/html": [
       "<div>\n",
       "<style scoped>\n",
       "    .dataframe tbody tr th:only-of-type {\n",
       "        vertical-align: middle;\n",
       "    }\n",
       "\n",
       "    .dataframe tbody tr th {\n",
       "        vertical-align: top;\n",
       "    }\n",
       "\n",
       "    .dataframe thead th {\n",
       "        text-align: right;\n",
       "    }\n",
       "</style>\n",
       "<table border=\"1\" class=\"dataframe\">\n",
       "  <thead>\n",
       "    <tr style=\"text-align: right;\">\n",
       "      <th></th>\n",
       "      <th>PatientId</th>\n",
       "      <th>AppointmentID</th>\n",
       "      <th>Gender</th>\n",
       "      <th>ScheduledDay</th>\n",
       "      <th>AppointmentDay</th>\n",
       "      <th>Age</th>\n",
       "      <th>Neighbourhood</th>\n",
       "      <th>Scholarship</th>\n",
       "      <th>Hipertension</th>\n",
       "      <th>Diabetes</th>\n",
       "      <th>Alcoholism</th>\n",
       "      <th>Handcap</th>\n",
       "      <th>SMS_received</th>\n",
       "      <th>No-show</th>\n",
       "    </tr>\n",
       "  </thead>\n",
       "  <tbody>\n",
       "    <tr>\n",
       "      <th>0</th>\n",
       "      <td>2.987250e+13</td>\n",
       "      <td>5642903</td>\n",
       "      <td>F</td>\n",
       "      <td>2016-04-29T18:38:08Z</td>\n",
       "      <td>2016-04-29T00:00:00Z</td>\n",
       "      <td>62</td>\n",
       "      <td>JARDIM DA PENHA</td>\n",
       "      <td>0</td>\n",
       "      <td>1</td>\n",
       "      <td>0</td>\n",
       "      <td>0</td>\n",
       "      <td>0</td>\n",
       "      <td>0</td>\n",
       "      <td>No</td>\n",
       "    </tr>\n",
       "    <tr>\n",
       "      <th>1</th>\n",
       "      <td>5.589978e+14</td>\n",
       "      <td>5642503</td>\n",
       "      <td>M</td>\n",
       "      <td>2016-04-29T16:08:27Z</td>\n",
       "      <td>2016-04-29T00:00:00Z</td>\n",
       "      <td>56</td>\n",
       "      <td>JARDIM DA PENHA</td>\n",
       "      <td>0</td>\n",
       "      <td>0</td>\n",
       "      <td>0</td>\n",
       "      <td>0</td>\n",
       "      <td>0</td>\n",
       "      <td>0</td>\n",
       "      <td>No</td>\n",
       "    </tr>\n",
       "    <tr>\n",
       "      <th>2</th>\n",
       "      <td>4.262962e+12</td>\n",
       "      <td>5642549</td>\n",
       "      <td>F</td>\n",
       "      <td>2016-04-29T16:19:04Z</td>\n",
       "      <td>2016-04-29T00:00:00Z</td>\n",
       "      <td>62</td>\n",
       "      <td>MATA DA PRAIA</td>\n",
       "      <td>0</td>\n",
       "      <td>0</td>\n",
       "      <td>0</td>\n",
       "      <td>0</td>\n",
       "      <td>0</td>\n",
       "      <td>0</td>\n",
       "      <td>No</td>\n",
       "    </tr>\n",
       "  </tbody>\n",
       "</table>\n",
       "</div>"
      ],
      "text/plain": [
       "      PatientId  AppointmentID Gender          ScheduledDay  \\\n",
       "0  2.987250e+13        5642903      F  2016-04-29T18:38:08Z   \n",
       "1  5.589978e+14        5642503      M  2016-04-29T16:08:27Z   \n",
       "2  4.262962e+12        5642549      F  2016-04-29T16:19:04Z   \n",
       "\n",
       "         AppointmentDay  Age    Neighbourhood  Scholarship  Hipertension  \\\n",
       "0  2016-04-29T00:00:00Z   62  JARDIM DA PENHA            0             1   \n",
       "1  2016-04-29T00:00:00Z   56  JARDIM DA PENHA            0             0   \n",
       "2  2016-04-29T00:00:00Z   62    MATA DA PRAIA            0             0   \n",
       "\n",
       "   Diabetes  Alcoholism  Handcap  SMS_received No-show  \n",
       "0         0           0        0             0      No  \n",
       "1         0           0        0             0      No  \n",
       "2         0           0        0             0      No  "
      ]
     },
     "execution_count": 14,
     "metadata": {},
     "output_type": "execute_result"
    }
   ],
   "source": [
    "# Make a copy of the original dataset\n",
    "df_new = df.copy()\n",
    "\n",
    "# Verify that the data was copied successfully\n",
    "df_new.head(3)"
   ]
  },
  {
   "cell_type": "code",
   "execution_count": 15,
   "id": "785634b4",
   "metadata": {},
   "outputs": [
    {
     "data": {
      "text/plain": [
       "Index(['PatientId', 'AppointmentID', 'Gender', 'ScheduledDay',\n",
       "       'AppointmentDay', 'Age', 'Neighbourhood', 'Scholarship', 'Hipertension',\n",
       "       'Diabetes', 'Alcoholism', 'Handcap', 'SMS_received', 'No-show'],\n",
       "      dtype='object')"
      ]
     },
     "execution_count": 15,
     "metadata": {},
     "output_type": "execute_result"
    }
   ],
   "source": [
    "# Display all the columns for ease of reference\n",
    "df_new.columns"
   ]
  },
  {
   "cell_type": "markdown",
   "id": "fe3e1495",
   "metadata": {},
   "source": [
    "> We need to drop the `AppointmentDay` column."
   ]
  },
  {
   "cell_type": "markdown",
   "id": "ff92f6af",
   "metadata": {},
   "source": [
    "### Dropping the `AppointmentDay` column"
   ]
  },
  {
   "cell_type": "code",
   "execution_count": 16,
   "id": "d24c34ce",
   "metadata": {},
   "outputs": [
    {
     "data": {
      "text/plain": [
       "Index(['PatientId', 'AppointmentID', 'Gender', 'ScheduledDay', 'Age',\n",
       "       'Neighbourhood', 'Scholarship', 'Hipertension', 'Diabetes',\n",
       "       'Alcoholism', 'Handcap', 'SMS_received', 'No-show'],\n",
       "      dtype='object')"
      ]
     },
     "execution_count": 16,
     "metadata": {},
     "output_type": "execute_result"
    }
   ],
   "source": [
    "# Drop the columns\n",
    "df_new.drop(columns='AppointmentDay', axis=1, inplace=True)\n",
    "\n",
    "# Verify that the columns were dropped successfully\n",
    "df_new.columns"
   ]
  },
  {
   "cell_type": "markdown",
   "id": "469af94a",
   "metadata": {},
   "source": [
    "### Dropping the record with an erroneous age entry"
   ]
  },
  {
   "cell_type": "code",
   "execution_count": 17,
   "id": "d1020f89",
   "metadata": {
    "scrolled": true
   },
   "outputs": [
    {
     "data": {
      "text/html": [
       "<div>\n",
       "<style scoped>\n",
       "    .dataframe tbody tr th:only-of-type {\n",
       "        vertical-align: middle;\n",
       "    }\n",
       "\n",
       "    .dataframe tbody tr th {\n",
       "        vertical-align: top;\n",
       "    }\n",
       "\n",
       "    .dataframe thead th {\n",
       "        text-align: right;\n",
       "    }\n",
       "</style>\n",
       "<table border=\"1\" class=\"dataframe\">\n",
       "  <thead>\n",
       "    <tr style=\"text-align: right;\">\n",
       "      <th></th>\n",
       "      <th>PatientId</th>\n",
       "      <th>AppointmentID</th>\n",
       "      <th>Gender</th>\n",
       "      <th>ScheduledDay</th>\n",
       "      <th>Age</th>\n",
       "      <th>Neighbourhood</th>\n",
       "      <th>Scholarship</th>\n",
       "      <th>Hipertension</th>\n",
       "      <th>Diabetes</th>\n",
       "      <th>Alcoholism</th>\n",
       "      <th>Handcap</th>\n",
       "      <th>SMS_received</th>\n",
       "      <th>No-show</th>\n",
       "    </tr>\n",
       "  </thead>\n",
       "  <tbody>\n",
       "    <tr>\n",
       "      <th>99832</th>\n",
       "      <td>4.659432e+14</td>\n",
       "      <td>5775010</td>\n",
       "      <td>F</td>\n",
       "      <td>2016-06-06T08:58:13Z</td>\n",
       "      <td>-1</td>\n",
       "      <td>ROMÃO</td>\n",
       "      <td>0</td>\n",
       "      <td>0</td>\n",
       "      <td>0</td>\n",
       "      <td>0</td>\n",
       "      <td>0</td>\n",
       "      <td>0</td>\n",
       "      <td>No</td>\n",
       "    </tr>\n",
       "  </tbody>\n",
       "</table>\n",
       "</div>"
      ],
      "text/plain": [
       "          PatientId  AppointmentID Gender          ScheduledDay  Age  \\\n",
       "99832  4.659432e+14        5775010      F  2016-06-06T08:58:13Z   -1   \n",
       "\n",
       "      Neighbourhood  Scholarship  Hipertension  Diabetes  Alcoholism  Handcap  \\\n",
       "99832         ROMÃO            0             0         0           0        0   \n",
       "\n",
       "       SMS_received No-show  \n",
       "99832             0      No  "
      ]
     },
     "execution_count": 17,
     "metadata": {},
     "output_type": "execute_result"
    }
   ],
   "source": [
    "# View the Record\n",
    "odd_age = df_new.query('Age < 0')\n",
    "odd_age"
   ]
  },
  {
   "cell_type": "code",
   "execution_count": 18,
   "id": "5146d427",
   "metadata": {},
   "outputs": [
    {
     "data": {
      "text/html": [
       "<div>\n",
       "<style scoped>\n",
       "    .dataframe tbody tr th:only-of-type {\n",
       "        vertical-align: middle;\n",
       "    }\n",
       "\n",
       "    .dataframe tbody tr th {\n",
       "        vertical-align: top;\n",
       "    }\n",
       "\n",
       "    .dataframe thead th {\n",
       "        text-align: right;\n",
       "    }\n",
       "</style>\n",
       "<table border=\"1\" class=\"dataframe\">\n",
       "  <thead>\n",
       "    <tr style=\"text-align: right;\">\n",
       "      <th></th>\n",
       "      <th>PatientId</th>\n",
       "      <th>AppointmentID</th>\n",
       "      <th>Gender</th>\n",
       "      <th>ScheduledDay</th>\n",
       "      <th>Age</th>\n",
       "      <th>Neighbourhood</th>\n",
       "      <th>Scholarship</th>\n",
       "      <th>Hipertension</th>\n",
       "      <th>Diabetes</th>\n",
       "      <th>Alcoholism</th>\n",
       "      <th>Handcap</th>\n",
       "      <th>SMS_received</th>\n",
       "      <th>No-show</th>\n",
       "    </tr>\n",
       "  </thead>\n",
       "  <tbody>\n",
       "  </tbody>\n",
       "</table>\n",
       "</div>"
      ],
      "text/plain": [
       "Empty DataFrame\n",
       "Columns: [PatientId, AppointmentID, Gender, ScheduledDay, Age, Neighbourhood, Scholarship, Hipertension, Diabetes, Alcoholism, Handcap, SMS_received, No-show]\n",
       "Index: []"
      ]
     },
     "execution_count": 18,
     "metadata": {},
     "output_type": "execute_result"
    }
   ],
   "source": [
    "# Drop the Record\n",
    "df_new.drop(odd_age.index, inplace=True)\n",
    "\n",
    "# Verify that the entry was dropped\n",
    "df_new.query('Age < 0') # This should return an empty dataset if the drop was successful"
   ]
  },
  {
   "cell_type": "markdown",
   "id": "ee5505df",
   "metadata": {},
   "source": [
    "### Set `AppointmentID` as the index column"
   ]
  },
  {
   "cell_type": "code",
   "execution_count": 19,
   "id": "1cd744fe",
   "metadata": {
    "scrolled": true
   },
   "outputs": [
    {
     "data": {
      "text/html": [
       "<div>\n",
       "<style scoped>\n",
       "    .dataframe tbody tr th:only-of-type {\n",
       "        vertical-align: middle;\n",
       "    }\n",
       "\n",
       "    .dataframe tbody tr th {\n",
       "        vertical-align: top;\n",
       "    }\n",
       "\n",
       "    .dataframe thead th {\n",
       "        text-align: right;\n",
       "    }\n",
       "</style>\n",
       "<table border=\"1\" class=\"dataframe\">\n",
       "  <thead>\n",
       "    <tr style=\"text-align: right;\">\n",
       "      <th></th>\n",
       "      <th>PatientId</th>\n",
       "      <th>Gender</th>\n",
       "      <th>ScheduledDay</th>\n",
       "      <th>Age</th>\n",
       "      <th>Neighbourhood</th>\n",
       "      <th>Scholarship</th>\n",
       "      <th>Hipertension</th>\n",
       "      <th>Diabetes</th>\n",
       "      <th>Alcoholism</th>\n",
       "      <th>Handcap</th>\n",
       "      <th>SMS_received</th>\n",
       "      <th>No-show</th>\n",
       "    </tr>\n",
       "    <tr>\n",
       "      <th>AppointmentID</th>\n",
       "      <th></th>\n",
       "      <th></th>\n",
       "      <th></th>\n",
       "      <th></th>\n",
       "      <th></th>\n",
       "      <th></th>\n",
       "      <th></th>\n",
       "      <th></th>\n",
       "      <th></th>\n",
       "      <th></th>\n",
       "      <th></th>\n",
       "      <th></th>\n",
       "    </tr>\n",
       "  </thead>\n",
       "  <tbody>\n",
       "    <tr>\n",
       "      <th>5642903</th>\n",
       "      <td>2.987250e+13</td>\n",
       "      <td>F</td>\n",
       "      <td>2016-04-29T18:38:08Z</td>\n",
       "      <td>62</td>\n",
       "      <td>JARDIM DA PENHA</td>\n",
       "      <td>0</td>\n",
       "      <td>1</td>\n",
       "      <td>0</td>\n",
       "      <td>0</td>\n",
       "      <td>0</td>\n",
       "      <td>0</td>\n",
       "      <td>No</td>\n",
       "    </tr>\n",
       "  </tbody>\n",
       "</table>\n",
       "</div>"
      ],
      "text/plain": [
       "                  PatientId Gender          ScheduledDay  Age  \\\n",
       "AppointmentID                                                   \n",
       "5642903        2.987250e+13      F  2016-04-29T18:38:08Z   62   \n",
       "\n",
       "                 Neighbourhood  Scholarship  Hipertension  Diabetes  \\\n",
       "AppointmentID                                                         \n",
       "5642903        JARDIM DA PENHA            0             1         0   \n",
       "\n",
       "               Alcoholism  Handcap  SMS_received No-show  \n",
       "AppointmentID                                             \n",
       "5642903                 0        0             0      No  "
      ]
     },
     "execution_count": 19,
     "metadata": {},
     "output_type": "execute_result"
    }
   ],
   "source": [
    "df_new.set_index('AppointmentID', inplace=True)\n",
    "\n",
    "# Confirm that the index was changed successfully\n",
    "df_new.head(1)"
   ]
  },
  {
   "cell_type": "markdown",
   "id": "b1215d2b",
   "metadata": {},
   "source": [
    "### Rename the column named `No-show` to `No_show`"
   ]
  },
  {
   "cell_type": "code",
   "execution_count": 20,
   "id": "95e46c8e",
   "metadata": {},
   "outputs": [
    {
     "data": {
      "text/plain": [
       "Index(['PatientId', 'Gender', 'ScheduledDay', 'Age', 'Neighbourhood',\n",
       "       'Scholarship', 'Hipertension', 'Diabetes', 'Alcoholism', 'Handcap',\n",
       "       'SMS_received', 'No_show'],\n",
       "      dtype='object')"
      ]
     },
     "execution_count": 20,
     "metadata": {},
     "output_type": "execute_result"
    }
   ],
   "source": [
    "#df_new['N-show']=df_new['No_show']\n",
    "df_new.rename(columns={'No-show':'No_show'}, inplace = True)\n",
    "df_new.columns"
   ]
  },
  {
   "cell_type": "markdown",
   "id": "95d89a2a",
   "metadata": {},
   "source": [
    "### Save the cleaned dataset in a new csv file."
   ]
  },
  {
   "cell_type": "code",
   "execution_count": 21,
   "id": "2b6b9751",
   "metadata": {},
   "outputs": [],
   "source": [
    "df_new.to_csv('Dataset/clean_data.csv', index=True)"
   ]
  },
  {
   "cell_type": "markdown",
   "id": "f13580c9",
   "metadata": {},
   "source": [
    "<a id = \"eda\"></a>\n",
    "# Exploratory Data Analysis (EDA)"
   ]
  },
  {
   "cell_type": "code",
   "execution_count": 22,
   "id": "8e3dc1c9",
   "metadata": {},
   "outputs": [
    {
     "data": {
      "text/html": [
       "<div>\n",
       "<style scoped>\n",
       "    .dataframe tbody tr th:only-of-type {\n",
       "        vertical-align: middle;\n",
       "    }\n",
       "\n",
       "    .dataframe tbody tr th {\n",
       "        vertical-align: top;\n",
       "    }\n",
       "\n",
       "    .dataframe thead th {\n",
       "        text-align: right;\n",
       "    }\n",
       "</style>\n",
       "<table border=\"1\" class=\"dataframe\">\n",
       "  <thead>\n",
       "    <tr style=\"text-align: right;\">\n",
       "      <th></th>\n",
       "      <th>AppointmentID</th>\n",
       "      <th>PatientId</th>\n",
       "      <th>Gender</th>\n",
       "      <th>ScheduledDay</th>\n",
       "      <th>Age</th>\n",
       "      <th>Neighbourhood</th>\n",
       "      <th>Scholarship</th>\n",
       "      <th>Hipertension</th>\n",
       "      <th>Diabetes</th>\n",
       "      <th>Alcoholism</th>\n",
       "      <th>Handcap</th>\n",
       "      <th>SMS_received</th>\n",
       "      <th>No_show</th>\n",
       "    </tr>\n",
       "  </thead>\n",
       "  <tbody>\n",
       "    <tr>\n",
       "      <th>0</th>\n",
       "      <td>5642903</td>\n",
       "      <td>2.987250e+13</td>\n",
       "      <td>F</td>\n",
       "      <td>2016-04-29T18:38:08Z</td>\n",
       "      <td>62</td>\n",
       "      <td>JARDIM DA PENHA</td>\n",
       "      <td>0</td>\n",
       "      <td>1</td>\n",
       "      <td>0</td>\n",
       "      <td>0</td>\n",
       "      <td>0</td>\n",
       "      <td>0</td>\n",
       "      <td>No</td>\n",
       "    </tr>\n",
       "  </tbody>\n",
       "</table>\n",
       "</div>"
      ],
      "text/plain": [
       "   AppointmentID     PatientId Gender          ScheduledDay  Age  \\\n",
       "0        5642903  2.987250e+13      F  2016-04-29T18:38:08Z   62   \n",
       "\n",
       "     Neighbourhood  Scholarship  Hipertension  Diabetes  Alcoholism  Handcap  \\\n",
       "0  JARDIM DA PENHA            0             1         0           0        0   \n",
       "\n",
       "   SMS_received No_show  \n",
       "0             0      No  "
      ]
     },
     "execution_count": 22,
     "metadata": {},
     "output_type": "execute_result"
    }
   ],
   "source": [
    "# Load the cleaned dataset.\n",
    "df_clean = pd.read_csv('Dataset/clean_data.csv')\n",
    "\n",
    "# Verify that the data was loaded successfully\n",
    "df_clean.head(1)"
   ]
  },
  {
   "cell_type": "markdown",
   "id": "8c12b43f",
   "metadata": {},
   "source": [
    "> For this EDA process, when analyzing the data to come up with solutions for the raised questions, we will be needing to work with proportions in multiple occassions. To avoid repetition, it is elegant to define a function that we can invoke any time we want to calculate a proportion. The cell below defines a `proportion function`"
   ]
  },
  {
   "cell_type": "code",
   "execution_count": 23,
   "id": "349ce052",
   "metadata": {},
   "outputs": [],
   "source": [
    "# Defining the proportion funtion\n",
    "def proportion(total, interest_items):\n",
    "    \"\"\"\n",
    "    Description: This is a function that calculates the proportion of items of interest\n",
    "    \n",
    "    Inputs:\n",
    "        total: This is the total number of items to be considered in calculating the proportions\n",
    "        interest_items: This is the number of items of interest whose proportion needs to be calculated.\n",
    "    Results:\n",
    "        prop: This is the result obtained after dividing the interest_items by the total\n",
    "    \"\"\"\n",
    "    if interest_items > total:\n",
    "        result = \"Items of interest must be less than or equal to the total number of items\"\n",
    "    else:\n",
    "        result = interest_items/total\n",
    "    return(result)"
   ]
  },
  {
   "cell_type": "markdown",
   "id": "6bbef3f0",
   "metadata": {},
   "source": [
    "## Research Question 1: Do patients of particular age groups book appointments more frequently than others?"
   ]
  },
  {
   "cell_type": "markdown",
   "id": "6bbca7f2",
   "metadata": {},
   "source": [
    "> To Respond to this question, we need to examine how the ages of the patients who booked appointments in all hospitals are distributed. To do this, we need to visualize the ages using a histogram "
   ]
  },
  {
   "cell_type": "code",
   "execution_count": 24,
   "id": "ccf76557",
   "metadata": {
    "scrolled": true
   },
   "outputs": [
    {
     "data": {
      "image/png": "[encoded data removed]",
      "text/plain": [
       "<Figure size 432x288 with 1 Axes>"
      ]
     },
     "metadata": {
      "needs_background": "light"
     },
     "output_type": "display_data"
    }
   ],
   "source": [
    "# Check the distribution of the ages of the patients\n",
    "df_clean.Age.plot(kind= 'hist', edgecolor='white')\n",
    "plt.title('Distribution of Patient Ages')\n",
    "plt.xlabel('Ages')\n",
    "plt.ylabel('Frequency');"
   ]
  },
  {
   "cell_type": "markdown",
   "id": "a6a18754",
   "metadata": {},
   "source": [
    "> This does not give a clear picture of the distribution of the patient ages because as initially established, several patients made more than one appointment. To get a more accurate visualization, we need to plot the histogram using ages for the unique patients only."
   ]
  },
  {
   "cell_type": "code",
   "execution_count": 25,
   "id": "11950677",
   "metadata": {},
   "outputs": [
    {
     "data": {
      "image/png": "[encoded data removed]",
      "text/plain": [
       "<Figure size 576x576 with 1 Axes>"
      ]
     },
     "metadata": {
      "needs_background": "light"
     },
     "output_type": "display_data"
    }
   ],
   "source": [
    "# Extract the data for the unique patients\n",
    "unique_patients = df_clean.drop_duplicates(subset='PatientId', keep='first')\n",
    "\n",
    "# Use the ages in this new dataset to examine the distribution of patient ages.\n",
    "# unique_patients['Age'].plot(kind='hist')\n",
    "ages = unique_patients['Age']\n",
    "bins = [0, 10, 20, 30, 40, 50, 60, 70, 80, 90, 100, 110]\n",
    "fig, ax = plt.subplots(figsize = (8,8))\n",
    "ax.hist(ages, bins, edgecolor='white')\n",
    "plt.title('Distribution of Patient Ages')\n",
    "plt.xlabel('Ages')\n",
    "plt.ylabel('Frequency');"
   ]
  },
  {
   "cell_type": "markdown",
   "id": "f04486f8",
   "metadata": {},
   "source": [
    "### Question 1 Response:\n",
    "> #### The above visualization reveal that patients aged between 0 to 10 years book a higher number of appointments as compared to the other age groups. The number of appointments booked by patients aged between 90 years and 100 years is disproportionately low as compared to the other age groups."
   ]
  },
  {
   "cell_type": "markdown",
   "id": "a66220c0",
   "metadata": {},
   "source": [
    "## Research Question 2: Are male patients more likely to show up for an appointment as compared to female patients?"
   ]
  },
  {
   "cell_type": "markdown",
   "id": "62b7074a",
   "metadata": {},
   "source": [
    ">To arrive at a conclusive and valid question for this research question, we need to compare the proportion of male patients who showed up for the appointment and the proportion of women who showed up for the appointment"
   ]
  },
  {
   "cell_type": "markdown",
   "id": "7f55a2ad",
   "metadata": {},
   "source": [
    "### Step 1: separate the data into two dataframes\n",
    "    male_df = Dataframe with only the appointments booked by male patients\n",
    "    female_df = Dataframe with only the appointments booked by female patients"
   ]
  },
  {
   "cell_type": "code",
   "execution_count": 26,
   "id": "6d6c9a70",
   "metadata": {},
   "outputs": [
    {
     "data": {
      "text/html": [
       "<div>\n",
       "<style scoped>\n",
       "    .dataframe tbody tr th:only-of-type {\n",
       "        vertical-align: middle;\n",
       "    }\n",
       "\n",
       "    .dataframe tbody tr th {\n",
       "        vertical-align: top;\n",
       "    }\n",
       "\n",
       "    .dataframe thead th {\n",
       "        text-align: right;\n",
       "    }\n",
       "</style>\n",
       "<table border=\"1\" class=\"dataframe\">\n",
       "  <thead>\n",
       "    <tr style=\"text-align: right;\">\n",
       "      <th></th>\n",
       "      <th>AppointmentID</th>\n",
       "      <th>PatientId</th>\n",
       "      <th>Gender</th>\n",
       "      <th>ScheduledDay</th>\n",
       "      <th>Age</th>\n",
       "      <th>Neighbourhood</th>\n",
       "      <th>Scholarship</th>\n",
       "      <th>Hipertension</th>\n",
       "      <th>Diabetes</th>\n",
       "      <th>Alcoholism</th>\n",
       "      <th>Handcap</th>\n",
       "      <th>SMS_received</th>\n",
       "      <th>No_show</th>\n",
       "    </tr>\n",
       "  </thead>\n",
       "  <tbody>\n",
       "    <tr>\n",
       "      <th>1</th>\n",
       "      <td>5642503</td>\n",
       "      <td>5.589978e+14</td>\n",
       "      <td>M</td>\n",
       "      <td>2016-04-29T16:08:27Z</td>\n",
       "      <td>56</td>\n",
       "      <td>JARDIM DA PENHA</td>\n",
       "      <td>0</td>\n",
       "      <td>0</td>\n",
       "      <td>0</td>\n",
       "      <td>0</td>\n",
       "      <td>0</td>\n",
       "      <td>0</td>\n",
       "      <td>No</td>\n",
       "    </tr>\n",
       "    <tr>\n",
       "      <th>11</th>\n",
       "      <td>5620163</td>\n",
       "      <td>7.542951e+12</td>\n",
       "      <td>M</td>\n",
       "      <td>2016-04-26T08:44:12Z</td>\n",
       "      <td>29</td>\n",
       "      <td>NOVA PALESTINA</td>\n",
       "      <td>0</td>\n",
       "      <td>0</td>\n",
       "      <td>0</td>\n",
       "      <td>0</td>\n",
       "      <td>0</td>\n",
       "      <td>1</td>\n",
       "      <td>Yes</td>\n",
       "    </tr>\n",
       "  </tbody>\n",
       "</table>\n",
       "</div>"
      ],
      "text/plain": [
       "    AppointmentID     PatientId Gender          ScheduledDay  Age  \\\n",
       "1         5642503  5.589978e+14      M  2016-04-29T16:08:27Z   56   \n",
       "11        5620163  7.542951e+12      M  2016-04-26T08:44:12Z   29   \n",
       "\n",
       "      Neighbourhood  Scholarship  Hipertension  Diabetes  Alcoholism  Handcap  \\\n",
       "1   JARDIM DA PENHA            0             0         0           0        0   \n",
       "11   NOVA PALESTINA            0             0         0           0        0   \n",
       "\n",
       "    SMS_received No_show  \n",
       "1              0      No  \n",
       "11             1     Yes  "
      ]
     },
     "execution_count": 26,
     "metadata": {},
     "output_type": "execute_result"
    }
   ],
   "source": [
    "# Extract the appointments booked by males\n",
    "male_df = df_clean.query('Gender == \"M\"')\n",
    "male_df.head(2)"
   ]
  },
  {
   "cell_type": "code",
   "execution_count": 27,
   "id": "b8cbad1f",
   "metadata": {},
   "outputs": [
    {
     "data": {
      "text/html": [
       "<div>\n",
       "<style scoped>\n",
       "    .dataframe tbody tr th:only-of-type {\n",
       "        vertical-align: middle;\n",
       "    }\n",
       "\n",
       "    .dataframe tbody tr th {\n",
       "        vertical-align: top;\n",
       "    }\n",
       "\n",
       "    .dataframe thead th {\n",
       "        text-align: right;\n",
       "    }\n",
       "</style>\n",
       "<table border=\"1\" class=\"dataframe\">\n",
       "  <thead>\n",
       "    <tr style=\"text-align: right;\">\n",
       "      <th></th>\n",
       "      <th>AppointmentID</th>\n",
       "      <th>PatientId</th>\n",
       "      <th>Gender</th>\n",
       "      <th>ScheduledDay</th>\n",
       "      <th>Age</th>\n",
       "      <th>Neighbourhood</th>\n",
       "      <th>Scholarship</th>\n",
       "      <th>Hipertension</th>\n",
       "      <th>Diabetes</th>\n",
       "      <th>Alcoholism</th>\n",
       "      <th>Handcap</th>\n",
       "      <th>SMS_received</th>\n",
       "      <th>No_show</th>\n",
       "    </tr>\n",
       "  </thead>\n",
       "  <tbody>\n",
       "  </tbody>\n",
       "</table>\n",
       "</div>"
      ],
      "text/plain": [
       "Empty DataFrame\n",
       "Columns: [AppointmentID, PatientId, Gender, ScheduledDay, Age, Neighbourhood, Scholarship, Hipertension, Diabetes, Alcoholism, Handcap, SMS_received, No_show]\n",
       "Index: []"
      ]
     },
     "execution_count": 27,
     "metadata": {},
     "output_type": "execute_result"
    }
   ],
   "source": [
    "# Verify that there are no Female entries in the male dataframe\n",
    "male_df.query('Gender == \"F\"')\n",
    "# This should display an empty dataset if there are no entries that have gender set as female."
   ]
  },
  {
   "cell_type": "code",
   "execution_count": 28,
   "id": "8d6f51a4",
   "metadata": {},
   "outputs": [
    {
     "data": {
      "text/html": [
       "<div>\n",
       "<style scoped>\n",
       "    .dataframe tbody tr th:only-of-type {\n",
       "        vertical-align: middle;\n",
       "    }\n",
       "\n",
       "    .dataframe tbody tr th {\n",
       "        vertical-align: top;\n",
       "    }\n",
       "\n",
       "    .dataframe thead th {\n",
       "        text-align: right;\n",
       "    }\n",
       "</style>\n",
       "<table border=\"1\" class=\"dataframe\">\n",
       "  <thead>\n",
       "    <tr style=\"text-align: right;\">\n",
       "      <th></th>\n",
       "      <th>AppointmentID</th>\n",
       "      <th>PatientId</th>\n",
       "      <th>Gender</th>\n",
       "      <th>ScheduledDay</th>\n",
       "      <th>Age</th>\n",
       "      <th>Neighbourhood</th>\n",
       "      <th>Scholarship</th>\n",
       "      <th>Hipertension</th>\n",
       "      <th>Diabetes</th>\n",
       "      <th>Alcoholism</th>\n",
       "      <th>Handcap</th>\n",
       "      <th>SMS_received</th>\n",
       "      <th>No_show</th>\n",
       "    </tr>\n",
       "  </thead>\n",
       "  <tbody>\n",
       "    <tr>\n",
       "      <th>0</th>\n",
       "      <td>5642903</td>\n",
       "      <td>2.987250e+13</td>\n",
       "      <td>F</td>\n",
       "      <td>2016-04-29T18:38:08Z</td>\n",
       "      <td>62</td>\n",
       "      <td>JARDIM DA PENHA</td>\n",
       "      <td>0</td>\n",
       "      <td>1</td>\n",
       "      <td>0</td>\n",
       "      <td>0</td>\n",
       "      <td>0</td>\n",
       "      <td>0</td>\n",
       "      <td>No</td>\n",
       "    </tr>\n",
       "    <tr>\n",
       "      <th>2</th>\n",
       "      <td>5642549</td>\n",
       "      <td>4.262962e+12</td>\n",
       "      <td>F</td>\n",
       "      <td>2016-04-29T16:19:04Z</td>\n",
       "      <td>62</td>\n",
       "      <td>MATA DA PRAIA</td>\n",
       "      <td>0</td>\n",
       "      <td>0</td>\n",
       "      <td>0</td>\n",
       "      <td>0</td>\n",
       "      <td>0</td>\n",
       "      <td>0</td>\n",
       "      <td>No</td>\n",
       "    </tr>\n",
       "  </tbody>\n",
       "</table>\n",
       "</div>"
      ],
      "text/plain": [
       "   AppointmentID     PatientId Gender          ScheduledDay  Age  \\\n",
       "0        5642903  2.987250e+13      F  2016-04-29T18:38:08Z   62   \n",
       "2        5642549  4.262962e+12      F  2016-04-29T16:19:04Z   62   \n",
       "\n",
       "     Neighbourhood  Scholarship  Hipertension  Diabetes  Alcoholism  Handcap  \\\n",
       "0  JARDIM DA PENHA            0             1         0           0        0   \n",
       "2    MATA DA PRAIA            0             0         0           0        0   \n",
       "\n",
       "   SMS_received No_show  \n",
       "0             0      No  \n",
       "2             0      No  "
      ]
     },
     "execution_count": 28,
     "metadata": {},
     "output_type": "execute_result"
    }
   ],
   "source": [
    "# Extract the appointments booked by males\n",
    "female_df = df_clean.query('Gender == \"F\"')\n",
    "female_df.head(2)"
   ]
  },
  {
   "cell_type": "code",
   "execution_count": 29,
   "id": "a8cda30c",
   "metadata": {
    "scrolled": true
   },
   "outputs": [
    {
     "data": {
      "text/html": [
       "<div>\n",
       "<style scoped>\n",
       "    .dataframe tbody tr th:only-of-type {\n",
       "        vertical-align: middle;\n",
       "    }\n",
       "\n",
       "    .dataframe tbody tr th {\n",
       "        vertical-align: top;\n",
       "    }\n",
       "\n",
       "    .dataframe thead th {\n",
       "        text-align: right;\n",
       "    }\n",
       "</style>\n",
       "<table border=\"1\" class=\"dataframe\">\n",
       "  <thead>\n",
       "    <tr style=\"text-align: right;\">\n",
       "      <th></th>\n",
       "      <th>AppointmentID</th>\n",
       "      <th>PatientId</th>\n",
       "      <th>Gender</th>\n",
       "      <th>ScheduledDay</th>\n",
       "      <th>Age</th>\n",
       "      <th>Neighbourhood</th>\n",
       "      <th>Scholarship</th>\n",
       "      <th>Hipertension</th>\n",
       "      <th>Diabetes</th>\n",
       "      <th>Alcoholism</th>\n",
       "      <th>Handcap</th>\n",
       "      <th>SMS_received</th>\n",
       "      <th>No_show</th>\n",
       "    </tr>\n",
       "  </thead>\n",
       "  <tbody>\n",
       "  </tbody>\n",
       "</table>\n",
       "</div>"
      ],
      "text/plain": [
       "Empty DataFrame\n",
       "Columns: [AppointmentID, PatientId, Gender, ScheduledDay, Age, Neighbourhood, Scholarship, Hipertension, Diabetes, Alcoholism, Handcap, SMS_received, No_show]\n",
       "Index: []"
      ]
     },
     "execution_count": 29,
     "metadata": {},
     "output_type": "execute_result"
    }
   ],
   "source": [
    "# Verify that there are no male entries in the female dataframe\n",
    "female_df.query('Gender == \"M\"')\n",
    "# This should display an empty dataset if there are no entries that have gender set as male."
   ]
  },
  {
   "cell_type": "markdown",
   "id": "5798b5d1",
   "metadata": {},
   "source": [
    "### Step 2: Calculate the proportion of male patients who showed up for the appointment"
   ]
  },
  {
   "cell_type": "markdown",
   "id": "115e4658",
   "metadata": {},
   "source": [
    "> Based on the description of the proportion function defined above, we need to obtain the **total number of male patients** and **the number of male patients who showed up for the appointments**"
   ]
  },
  {
   "cell_type": "code",
   "execution_count": 33,
   "id": "0a4284d9",
   "metadata": {},
   "outputs": [
    {
     "name": "stdout",
     "output_type": "stream",
     "text": [
      "38687\n",
      "30962\n"
     ]
    }
   ],
   "source": [
    "# Find the total number of male patients who made appointments\n",
    "total_males_appointments = male_df.AppointmentID.value_counts().sum()\n",
    "\n",
    "# Find the number of male patients who showed up for the appointments\n",
    "No_of_males_who_attended = male_df.query('No_show == \"No\"').value_counts().sum()\n",
    "\n",
    "# Print out the obtained values\n",
    "print(total_males_appointments)\n",
    "print(No_of_males_who_attended)"
   ]
  },
  {
   "cell_type": "code",
   "execution_count": 34,
   "id": "8c067568",
   "metadata": {},
   "outputs": [
    {
     "data": {
      "text/plain": [
       "0.8003205211052808"
      ]
     },
     "execution_count": 34,
     "metadata": {},
     "output_type": "execute_result"
    }
   ],
   "source": [
    "# Invoke the proportion function to calculate the proportion of male patients who showed up for the appointments\n",
    "prop_M_who_showed = proportion(total_males_appointments, No_of_males_who_attended)\n",
    "prop_M_who_showed"
   ]
  },
  {
   "cell_type": "markdown",
   "id": "19b9b100",
   "metadata": {},
   "source": [
    "### Step 3: Calculate the proportion of female patients who showed up for the appointment"
   ]
  },
  {
   "cell_type": "markdown",
   "id": "8410d10e",
   "metadata": {},
   "source": [
    "> This follows the same procedure as step 2 above"
   ]
  },
  {
   "cell_type": "code",
   "execution_count": 35,
   "id": "944297fe",
   "metadata": {},
   "outputs": [
    {
     "name": "stdout",
     "output_type": "stream",
     "text": [
      "71839\n",
      "57245\n"
     ]
    }
   ],
   "source": [
    "# Find the total number of female patients who made appointments\n",
    "total_females_appointments = female_df.AppointmentID.value_counts().sum()\n",
    "\n",
    "# Find the number of female patients who showed up for the appointments\n",
    "No_of_females_who_attended = female_df.query('No_show == \"No\"').value_counts().sum()\n",
    "\n",
    "# Print out the obtained values\n",
    "print(total_females_appointments)\n",
    "print(No_of_females_who_attended)"
   ]
  },
  {
   "cell_type": "code",
   "execution_count": 36,
   "id": "d25a353f",
   "metadata": {},
   "outputs": [
    {
     "data": {
      "text/plain": [
       "0.7968512924734475"
      ]
     },
     "execution_count": 36,
     "metadata": {},
     "output_type": "execute_result"
    }
   ],
   "source": [
    "# Invoke the proportion function to calculate the proportion\n",
    "prop_F_who_showed = proportion(total_females_appointments, No_of_females_who_attended)\n",
    "prop_F_who_showed"
   ]
  },
  {
   "cell_type": "markdown",
   "id": "0a715b35",
   "metadata": {},
   "source": [
    "> Comparing the results from step 2 and 3, we can tell that the proportion of male patients who showed up for their appointments is slightly higher than that of the female patients. To get a clear picture of how these two proportions vary, we need to visualize them using a bar graph."
   ]
  },
  {
   "cell_type": "markdown",
   "id": "49ba7123",
   "metadata": {},
   "source": [
    "### Step 4: Visualize the proportions"
   ]
  },
  {
   "cell_type": "code",
   "execution_count": 41,
   "id": "210cf66b",
   "metadata": {},
   "outputs": [
    {
     "data": {
      "image/png": "[encoded data removed]",
      "text/plain": [
       "<Figure size 432x288 with 1 Axes>"
      ]
     },
     "metadata": {
      "needs_background": "light"
     },
     "output_type": "display_data"
    }
   ],
   "source": [
    "genders = ['Male','Female']\n",
    "props = [prop_M_who_showed, prop_F_who_showed]\n",
    "colors = ['blue','Green']\n",
    "plt.bar(genders, props, color = colors)\n",
    "plt.title('Proportion of Male & Female who showed up for Appointments')\n",
    "plt.xlabel('Genders')\n",
    "plt.ylabel('Proportions')\n",
    "\n",
    "plt.show();"
   ]
  },
  {
   "cell_type": "markdown",
   "id": "ac492578",
   "metadata": {},
   "source": [
    "### Question 2 Response\n",
    "> The visualization aboe shows that the proportion of males who showed up for the appointment is almost equal to the proportion of the females who showed up for the appointment"
   ]
  },
  {
   "cell_type": "markdown",
   "id": "95c69b17",
   "metadata": {},
   "source": [
    "## Research Question 3: Are older patients more likely to show up for an appointment as compared to the younger patients?"
   ]
  },
  {
   "cell_type": "markdown",
   "id": "8de14181",
   "metadata": {},
   "source": [
    "> To respond to this question, we need to divide the cleaned dataset into two datasets, one to hold appointments for the older patients and one to hold the records for the younger patients. The young patients are those whose age is less than or equal to the median age while the older patients are those whose age falls above the median age. <br>\n",
    ">> **young_df** : Dataframe for the young patients <br>\n",
    ">> **older_df** : Datafram for the older patients"
   ]
  },
  {
   "cell_type": "markdown",
   "id": "1765a37a",
   "metadata": {},
   "source": [
    "### Step 1: Determine the median age"
   ]
  },
  {
   "cell_type": "code",
   "execution_count": 42,
   "id": "90d3c083",
   "metadata": {},
   "outputs": [
    {
     "data": {
      "text/plain": [
       "37.0"
      ]
     },
     "execution_count": 42,
     "metadata": {},
     "output_type": "execute_result"
    }
   ],
   "source": [
    "median_age = df_clean['Age'].median()\n",
    "median_age"
   ]
  },
  {
   "cell_type": "markdown",
   "id": "dfaf37ca",
   "metadata": {},
   "source": [
    "### Step 2: Separate the dataset"
   ]
  },
  {
   "cell_type": "code",
   "execution_count": 45,
   "id": "c4e7dc9c",
   "metadata": {},
   "outputs": [
    {
     "data": {
      "text/html": [
       "<div>\n",
       "<style scoped>\n",
       "    .dataframe tbody tr th:only-of-type {\n",
       "        vertical-align: middle;\n",
       "    }\n",
       "\n",
       "    .dataframe tbody tr th {\n",
       "        vertical-align: top;\n",
       "    }\n",
       "\n",
       "    .dataframe thead th {\n",
       "        text-align: right;\n",
       "    }\n",
       "</style>\n",
       "<table border=\"1\" class=\"dataframe\">\n",
       "  <thead>\n",
       "    <tr style=\"text-align: right;\">\n",
       "      <th></th>\n",
       "      <th>AppointmentID</th>\n",
       "      <th>PatientId</th>\n",
       "      <th>Gender</th>\n",
       "      <th>ScheduledDay</th>\n",
       "      <th>Age</th>\n",
       "      <th>Neighbourhood</th>\n",
       "      <th>Scholarship</th>\n",
       "      <th>Hipertension</th>\n",
       "      <th>Diabetes</th>\n",
       "      <th>Alcoholism</th>\n",
       "      <th>Handcap</th>\n",
       "      <th>SMS_received</th>\n",
       "      <th>No_show</th>\n",
       "    </tr>\n",
       "  </thead>\n",
       "  <tbody>\n",
       "    <tr>\n",
       "      <th>3</th>\n",
       "      <td>5642828</td>\n",
       "      <td>8.679512e+11</td>\n",
       "      <td>F</td>\n",
       "      <td>2016-04-29T17:29:31Z</td>\n",
       "      <td>8</td>\n",
       "      <td>PONTAL DE CAMBURI</td>\n",
       "      <td>0</td>\n",
       "      <td>0</td>\n",
       "      <td>0</td>\n",
       "      <td>0</td>\n",
       "      <td>0</td>\n",
       "      <td>0</td>\n",
       "      <td>No</td>\n",
       "    </tr>\n",
       "    <tr>\n",
       "      <th>6</th>\n",
       "      <td>5630279</td>\n",
       "      <td>7.336882e+14</td>\n",
       "      <td>F</td>\n",
       "      <td>2016-04-27T15:05:12Z</td>\n",
       "      <td>23</td>\n",
       "      <td>GOIABEIRAS</td>\n",
       "      <td>0</td>\n",
       "      <td>0</td>\n",
       "      <td>0</td>\n",
       "      <td>0</td>\n",
       "      <td>0</td>\n",
       "      <td>0</td>\n",
       "      <td>Yes</td>\n",
       "    </tr>\n",
       "  </tbody>\n",
       "</table>\n",
       "</div>"
      ],
      "text/plain": [
       "   AppointmentID     PatientId Gender          ScheduledDay  Age  \\\n",
       "3        5642828  8.679512e+11      F  2016-04-29T17:29:31Z    8   \n",
       "6        5630279  7.336882e+14      F  2016-04-27T15:05:12Z   23   \n",
       "\n",
       "       Neighbourhood  Scholarship  Hipertension  Diabetes  Alcoholism  \\\n",
       "3  PONTAL DE CAMBURI            0             0         0           0   \n",
       "6         GOIABEIRAS            0             0         0           0   \n",
       "\n",
       "   Handcap  SMS_received No_show  \n",
       "3        0             0      No  \n",
       "6        0             0     Yes  "
      ]
     },
     "execution_count": 45,
     "metadata": {},
     "output_type": "execute_result"
    }
   ],
   "source": [
    "# The young patients\n",
    "young_df = df_clean.query('Age <= {}'.format(median_age))\n",
    "young_df.head(2)"
   ]
  },
  {
   "cell_type": "code",
   "execution_count": 46,
   "id": "58bb9617",
   "metadata": {},
   "outputs": [
    {
     "data": {
      "text/html": [
       "<div>\n",
       "<style scoped>\n",
       "    .dataframe tbody tr th:only-of-type {\n",
       "        vertical-align: middle;\n",
       "    }\n",
       "\n",
       "    .dataframe tbody tr th {\n",
       "        vertical-align: top;\n",
       "    }\n",
       "\n",
       "    .dataframe thead th {\n",
       "        text-align: right;\n",
       "    }\n",
       "</style>\n",
       "<table border=\"1\" class=\"dataframe\">\n",
       "  <thead>\n",
       "    <tr style=\"text-align: right;\">\n",
       "      <th></th>\n",
       "      <th>AppointmentID</th>\n",
       "      <th>PatientId</th>\n",
       "      <th>Gender</th>\n",
       "      <th>ScheduledDay</th>\n",
       "      <th>Age</th>\n",
       "      <th>Neighbourhood</th>\n",
       "      <th>Scholarship</th>\n",
       "      <th>Hipertension</th>\n",
       "      <th>Diabetes</th>\n",
       "      <th>Alcoholism</th>\n",
       "      <th>Handcap</th>\n",
       "      <th>SMS_received</th>\n",
       "      <th>No_show</th>\n",
       "    </tr>\n",
       "  </thead>\n",
       "  <tbody>\n",
       "    <tr>\n",
       "      <th>0</th>\n",
       "      <td>5642903</td>\n",
       "      <td>2.987250e+13</td>\n",
       "      <td>F</td>\n",
       "      <td>2016-04-29T18:38:08Z</td>\n",
       "      <td>62</td>\n",
       "      <td>JARDIM DA PENHA</td>\n",
       "      <td>0</td>\n",
       "      <td>1</td>\n",
       "      <td>0</td>\n",
       "      <td>0</td>\n",
       "      <td>0</td>\n",
       "      <td>0</td>\n",
       "      <td>No</td>\n",
       "    </tr>\n",
       "    <tr>\n",
       "      <th>1</th>\n",
       "      <td>5642503</td>\n",
       "      <td>5.589978e+14</td>\n",
       "      <td>M</td>\n",
       "      <td>2016-04-29T16:08:27Z</td>\n",
       "      <td>56</td>\n",
       "      <td>JARDIM DA PENHA</td>\n",
       "      <td>0</td>\n",
       "      <td>0</td>\n",
       "      <td>0</td>\n",
       "      <td>0</td>\n",
       "      <td>0</td>\n",
       "      <td>0</td>\n",
       "      <td>No</td>\n",
       "    </tr>\n",
       "  </tbody>\n",
       "</table>\n",
       "</div>"
      ],
      "text/plain": [
       "   AppointmentID     PatientId Gender          ScheduledDay  Age  \\\n",
       "0        5642903  2.987250e+13      F  2016-04-29T18:38:08Z   62   \n",
       "1        5642503  5.589978e+14      M  2016-04-29T16:08:27Z   56   \n",
       "\n",
       "     Neighbourhood  Scholarship  Hipertension  Diabetes  Alcoholism  Handcap  \\\n",
       "0  JARDIM DA PENHA            0             1         0           0        0   \n",
       "1  JARDIM DA PENHA            0             0         0           0        0   \n",
       "\n",
       "   SMS_received No_show  \n",
       "0             0      No  \n",
       "1             0      No  "
      ]
     },
     "execution_count": 46,
     "metadata": {},
     "output_type": "execute_result"
    }
   ],
   "source": [
    "# The older patients\n",
    "older_df = df_clean.query('Age > {}'.format(median_age))\n",
    "older_df.head(2)"
   ]
  },
  {
   "cell_type": "code",
   "execution_count": 51,
   "id": "725e8bc3",
   "metadata": {},
   "outputs": [
    {
     "data": {
      "text/plain": [
       "True"
      ]
     },
     "execution_count": 51,
     "metadata": {},
     "output_type": "execute_result"
    }
   ],
   "source": [
    "# Verify that the two dataframes are disjoint\n",
    "(older_df.AppointmentID.value_counts().sum())+(young_df.AppointmentID.value_counts().sum()) == df_clean.AppointmentID.value_counts().sum()\n",
    "# This should return True if the two datasets are disjoint."
   ]
  },
  {
   "cell_type": "markdown",
   "id": "3256ae80",
   "metadata": {},
   "source": [
    "### Step 3: Find the proportion of young patients who showed up for appointments"
   ]
  },
  {
   "cell_type": "code",
   "execution_count": 56,
   "id": "00a40eb3",
   "metadata": {},
   "outputs": [
    {
     "data": {
      "text/plain": [
       "56116"
      ]
     },
     "execution_count": 56,
     "metadata": {},
     "output_type": "execute_result"
    }
   ],
   "source": [
    "# Find the total number of young patients\n",
    "total_young = young_df.AppointmentID.value_counts().sum()\n",
    "total_young"
   ]
  },
  {
   "cell_type": "code",
   "execution_count": 57,
   "id": "418ac7e2",
   "metadata": {},
   "outputs": [
    {
     "data": {
      "text/plain": [
       "43355"
      ]
     },
     "execution_count": 57,
     "metadata": {},
     "output_type": "execute_result"
    }
   ],
   "source": [
    "# Find the number of young patients who showed up for their appointments\n",
    "Num_Young_showed_up = young_df.query('No_show == \"No\"').value_counts().sum()\n",
    "Num_Young_showed_up"
   ]
  },
  {
   "cell_type": "code",
   "execution_count": 58,
   "id": "8bf547d7",
   "metadata": {},
   "outputs": [
    {
     "data": {
      "text/plain": [
       "0.7725960510371374"
      ]
     },
     "execution_count": 58,
     "metadata": {},
     "output_type": "execute_result"
    }
   ],
   "source": [
    "# Invoke the Proportion function to calculate the proportion of young patients who showed up for the appointment\n",
    "prop_young = proportion(total_young, Num_Young_showed_up)\n",
    "prop_young"
   ]
  },
  {
   "cell_type": "markdown",
   "id": "c3a0228e",
   "metadata": {},
   "source": [
    "### Step 4: Find the proportion of older patients who showed up for appointments"
   ]
  },
  {
   "cell_type": "code",
   "execution_count": 59,
   "id": "e17a1144",
   "metadata": {},
   "outputs": [
    {
     "data": {
      "text/plain": [
       "54410"
      ]
     },
     "execution_count": 59,
     "metadata": {},
     "output_type": "execute_result"
    }
   ],
   "source": [
    "# Find the total number of older patients\n",
    "total_older = older_df.AppointmentID.value_counts().sum()\n",
    "total_older"
   ]
  },
  {
   "cell_type": "code",
   "execution_count": 60,
   "id": "2a8f85cd",
   "metadata": {},
   "outputs": [
    {
     "data": {
      "text/plain": [
       "44852"
      ]
     },
     "execution_count": 60,
     "metadata": {},
     "output_type": "execute_result"
    }
   ],
   "source": [
    "# Find the number of young patients who showed up for their appointments\n",
    "Num_Older_showed_up = older_df.query('No_show == \"No\"').value_counts().sum()\n",
    "Num_Older_showed_up"
   ]
  },
  {
   "cell_type": "code",
   "execution_count": 61,
   "id": "336513aa",
   "metadata": {},
   "outputs": [
    {
     "data": {
      "text/plain": [
       "0.8243337621760706"
      ]
     },
     "execution_count": 61,
     "metadata": {},
     "output_type": "execute_result"
    }
   ],
   "source": [
    "# Invoke the Proportion function to calculate the proportion of older patients who showed up for the appointment\n",
    "prop_old = proportion(total_older, Num_Older_showed_up)\n",
    "prop_old"
   ]
  },
  {
   "cell_type": "markdown",
   "id": "198db8b9",
   "metadata": {},
   "source": [
    "> Comparing the results obtained in step 3 and step 4, it is evident that the proportion of older patients who showed up for their appointment is higher than that of the younger patients who showed up for the appointment. <br>\n",
    "**For better clarity, it is important to visualize these results**"
   ]
  },
  {
   "cell_type": "markdown",
   "id": "29a29ae2",
   "metadata": {},
   "source": [
    "### Step 5: Visualize the results"
   ]
  },
  {
   "cell_type": "code",
   "execution_count": 64,
   "id": "2781758d",
   "metadata": {},
   "outputs": [
    {
     "data": {
      "image/png": "[encoded data removed]",
      "text/plain": [
       "<Figure size 432x288 with 1 Axes>"
      ]
     },
     "metadata": {
      "needs_background": "light"
     },
     "output_type": "display_data"
    }
   ],
   "source": [
    "ages = ['Younger', 'Older']\n",
    "age_proportions = [prop_young, prop_old]\n",
    "colors = ['Blue', 'Green']\n",
    "plt.bar(ages, age_proportions, color=colors)\n",
    "plt.title('Proportion of Younger and Older patients who showed up for their appointments')\n",
    "plt.xlabel('Age Category')\n",
    "plt.ylabel('Proportions')\n",
    "\n",
    "plt.show();"
   ]
  },
  {
   "cell_type": "markdown",
   "id": "f3e098f9",
   "metadata": {},
   "source": [
    "> The visualization clearly shows that the proportion of older patients who showed up for their appointments was a bit higher as compared to that of the younger patients"
   ]
  },
  {
   "cell_type": "code",
   "execution_count": null,
   "id": "139b8384",
   "metadata": {},
   "outputs": [],
   "source": []
  }
 ],
 "metadata": {
  "kernelspec": {
   "display_name": "Python 3 (ipykernel)",
   "language": "python",
   "name": "python3"
  },
  "language_info": {
   "codemirror_mode": {
    "name": "ipython",
    "version": 3
   },
   "file_extension": ".py",
   "mimetype": "text/x-python",
   "name": "python",
   "nbconvert_exporter": "python",
   "pygments_lexer": "ipython3",
   "version": "3.9.12"
  }
 },
 "nbformat": 4,
 "nbformat_minor": 5
}
