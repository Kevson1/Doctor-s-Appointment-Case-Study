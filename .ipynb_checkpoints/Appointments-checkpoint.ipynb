{
 "cells": [
  {
   "cell_type": "markdown",
   "id": "c8415873",
   "metadata": {},
   "source": [
    "# Project: Hospital Data Analysis\n",
    "\n",
    "## Table of Contents\n",
    "<ul>\n",
    "  <li><a href=\"#introduction\">Introduction</a></li>\n",
    "  <li><a href=\"#wrangling\">Data Wrangling</a></li>\n",
    "  <li><a href=\"#eda\">Exploratory Data Analysis</a></li>\n",
    "  <li><a href=\"#conclusion\">Conclusion</a></li>\n",
    "</ul>"
   ]
  },
  {
   "cell_type": "markdown",
   "id": "3b4e2d00",
   "metadata": {},
   "source": [
    "<a id=\"introduction\"></a>\n",
    "## Introduction\n",
    "> This analysis focuses on examining the **No-Show appointments** data from Kaggle. In the dataset, about 100,000 medical appointment records from Brazil have been featured. The information captured in the dataset include the patient's **id, Appointment Id, Gender, ScheduledDay, AppointmentDay, Age, Neighbourhood, Scholarship, Hipertension, Diabetes, Alcoholism, Handcap, SMS_received, No-show**\n",
    "> ### Definition of important variables.\n",
    ">> _Gender_: Describes whether the patient is **male** or **female**. <br>\n",
    ">> _ScheduledDay_: Tells us on what day the patient set up their appointment. <br>\n",
    ">> _Age_: Indicates the patients age. <br>\n",
    ">> _Neighbourhood_: Indicates the location of the hospital. <br>\n",
    ">> _Scholarship_: Indicates whether or not the patient is enrolled in Brasilian welfare program Bolsa Família. <br>\n",
    ">> _Hipertension_: Indicates whether a patient has Hipertension or not <br>\n",
    ">> _Diabetes_: Indicates whether a patient is diabetic or not. <br>\n",
    ">> _Alcoholism_: Indicates whether a patient alcoholic or not. <br>\n",
    ">> _Handcap_: Indicates whether a patient is Handcapped or not. <br>\n",
    ">> _SMS_received_: Indicates whether a patient received sms notifications about the appointment or not. <br>\n",
    ">> _No-show_: Indicates whether a patient showed up for their appointment or not. <br>\n",
    ">>> #### Important Points to Note:\n",
    ">>>> 1. For the _Scholarship_, _Hipertension_, _Diabetes_, _Alcoholism_, _Handcap_, and _SMS_received_ fields, **1 = Yes** and **0 = No**\n",
    ">>>> 2. For the _No-show_ field, **No = The patient showed up for the appointment** and **yes = The patient did not show up for the appointment**\n",
    "> ### Questions to be answered.\n",
    ">> Q1: Do patients of particular age groups book appointments more frequently than others? <br>\n",
    ">> Q2: Are male patients more likely to show up for an appointment as compared to female patients? <br>\n",
    ">> Q3: Are older patients more likely to show up for an appointment as compared to the younger patients? <br>\n",
    ">> Q4: How do the location of a hospital affect appointment attendance? <br>\n",
    ">> Q5: Are patients who are enrolled in Brasilian welfare program more likely to show up for scheduled appointments? <br>\n",
    ">> Q6: How do positive diagnosis of health conditions such as hipertension, Diabetes, Alcoholism, and Handcap affect appointment attendance? <br>"
   ]
  },
  {
   "cell_type": "code",
   "execution_count": 1,
   "id": "69d0d20d",
   "metadata": {},
   "outputs": [],
   "source": [
    "# Import the required libraries\n",
    "import pandas as pd\n",
    "import numpy as np\n",
    "import matplotlib.pyplot as plt\n",
    "import seaborn as sns\n",
    "\n",
    "from pandas import Series\n",
    "from matplotlib.pyplot import figure\n",
    "\n",
    "%matplotlib inline"
   ]
  },
  {
   "cell_type": "markdown",
   "id": "95eca775",
   "metadata": {},
   "source": [
    "<a id=\"wrangling\"></a>\n",
    "# Data Wrangling"
   ]
  },
  {
   "cell_type": "markdown",
   "id": "f5a1fe14",
   "metadata": {},
   "source": [
    "## General Properties"
   ]
  },
  {
   "cell_type": "code",
   "execution_count": 2,
   "id": "8ff3a86d",
   "metadata": {},
   "outputs": [
    {
     "data": {
      "text/html": [
       "<div>\n",
       "<style scoped>\n",
       "    .dataframe tbody tr th:only-of-type {\n",
       "        vertical-align: middle;\n",
       "    }\n",
       "\n",
       "    .dataframe tbody tr th {\n",
       "        vertical-align: top;\n",
       "    }\n",
       "\n",
       "    .dataframe thead th {\n",
       "        text-align: right;\n",
       "    }\n",
       "</style>\n",
       "<table border=\"1\" class=\"dataframe\">\n",
       "  <thead>\n",
       "    <tr style=\"text-align: right;\">\n",
       "      <th></th>\n",
       "      <th>PatientId</th>\n",
       "      <th>AppointmentID</th>\n",
       "      <th>Gender</th>\n",
       "      <th>ScheduledDay</th>\n",
       "      <th>AppointmentDay</th>\n",
       "      <th>Age</th>\n",
       "      <th>Neighbourhood</th>\n",
       "      <th>Scholarship</th>\n",
       "      <th>Hipertension</th>\n",
       "      <th>Diabetes</th>\n",
       "      <th>Alcoholism</th>\n",
       "      <th>Handcap</th>\n",
       "      <th>SMS_received</th>\n",
       "      <th>No-show</th>\n",
       "    </tr>\n",
       "  </thead>\n",
       "  <tbody>\n",
       "    <tr>\n",
       "      <th>0</th>\n",
       "      <td>2.987250e+13</td>\n",
       "      <td>5642903</td>\n",
       "      <td>F</td>\n",
       "      <td>2016-04-29T18:38:08Z</td>\n",
       "      <td>2016-04-29T00:00:00Z</td>\n",
       "      <td>62</td>\n",
       "      <td>JARDIM DA PENHA</td>\n",
       "      <td>0</td>\n",
       "      <td>1</td>\n",
       "      <td>0</td>\n",
       "      <td>0</td>\n",
       "      <td>0</td>\n",
       "      <td>0</td>\n",
       "      <td>No</td>\n",
       "    </tr>\n",
       "    <tr>\n",
       "      <th>1</th>\n",
       "      <td>5.589978e+14</td>\n",
       "      <td>5642503</td>\n",
       "      <td>M</td>\n",
       "      <td>2016-04-29T16:08:27Z</td>\n",
       "      <td>2016-04-29T00:00:00Z</td>\n",
       "      <td>56</td>\n",
       "      <td>JARDIM DA PENHA</td>\n",
       "      <td>0</td>\n",
       "      <td>0</td>\n",
       "      <td>0</td>\n",
       "      <td>0</td>\n",
       "      <td>0</td>\n",
       "      <td>0</td>\n",
       "      <td>No</td>\n",
       "    </tr>\n",
       "    <tr>\n",
       "      <th>2</th>\n",
       "      <td>4.262962e+12</td>\n",
       "      <td>5642549</td>\n",
       "      <td>F</td>\n",
       "      <td>2016-04-29T16:19:04Z</td>\n",
       "      <td>2016-04-29T00:00:00Z</td>\n",
       "      <td>62</td>\n",
       "      <td>MATA DA PRAIA</td>\n",
       "      <td>0</td>\n",
       "      <td>0</td>\n",
       "      <td>0</td>\n",
       "      <td>0</td>\n",
       "      <td>0</td>\n",
       "      <td>0</td>\n",
       "      <td>No</td>\n",
       "    </tr>\n",
       "    <tr>\n",
       "      <th>3</th>\n",
       "      <td>8.679512e+11</td>\n",
       "      <td>5642828</td>\n",
       "      <td>F</td>\n",
       "      <td>2016-04-29T17:29:31Z</td>\n",
       "      <td>2016-04-29T00:00:00Z</td>\n",
       "      <td>8</td>\n",
       "      <td>PONTAL DE CAMBURI</td>\n",
       "      <td>0</td>\n",
       "      <td>0</td>\n",
       "      <td>0</td>\n",
       "      <td>0</td>\n",
       "      <td>0</td>\n",
       "      <td>0</td>\n",
       "      <td>No</td>\n",
       "    </tr>\n",
       "    <tr>\n",
       "      <th>4</th>\n",
       "      <td>8.841186e+12</td>\n",
       "      <td>5642494</td>\n",
       "      <td>F</td>\n",
       "      <td>2016-04-29T16:07:23Z</td>\n",
       "      <td>2016-04-29T00:00:00Z</td>\n",
       "      <td>56</td>\n",
       "      <td>JARDIM DA PENHA</td>\n",
       "      <td>0</td>\n",
       "      <td>1</td>\n",
       "      <td>1</td>\n",
       "      <td>0</td>\n",
       "      <td>0</td>\n",
       "      <td>0</td>\n",
       "      <td>No</td>\n",
       "    </tr>\n",
       "  </tbody>\n",
       "</table>\n",
       "</div>"
      ],
      "text/plain": [
       "      PatientId  AppointmentID Gender          ScheduledDay  \\\n",
       "0  2.987250e+13        5642903      F  2016-04-29T18:38:08Z   \n",
       "1  5.589978e+14        5642503      M  2016-04-29T16:08:27Z   \n",
       "2  4.262962e+12        5642549      F  2016-04-29T16:19:04Z   \n",
       "3  8.679512e+11        5642828      F  2016-04-29T17:29:31Z   \n",
       "4  8.841186e+12        5642494      F  2016-04-29T16:07:23Z   \n",
       "\n",
       "         AppointmentDay  Age      Neighbourhood  Scholarship  Hipertension  \\\n",
       "0  2016-04-29T00:00:00Z   62    JARDIM DA PENHA            0             1   \n",
       "1  2016-04-29T00:00:00Z   56    JARDIM DA PENHA            0             0   \n",
       "2  2016-04-29T00:00:00Z   62      MATA DA PRAIA            0             0   \n",
       "3  2016-04-29T00:00:00Z    8  PONTAL DE CAMBURI            0             0   \n",
       "4  2016-04-29T00:00:00Z   56    JARDIM DA PENHA            0             1   \n",
       "\n",
       "   Diabetes  Alcoholism  Handcap  SMS_received No-show  \n",
       "0         0           0        0             0      No  \n",
       "1         0           0        0             0      No  \n",
       "2         0           0        0             0      No  \n",
       "3         0           0        0             0      No  \n",
       "4         1           0        0             0      No  "
      ]
     },
     "execution_count": 2,
     "metadata": {},
     "output_type": "execute_result"
    }
   ],
   "source": [
    "# Loading the data and set the 'AppointmentID' as the index\n",
    "df = pd.read_csv('Dataset/appointments_data.csv')\n",
    "\n",
    "# Verify that the data was loaded successfully\n",
    "df.head()"
   ]
  },
  {
   "cell_type": "code",
   "execution_count": 3,
   "id": "761c933c",
   "metadata": {
    "scrolled": false
   },
   "outputs": [
    {
     "data": {
      "text/plain": [
       "PatientId         float64\n",
       "AppointmentID       int64\n",
       "Gender             object\n",
       "ScheduledDay       object\n",
       "AppointmentDay     object\n",
       "Age                 int64\n",
       "Neighbourhood      object\n",
       "Scholarship         int64\n",
       "Hipertension        int64\n",
       "Diabetes            int64\n",
       "Alcoholism          int64\n",
       "Handcap             int64\n",
       "SMS_received        int64\n",
       "No-show            object\n",
       "dtype: object"
      ]
     },
     "execution_count": 3,
     "metadata": {},
     "output_type": "execute_result"
    }
   ],
   "source": [
    "# Examine the datatypes of the data in every column in the dataset\n",
    "df.dtypes"
   ]
  },
  {
   "cell_type": "markdown",
   "id": "fec60ac3",
   "metadata": {},
   "source": [
    "> All the numerical columns in the dataset are set as integers while the columns with text data are set to string as required."
   ]
  },
  {
   "cell_type": "code",
   "execution_count": 4,
   "id": "f838265b",
   "metadata": {},
   "outputs": [
    {
     "data": {
      "text/plain": [
       "count    110527.000000\n",
       "mean         37.088874\n",
       "std          23.110205\n",
       "min          -1.000000\n",
       "25%          18.000000\n",
       "50%          37.000000\n",
       "75%          55.000000\n",
       "max         115.000000\n",
       "Name: Age, dtype: float64"
      ]
     },
     "execution_count": 4,
     "metadata": {},
     "output_type": "execute_result"
    }
   ],
   "source": [
    "# Descrptive summary for patient ages\n",
    "df.Age.describe()"
   ]
  },
  {
   "cell_type": "markdown",
   "id": "df7d384d",
   "metadata": {},
   "source": [
    "> This summary indicates that the minimum age entry is -1 years while the maximum age entry is 115 years.\n",
    "> **-1 is not a reasonable age and therefore needs some cleaning attention**"
   ]
  },
  {
   "cell_type": "code",
   "execution_count": 5,
   "id": "97817de4",
   "metadata": {},
   "outputs": [
    {
     "data": {
      "text/plain": [
       "(110527, 14)"
      ]
     },
     "execution_count": 5,
     "metadata": {},
     "output_type": "execute_result"
    }
   ],
   "source": [
    "# Examine the number of columns and rows in the data\n",
    "df.shape"
   ]
  },
  {
   "cell_type": "markdown",
   "id": "2f97912e",
   "metadata": {},
   "source": [
    "> The dataset has 14 columns and 110527 entries"
   ]
  },
  {
   "cell_type": "code",
   "execution_count": 6,
   "id": "390ff37c",
   "metadata": {},
   "outputs": [
    {
     "data": {
      "text/plain": [
       "0"
      ]
     },
     "execution_count": 6,
     "metadata": {},
     "output_type": "execute_result"
    }
   ],
   "source": [
    "# Check whether the data has any duplicated records\n",
    "df.duplicated().sum()"
   ]
  },
  {
   "cell_type": "markdown",
   "id": "55788fa4",
   "metadata": {},
   "source": [
    "> The dataset has no duplicated records"
   ]
  },
  {
   "cell_type": "code",
   "execution_count": 7,
   "id": "91f0a0ec",
   "metadata": {
    "scrolled": true
   },
   "outputs": [
    {
     "data": {
      "text/plain": [
       "PatientId         0\n",
       "AppointmentID     0\n",
       "Gender            0\n",
       "ScheduledDay      0\n",
       "AppointmentDay    0\n",
       "Age               0\n",
       "Neighbourhood     0\n",
       "Scholarship       0\n",
       "Hipertension      0\n",
       "Diabetes          0\n",
       "Alcoholism        0\n",
       "Handcap           0\n",
       "SMS_received      0\n",
       "No-show           0\n",
       "dtype: int64"
      ]
     },
     "execution_count": 7,
     "metadata": {},
     "output_type": "execute_result"
    }
   ],
   "source": [
    "# check for records with null values.\n",
    "df.isnull().sum()"
   ]
  },
  {
   "cell_type": "markdown",
   "id": "5002108c",
   "metadata": {},
   "source": [
    "> There are no null values in the dataset."
   ]
  },
  {
   "cell_type": "code",
   "execution_count": 8,
   "id": "4586458b",
   "metadata": {},
   "outputs": [
    {
     "data": {
      "text/plain": [
       "110527"
      ]
     },
     "execution_count": 8,
     "metadata": {},
     "output_type": "execute_result"
    }
   ],
   "source": [
    "# Check the number of unique appointments record by appointment id\n",
    "df['AppointmentID'].nunique()"
   ]
  },
  {
   "cell_type": "markdown",
   "id": "a04ec785",
   "metadata": {},
   "source": [
    "> There are 110527 unique appoint records in the dataset"
   ]
  },
  {
   "cell_type": "code",
   "execution_count": 9,
   "id": "33784d1d",
   "metadata": {},
   "outputs": [
    {
     "data": {
      "text/plain": [
       "62299"
      ]
     },
     "execution_count": 9,
     "metadata": {},
     "output_type": "execute_result"
    }
   ],
   "source": [
    "# How many unique patients are captured in the dataset?\n",
    "df['PatientId'].nunique()"
   ]
  },
  {
   "cell_type": "markdown",
   "id": "b5bc3898",
   "metadata": {},
   "source": [
    "> 62,299 unique patients have been captured in the dataset. <br>\n",
    "> - This shows that some patients set more than one appointments."
   ]
  },
  {
   "cell_type": "code",
   "execution_count": 10,
   "id": "00b4c66c",
   "metadata": {},
   "outputs": [
    {
     "data": {
      "text/plain": [
       "0    88726\n",
       "1    21801\n",
       "Name: Hipertension, dtype: int64"
      ]
     },
     "execution_count": 10,
     "metadata": {},
     "output_type": "execute_result"
    }
   ],
   "source": [
    "# How many appointments were made by patients with hipertension in the dataset?\n",
    "df['Hipertension'].value_counts()"
   ]
  },
  {
   "cell_type": "markdown",
   "id": "f257fa48",
   "metadata": {},
   "source": [
    "> Of all the appointments that were recorded, 21,810 appointments were made by patients who had hipertension."
   ]
  },
  {
   "cell_type": "code",
   "execution_count": 11,
   "id": "f059b719",
   "metadata": {},
   "outputs": [
    {
     "data": {
      "text/plain": [
       "0    99666\n",
       "1    10861\n",
       "Name: Scholarship, dtype: int64"
      ]
     },
     "execution_count": 11,
     "metadata": {},
     "output_type": "execute_result"
    }
   ],
   "source": [
    "# How many appointments were made by patients with Scholarship?\n",
    "df['Scholarship'].value_counts()"
   ]
  },
  {
   "cell_type": "markdown",
   "id": "2be5adff",
   "metadata": {},
   "source": [
    "> Of all the appointments that were recorded, 10861 appointments were made by patients who had enrolled in Brasilian welfare program Bolsa Família."
   ]
  },
  {
   "cell_type": "code",
   "execution_count": 12,
   "id": "991467a9",
   "metadata": {},
   "outputs": [
    {
     "data": {
      "text/plain": [
       "0    107167\n",
       "1      3360\n",
       "Name: Alcoholism, dtype: int64"
      ]
     },
     "execution_count": 12,
     "metadata": {},
     "output_type": "execute_result"
    }
   ],
   "source": [
    "# How many appointments were made by patients with alcoholism?\n",
    "df.Alcoholism.value_counts()\n"
   ]
  },
  {
   "cell_type": "markdown",
   "id": "80f08c79",
   "metadata": {},
   "source": [
    "> Of the appointments that were made, 3360 from patients with alcoholism."
   ]
  },
  {
   "cell_type": "code",
   "execution_count": 13,
   "id": "a34e8419",
   "metadata": {},
   "outputs": [
    {
     "data": {
      "text/plain": [
       "0    75045\n",
       "1    35482\n",
       "Name: SMS_received, dtype: int64"
      ]
     },
     "execution_count": 13,
     "metadata": {},
     "output_type": "execute_result"
    }
   ],
   "source": [
    "# How many appointments were made by patients who had received SMS?\n",
    "df.SMS_received.value_counts()"
   ]
  },
  {
   "cell_type": "markdown",
   "id": "70826f06",
   "metadata": {},
   "source": [
    "> Of all the appointments that were made, 35,482 were made by individuals who received SMS"
   ]
  },
  {
   "cell_type": "markdown",
   "id": "9f21ec2a",
   "metadata": {},
   "source": [
    "### _**Cleaning Remarks:**_ The dataset :-\n",
    "> 1. Does not have any duplicated records. <br>\n",
    "> 2. Has no null values. <br>\n",
    "> 3. Has all the columns set to the correct datatypes <br>\n",
    "> 4. Has one erroneous age entry, **-1**, which needs to be removed. <br>\n",
    "> 5. Has the last column named **No-show** instead of **No_show**. This needs to be addressed <br>\n",
    "> 6. Has some columns that we may not be needed in the analysis process. <br>\n",
    "> 7. Needs to have the `AppointmentId` field set as the index. <br>\n",
    "**In the data cleaning step, we need to address remarks 4, 5, 6, and 7**"
   ]
  },
  {
   "cell_type": "markdown",
   "id": "a494fc50",
   "metadata": {},
   "source": [
    "## Data cleaning"
   ]
  },
  {
   "cell_type": "code",
   "execution_count": 14,
   "id": "04ea8cc0",
   "metadata": {
    "scrolled": true
   },
   "outputs": [
    {
     "data": {
      "text/html": [
       "<div>\n",
       "<style scoped>\n",
       "    .dataframe tbody tr th:only-of-type {\n",
       "        vertical-align: middle;\n",
       "    }\n",
       "\n",
       "    .dataframe tbody tr th {\n",
       "        vertical-align: top;\n",
       "    }\n",
       "\n",
       "    .dataframe thead th {\n",
       "        text-align: right;\n",
       "    }\n",
       "</style>\n",
       "<table border=\"1\" class=\"dataframe\">\n",
       "  <thead>\n",
       "    <tr style=\"text-align: right;\">\n",
       "      <th></th>\n",
       "      <th>PatientId</th>\n",
       "      <th>AppointmentID</th>\n",
       "      <th>Gender</th>\n",
       "      <th>ScheduledDay</th>\n",
       "      <th>AppointmentDay</th>\n",
       "      <th>Age</th>\n",
       "      <th>Neighbourhood</th>\n",
       "      <th>Scholarship</th>\n",
       "      <th>Hipertension</th>\n",
       "      <th>Diabetes</th>\n",
       "      <th>Alcoholism</th>\n",
       "      <th>Handcap</th>\n",
       "      <th>SMS_received</th>\n",
       "      <th>No-show</th>\n",
       "    </tr>\n",
       "  </thead>\n",
       "  <tbody>\n",
       "    <tr>\n",
       "      <th>0</th>\n",
       "      <td>2.987250e+13</td>\n",
       "      <td>5642903</td>\n",
       "      <td>F</td>\n",
       "      <td>2016-04-29T18:38:08Z</td>\n",
       "      <td>2016-04-29T00:00:00Z</td>\n",
       "      <td>62</td>\n",
       "      <td>JARDIM DA PENHA</td>\n",
       "      <td>0</td>\n",
       "      <td>1</td>\n",
       "      <td>0</td>\n",
       "      <td>0</td>\n",
       "      <td>0</td>\n",
       "      <td>0</td>\n",
       "      <td>No</td>\n",
       "    </tr>\n",
       "    <tr>\n",
       "      <th>1</th>\n",
       "      <td>5.589978e+14</td>\n",
       "      <td>5642503</td>\n",
       "      <td>M</td>\n",
       "      <td>2016-04-29T16:08:27Z</td>\n",
       "      <td>2016-04-29T00:00:00Z</td>\n",
       "      <td>56</td>\n",
       "      <td>JARDIM DA PENHA</td>\n",
       "      <td>0</td>\n",
       "      <td>0</td>\n",
       "      <td>0</td>\n",
       "      <td>0</td>\n",
       "      <td>0</td>\n",
       "      <td>0</td>\n",
       "      <td>No</td>\n",
       "    </tr>\n",
       "    <tr>\n",
       "      <th>2</th>\n",
       "      <td>4.262962e+12</td>\n",
       "      <td>5642549</td>\n",
       "      <td>F</td>\n",
       "      <td>2016-04-29T16:19:04Z</td>\n",
       "      <td>2016-04-29T00:00:00Z</td>\n",
       "      <td>62</td>\n",
       "      <td>MATA DA PRAIA</td>\n",
       "      <td>0</td>\n",
       "      <td>0</td>\n",
       "      <td>0</td>\n",
       "      <td>0</td>\n",
       "      <td>0</td>\n",
       "      <td>0</td>\n",
       "      <td>No</td>\n",
       "    </tr>\n",
       "  </tbody>\n",
       "</table>\n",
       "</div>"
      ],
      "text/plain": [
       "      PatientId  AppointmentID Gender          ScheduledDay  \\\n",
       "0  2.987250e+13        5642903      F  2016-04-29T18:38:08Z   \n",
       "1  5.589978e+14        5642503      M  2016-04-29T16:08:27Z   \n",
       "2  4.262962e+12        5642549      F  2016-04-29T16:19:04Z   \n",
       "\n",
       "         AppointmentDay  Age    Neighbourhood  Scholarship  Hipertension  \\\n",
       "0  2016-04-29T00:00:00Z   62  JARDIM DA PENHA            0             1   \n",
       "1  2016-04-29T00:00:00Z   56  JARDIM DA PENHA            0             0   \n",
       "2  2016-04-29T00:00:00Z   62    MATA DA PRAIA            0             0   \n",
       "\n",
       "   Diabetes  Alcoholism  Handcap  SMS_received No-show  \n",
       "0         0           0        0             0      No  \n",
       "1         0           0        0             0      No  \n",
       "2         0           0        0             0      No  "
      ]
     },
     "execution_count": 14,
     "metadata": {},
     "output_type": "execute_result"
    }
   ],
   "source": [
    "# Make a copy of the original dataset\n",
    "df_new = df.copy()\n",
    "\n",
    "# Verify that the data was copied successfully\n",
    "df_new.head(3)"
   ]
  },
  {
   "cell_type": "code",
   "execution_count": 15,
   "id": "785634b4",
   "metadata": {},
   "outputs": [
    {
     "data": {
      "text/plain": [
       "Index(['PatientId', 'AppointmentID', 'Gender', 'ScheduledDay',\n",
       "       'AppointmentDay', 'Age', 'Neighbourhood', 'Scholarship', 'Hipertension',\n",
       "       'Diabetes', 'Alcoholism', 'Handcap', 'SMS_received', 'No-show'],\n",
       "      dtype='object')"
      ]
     },
     "execution_count": 15,
     "metadata": {},
     "output_type": "execute_result"
    }
   ],
   "source": [
    "# Display all the columns for ease of reference\n",
    "df_new.columns"
   ]
  },
  {
   "cell_type": "markdown",
   "id": "fe3e1495",
   "metadata": {},
   "source": [
    "> We need to drop the `AppointmentDay` column."
   ]
  },
  {
   "cell_type": "markdown",
   "id": "2d2da402",
   "metadata": {},
   "source": [
    "### Dropping the `AppointmentDay` column"
   ]
  },
  {
   "cell_type": "code",
   "execution_count": 16,
   "id": "d24c34ce",
   "metadata": {},
   "outputs": [
    {
     "data": {
      "text/plain": [
       "Index(['PatientId', 'AppointmentID', 'Gender', 'ScheduledDay', 'Age',\n",
       "       'Neighbourhood', 'Scholarship', 'Hipertension', 'Diabetes',\n",
       "       'Alcoholism', 'Handcap', 'SMS_received', 'No-show'],\n",
       "      dtype='object')"
      ]
     },
     "execution_count": 16,
     "metadata": {},
     "output_type": "execute_result"
    }
   ],
   "source": [
    "# Drop the columns\n",
    "df_new.drop(columns='AppointmentDay', axis=1, inplace=True)\n",
    "\n",
    "# Verify that the columns were dropped successfully\n",
    "df_new.columns"
   ]
  },
  {
   "cell_type": "markdown",
   "id": "7d0c3836",
   "metadata": {},
   "source": [
    "### Dropping the record with an erroneous age entry"
   ]
  },
  {
   "cell_type": "code",
   "execution_count": 17,
   "id": "d8e0236f",
   "metadata": {
    "scrolled": true
   },
   "outputs": [
    {
     "data": {
      "text/html": [
       "<div>\n",
       "<style scoped>\n",
       "    .dataframe tbody tr th:only-of-type {\n",
       "        vertical-align: middle;\n",
       "    }\n",
       "\n",
       "    .dataframe tbody tr th {\n",
       "        vertical-align: top;\n",
       "    }\n",
       "\n",
       "    .dataframe thead th {\n",
       "        text-align: right;\n",
       "    }\n",
       "</style>\n",
       "<table border=\"1\" class=\"dataframe\">\n",
       "  <thead>\n",
       "    <tr style=\"text-align: right;\">\n",
       "      <th></th>\n",
       "      <th>PatientId</th>\n",
       "      <th>AppointmentID</th>\n",
       "      <th>Gender</th>\n",
       "      <th>ScheduledDay</th>\n",
       "      <th>Age</th>\n",
       "      <th>Neighbourhood</th>\n",
       "      <th>Scholarship</th>\n",
       "      <th>Hipertension</th>\n",
       "      <th>Diabetes</th>\n",
       "      <th>Alcoholism</th>\n",
       "      <th>Handcap</th>\n",
       "      <th>SMS_received</th>\n",
       "      <th>No-show</th>\n",
       "    </tr>\n",
       "  </thead>\n",
       "  <tbody>\n",
       "    <tr>\n",
       "      <th>99832</th>\n",
       "      <td>4.659432e+14</td>\n",
       "      <td>5775010</td>\n",
       "      <td>F</td>\n",
       "      <td>2016-06-06T08:58:13Z</td>\n",
       "      <td>-1</td>\n",
       "      <td>ROMÃO</td>\n",
       "      <td>0</td>\n",
       "      <td>0</td>\n",
       "      <td>0</td>\n",
       "      <td>0</td>\n",
       "      <td>0</td>\n",
       "      <td>0</td>\n",
       "      <td>No</td>\n",
       "    </tr>\n",
       "  </tbody>\n",
       "</table>\n",
       "</div>"
      ],
      "text/plain": [
       "          PatientId  AppointmentID Gender          ScheduledDay  Age  \\\n",
       "99832  4.659432e+14        5775010      F  2016-06-06T08:58:13Z   -1   \n",
       "\n",
       "      Neighbourhood  Scholarship  Hipertension  Diabetes  Alcoholism  Handcap  \\\n",
       "99832         ROMÃO            0             0         0           0        0   \n",
       "\n",
       "       SMS_received No-show  \n",
       "99832             0      No  "
      ]
     },
     "execution_count": 17,
     "metadata": {},
     "output_type": "execute_result"
    }
   ],
   "source": [
    "# View the Record\n",
    "odd_age = df_new.query('Age < 0')\n",
    "odd_age"
   ]
  },
  {
   "cell_type": "code",
   "execution_count": 18,
   "id": "259a7617",
   "metadata": {},
   "outputs": [
    {
     "data": {
      "text/html": [
       "<div>\n",
       "<style scoped>\n",
       "    .dataframe tbody tr th:only-of-type {\n",
       "        vertical-align: middle;\n",
       "    }\n",
       "\n",
       "    .dataframe tbody tr th {\n",
       "        vertical-align: top;\n",
       "    }\n",
       "\n",
       "    .dataframe thead th {\n",
       "        text-align: right;\n",
       "    }\n",
       "</style>\n",
       "<table border=\"1\" class=\"dataframe\">\n",
       "  <thead>\n",
       "    <tr style=\"text-align: right;\">\n",
       "      <th></th>\n",
       "      <th>PatientId</th>\n",
       "      <th>AppointmentID</th>\n",
       "      <th>Gender</th>\n",
       "      <th>ScheduledDay</th>\n",
       "      <th>Age</th>\n",
       "      <th>Neighbourhood</th>\n",
       "      <th>Scholarship</th>\n",
       "      <th>Hipertension</th>\n",
       "      <th>Diabetes</th>\n",
       "      <th>Alcoholism</th>\n",
       "      <th>Handcap</th>\n",
       "      <th>SMS_received</th>\n",
       "      <th>No-show</th>\n",
       "    </tr>\n",
       "  </thead>\n",
       "  <tbody>\n",
       "  </tbody>\n",
       "</table>\n",
       "</div>"
      ],
      "text/plain": [
       "Empty DataFrame\n",
       "Columns: [PatientId, AppointmentID, Gender, ScheduledDay, Age, Neighbourhood, Scholarship, Hipertension, Diabetes, Alcoholism, Handcap, SMS_received, No-show]\n",
       "Index: []"
      ]
     },
     "execution_count": 18,
     "metadata": {},
     "output_type": "execute_result"
    }
   ],
   "source": [
    "# Drop the Record\n",
    "df_new.drop(odd_age.index, inplace=True)\n",
    "\n",
    "# Verify that the entry was dropped\n",
    "df_new.query('Age < 0') # This should return an empty dataset if the drop was successful"
   ]
  },
  {
   "cell_type": "markdown",
   "id": "ee5505df",
   "metadata": {},
   "source": [
    "### Set `AppointmentID` as the index column"
   ]
  },
  {
   "cell_type": "code",
   "execution_count": 19,
   "id": "1cd744fe",
   "metadata": {
    "scrolled": true
   },
   "outputs": [
    {
     "data": {
      "text/html": [
       "<div>\n",
       "<style scoped>\n",
       "    .dataframe tbody tr th:only-of-type {\n",
       "        vertical-align: middle;\n",
       "    }\n",
       "\n",
       "    .dataframe tbody tr th {\n",
       "        vertical-align: top;\n",
       "    }\n",
       "\n",
       "    .dataframe thead th {\n",
       "        text-align: right;\n",
       "    }\n",
       "</style>\n",
       "<table border=\"1\" class=\"dataframe\">\n",
       "  <thead>\n",
       "    <tr style=\"text-align: right;\">\n",
       "      <th></th>\n",
       "      <th>PatientId</th>\n",
       "      <th>Gender</th>\n",
       "      <th>ScheduledDay</th>\n",
       "      <th>Age</th>\n",
       "      <th>Neighbourhood</th>\n",
       "      <th>Scholarship</th>\n",
       "      <th>Hipertension</th>\n",
       "      <th>Diabetes</th>\n",
       "      <th>Alcoholism</th>\n",
       "      <th>Handcap</th>\n",
       "      <th>SMS_received</th>\n",
       "      <th>No-show</th>\n",
       "    </tr>\n",
       "    <tr>\n",
       "      <th>AppointmentID</th>\n",
       "      <th></th>\n",
       "      <th></th>\n",
       "      <th></th>\n",
       "      <th></th>\n",
       "      <th></th>\n",
       "      <th></th>\n",
       "      <th></th>\n",
       "      <th></th>\n",
       "      <th></th>\n",
       "      <th></th>\n",
       "      <th></th>\n",
       "      <th></th>\n",
       "    </tr>\n",
       "  </thead>\n",
       "  <tbody>\n",
       "    <tr>\n",
       "      <th>5642903</th>\n",
       "      <td>2.987250e+13</td>\n",
       "      <td>F</td>\n",
       "      <td>2016-04-29T18:38:08Z</td>\n",
       "      <td>62</td>\n",
       "      <td>JARDIM DA PENHA</td>\n",
       "      <td>0</td>\n",
       "      <td>1</td>\n",
       "      <td>0</td>\n",
       "      <td>0</td>\n",
       "      <td>0</td>\n",
       "      <td>0</td>\n",
       "      <td>No</td>\n",
       "    </tr>\n",
       "  </tbody>\n",
       "</table>\n",
       "</div>"
      ],
      "text/plain": [
       "                  PatientId Gender          ScheduledDay  Age  \\\n",
       "AppointmentID                                                   \n",
       "5642903        2.987250e+13      F  2016-04-29T18:38:08Z   62   \n",
       "\n",
       "                 Neighbourhood  Scholarship  Hipertension  Diabetes  \\\n",
       "AppointmentID                                                         \n",
       "5642903        JARDIM DA PENHA            0             1         0   \n",
       "\n",
       "               Alcoholism  Handcap  SMS_received No-show  \n",
       "AppointmentID                                             \n",
       "5642903                 0        0             0      No  "
      ]
     },
     "execution_count": 19,
     "metadata": {},
     "output_type": "execute_result"
    }
   ],
   "source": [
    "df_new.set_index('AppointmentID', inplace=True)\n",
    "\n",
    "# Confirm that the index was changed successfully\n",
    "df_new.head(1)"
   ]
  },
  {
   "cell_type": "markdown",
   "id": "b1215d2b",
   "metadata": {},
   "source": [
    "### Rename the column named `No-show` to `No_show`"
   ]
  },
  {
   "cell_type": "code",
   "execution_count": 20,
   "id": "95e46c8e",
   "metadata": {},
   "outputs": [
    {
     "data": {
      "text/plain": [
       "Index(['PatientId', 'Gender', 'ScheduledDay', 'Age', 'Neighbourhood',\n",
       "       'Scholarship', 'Hipertension', 'Diabetes', 'Alcoholism', 'Handcap',\n",
       "       'SMS_received', 'No_show'],\n",
       "      dtype='object')"
      ]
     },
     "execution_count": 20,
     "metadata": {},
     "output_type": "execute_result"
    }
   ],
   "source": [
    "#df_new['N-show']=df_new['No_show']\n",
    "df_new.rename(columns={'No-show':'No_show'}, inplace = True)\n",
    "df_new.columns"
   ]
  },
  {
   "cell_type": "markdown",
   "id": "95d89a2a",
   "metadata": {},
   "source": [
    "### Save the cleaned dataset in a new csv file."
   ]
  },
  {
   "cell_type": "code",
   "execution_count": 21,
   "id": "2b6b9751",
   "metadata": {},
   "outputs": [],
   "source": [
    "df_new.to_csv('Dataset/clean_data.csv', index=True)"
   ]
  },
  {
   "cell_type": "markdown",
   "id": "f13580c9",
   "metadata": {},
   "source": [
    "<a id = \"eda\"></a>\n",
    "# Exploratory Data Analysis (EDA)"
   ]
  },
  {
   "cell_type": "code",
   "execution_count": 22,
   "id": "8e3dc1c9",
   "metadata": {},
   "outputs": [
    {
     "data": {
      "text/html": [
       "<div>\n",
       "<style scoped>\n",
       "    .dataframe tbody tr th:only-of-type {\n",
       "        vertical-align: middle;\n",
       "    }\n",
       "\n",
       "    .dataframe tbody tr th {\n",
       "        vertical-align: top;\n",
       "    }\n",
       "\n",
       "    .dataframe thead th {\n",
       "        text-align: right;\n",
       "    }\n",
       "</style>\n",
       "<table border=\"1\" class=\"dataframe\">\n",
       "  <thead>\n",
       "    <tr style=\"text-align: right;\">\n",
       "      <th></th>\n",
       "      <th>AppointmentID</th>\n",
       "      <th>PatientId</th>\n",
       "      <th>Gender</th>\n",
       "      <th>ScheduledDay</th>\n",
       "      <th>Age</th>\n",
       "      <th>Neighbourhood</th>\n",
       "      <th>Scholarship</th>\n",
       "      <th>Hipertension</th>\n",
       "      <th>Diabetes</th>\n",
       "      <th>Alcoholism</th>\n",
       "      <th>Handcap</th>\n",
       "      <th>SMS_received</th>\n",
       "      <th>No_show</th>\n",
       "    </tr>\n",
       "  </thead>\n",
       "  <tbody>\n",
       "    <tr>\n",
       "      <th>0</th>\n",
       "      <td>5642903</td>\n",
       "      <td>2.987250e+13</td>\n",
       "      <td>F</td>\n",
       "      <td>2016-04-29T18:38:08Z</td>\n",
       "      <td>62</td>\n",
       "      <td>JARDIM DA PENHA</td>\n",
       "      <td>0</td>\n",
       "      <td>1</td>\n",
       "      <td>0</td>\n",
       "      <td>0</td>\n",
       "      <td>0</td>\n",
       "      <td>0</td>\n",
       "      <td>No</td>\n",
       "    </tr>\n",
       "  </tbody>\n",
       "</table>\n",
       "</div>"
      ],
      "text/plain": [
       "   AppointmentID     PatientId Gender          ScheduledDay  Age  \\\n",
       "0        5642903  2.987250e+13      F  2016-04-29T18:38:08Z   62   \n",
       "\n",
       "     Neighbourhood  Scholarship  Hipertension  Diabetes  Alcoholism  Handcap  \\\n",
       "0  JARDIM DA PENHA            0             1         0           0        0   \n",
       "\n",
       "   SMS_received No_show  \n",
       "0             0      No  "
      ]
     },
     "execution_count": 22,
     "metadata": {},
     "output_type": "execute_result"
    }
   ],
   "source": [
    "# Load the cleaned dataset.\n",
    "df_clean = pd.read_csv('Dataset/clean_data.csv')\n",
    "\n",
    "# Verify that the data was loaded successfully\n",
    "df_clean.head(1)"
   ]
  },
  {
   "cell_type": "markdown",
   "id": "36177fae",
   "metadata": {},
   "source": [
    "> For this EDA process, when analyzing the data to come up with solutions for the raised questions, we will be needing to work with proportions in multiple occassions. To avoid repetition, it is elegant to define a function that we can invoke any time we want to calculate a proportion. The cell below defines a `proportion function`"
   ]
  },
  {
   "cell_type": "code",
   "execution_count": 23,
   "id": "c64963d0",
   "metadata": {},
   "outputs": [],
   "source": [
    "# Defining the proportion funtion\n",
    "def proportion(total, interest_items):\n",
    "    \"\"\"\n",
    "    Description: This is a function that calculates the proportion of items of interest\n",
    "    \n",
    "    Inputs:\n",
    "        total: This is the total number of items to be considered in calculating the proportions\n",
    "        interest_items: This is the number of items of interest whose proportion needs to be calculated.\n",
    "    Results:\n",
    "        prop: This is the result obtained after dividing the interest_items by the total\n",
    "    \"\"\"\n",
    "    if interest_items > total:\n",
    "        result = \"Items of interest must be less than or equal to the total number of items\"\n",
    "    else:\n",
    "        result = interest_items/total\n",
    "    return(result)"
   ]
  },
  {
   "cell_type": "markdown",
   "id": "6bbef3f0",
   "metadata": {},
   "source": [
    "## Research Question 1: Do patients of particular age groups book appointments more frequently than others?"
   ]
  },
  {
   "cell_type": "markdown",
   "id": "6bbca7f2",
   "metadata": {},
   "source": [
    "> To Respond to this question, we need to examine how the ages of the patients who booked appointments in all hospitals are distributed. To do this, we need to visualize the ages using a histogram "
   ]
  },
  {
   "cell_type": "code",
   "execution_count": 24,
   "id": "ccf76557",
   "metadata": {
    "scrolled": true
   },
   "outputs": [
    {
     "data": {
      "image/png": "[encoded data removed]",
      "text/plain": [
       "<Figure size 432x288 with 1 Axes>"
      ]
     },
     "metadata": {
      "needs_background": "light"
     },
     "output_type": "display_data"
    }
   ],
   "source": [
    "# Check the distribution of the ages of the patients\n",
    "df_clean.Age.plot(kind= 'hist', edgecolor='white')\n",
    "plt.title('Distribution of Patient Ages')\n",
    "plt.xlabel('Ages')\n",
    "plt.ylabel('Frequency');"
   ]
  },
  {
   "cell_type": "markdown",
   "id": "a6a18754",
   "metadata": {},
   "source": [
    "> This does not give a clear picture of the distribution of the patient ages because as initially established, several patients made more than one appointment. To get a more accurate visualization, we need to plot the histogram using ages for the unique patients only."
   ]
  },
  {
   "cell_type": "code",
   "execution_count": 25,
   "id": "11950677",
   "metadata": {},
   "outputs": [
    {
     "data": {
      "image/png": "[encoded data removed]",
      "text/plain": [
       "<Figure size 576x576 with 1 Axes>"
      ]
     },
     "metadata": {
      "needs_background": "light"
     },
     "output_type": "display_data"
    }
   ],
   "source": [
    "# Extract the data for the unique patients\n",
    "unique_patients = df_clean.drop_duplicates(subset='PatientId', keep='first')\n",
    "\n",
    "# Use the ages in this new dataset to examine the distribution of patient ages.\n",
    "# unique_patients['Age'].plot(kind='hist')\n",
    "ages = unique_patients['Age']\n",
    "bins = [0, 10, 20, 30, 40, 50, 60, 70, 80, 90, 100, 110]\n",
    "fig, ax = plt.subplots(figsize = (8,8))\n",
    "ax.hist(ages, bins, edgecolor='white')\n",
    "plt.title('Distribution of Patient Ages')\n",
    "plt.xlabel('Ages')\n",
    "plt.ylabel('Frequency');"
   ]
  },
  {
   "cell_type": "markdown",
   "id": "f04486f8",
   "metadata": {},
   "source": [
    "### Question 1 Response:\n",
    "> #### The above visualization reveal that patients aged between 0 to 10 years book a higher number of appointments as compared to the other age groups. The number of appointments booked by patients aged between 90 years and 100 years is disproportionately low as compared to the other age groups."
   ]
  },
  {
   "cell_type": "markdown",
   "id": "a66220c0",
   "metadata": {},
   "source": [
    "## Research Question 2: Are male patients more likely to show up for an appointment as compared to female patients?"
   ]
  },
  {
   "cell_type": "markdown",
   "id": "62b7074a",
   "metadata": {},
   "source": [
    ">To arrive at a conclusive and valid question for this research question, we need to compare the proportion of male patients who showed up for the appointment and the proportion of women who showed up for the appointment"
   ]
  },
  {
   "cell_type": "markdown",
   "id": "7f55a2ad",
   "metadata": {},
   "source": [
    "### Step 1: separate the data into two dataframes\n",
    "    male_df = Dataframe with only the appointments booked by male patients\n",
    "    female_df = Dataframe with only the appointments booked by female patients"
   ]
  },
  {
   "cell_type": "code",
   "execution_count": 26,
   "id": "6d6c9a70",
   "metadata": {},
   "outputs": [
    {
     "data": {
      "text/html": [
       "<div>\n",
       "<style scoped>\n",
       "    .dataframe tbody tr th:only-of-type {\n",
       "        vertical-align: middle;\n",
       "    }\n",
       "\n",
       "    .dataframe tbody tr th {\n",
       "        vertical-align: top;\n",
       "    }\n",
       "\n",
       "    .dataframe thead th {\n",
       "        text-align: right;\n",
       "    }\n",
       "</style>\n",
       "<table border=\"1\" class=\"dataframe\">\n",
       "  <thead>\n",
       "    <tr style=\"text-align: right;\">\n",
       "      <th></th>\n",
       "      <th>AppointmentID</th>\n",
       "      <th>PatientId</th>\n",
       "      <th>Gender</th>\n",
       "      <th>ScheduledDay</th>\n",
       "      <th>Age</th>\n",
       "      <th>Neighbourhood</th>\n",
       "      <th>Scholarship</th>\n",
       "      <th>Hipertension</th>\n",
       "      <th>Diabetes</th>\n",
       "      <th>Alcoholism</th>\n",
       "      <th>Handcap</th>\n",
       "      <th>SMS_received</th>\n",
       "      <th>No_show</th>\n",
       "    </tr>\n",
       "  </thead>\n",
       "  <tbody>\n",
       "    <tr>\n",
       "      <th>1</th>\n",
       "      <td>5642503</td>\n",
       "      <td>5.589978e+14</td>\n",
       "      <td>M</td>\n",
       "      <td>2016-04-29T16:08:27Z</td>\n",
       "      <td>56</td>\n",
       "      <td>JARDIM DA PENHA</td>\n",
       "      <td>0</td>\n",
       "      <td>0</td>\n",
       "      <td>0</td>\n",
       "      <td>0</td>\n",
       "      <td>0</td>\n",
       "      <td>0</td>\n",
       "      <td>No</td>\n",
       "    </tr>\n",
       "    <tr>\n",
       "      <th>11</th>\n",
       "      <td>5620163</td>\n",
       "      <td>7.542951e+12</td>\n",
       "      <td>M</td>\n",
       "      <td>2016-04-26T08:44:12Z</td>\n",
       "      <td>29</td>\n",
       "      <td>NOVA PALESTINA</td>\n",
       "      <td>0</td>\n",
       "      <td>0</td>\n",
       "      <td>0</td>\n",
       "      <td>0</td>\n",
       "      <td>0</td>\n",
       "      <td>1</td>\n",
       "      <td>Yes</td>\n",
       "    </tr>\n",
       "  </tbody>\n",
       "</table>\n",
       "</div>"
      ],
      "text/plain": [
       "    AppointmentID     PatientId Gender          ScheduledDay  Age  \\\n",
       "1         5642503  5.589978e+14      M  2016-04-29T16:08:27Z   56   \n",
       "11        5620163  7.542951e+12      M  2016-04-26T08:44:12Z   29   \n",
       "\n",
       "      Neighbourhood  Scholarship  Hipertension  Diabetes  Alcoholism  Handcap  \\\n",
       "1   JARDIM DA PENHA            0             0         0           0        0   \n",
       "11   NOVA PALESTINA            0             0         0           0        0   \n",
       "\n",
       "    SMS_received No_show  \n",
       "1              0      No  \n",
       "11             1     Yes  "
      ]
     },
     "execution_count": 26,
     "metadata": {},
     "output_type": "execute_result"
    }
   ],
   "source": [
    "# Extract the appointments booked by males\n",
    "male_df = df_clean.query('Gender == \"M\"')\n",
    "male_df.head(2)"
   ]
  },
  {
   "cell_type": "code",
   "execution_count": 27,
   "id": "b8cbad1f",
   "metadata": {},
   "outputs": [
    {
     "data": {
      "text/html": [
       "<div>\n",
       "<style scoped>\n",
       "    .dataframe tbody tr th:only-of-type {\n",
       "        vertical-align: middle;\n",
       "    }\n",
       "\n",
       "    .dataframe tbody tr th {\n",
       "        vertical-align: top;\n",
       "    }\n",
       "\n",
       "    .dataframe thead th {\n",
       "        text-align: right;\n",
       "    }\n",
       "</style>\n",
       "<table border=\"1\" class=\"dataframe\">\n",
       "  <thead>\n",
       "    <tr style=\"text-align: right;\">\n",
       "      <th></th>\n",
       "      <th>AppointmentID</th>\n",
       "      <th>PatientId</th>\n",
       "      <th>Gender</th>\n",
       "      <th>ScheduledDay</th>\n",
       "      <th>Age</th>\n",
       "      <th>Neighbourhood</th>\n",
       "      <th>Scholarship</th>\n",
       "      <th>Hipertension</th>\n",
       "      <th>Diabetes</th>\n",
       "      <th>Alcoholism</th>\n",
       "      <th>Handcap</th>\n",
       "      <th>SMS_received</th>\n",
       "      <th>No_show</th>\n",
       "    </tr>\n",
       "  </thead>\n",
       "  <tbody>\n",
       "  </tbody>\n",
       "</table>\n",
       "</div>"
      ],
      "text/plain": [
       "Empty DataFrame\n",
       "Columns: [AppointmentID, PatientId, Gender, ScheduledDay, Age, Neighbourhood, Scholarship, Hipertension, Diabetes, Alcoholism, Handcap, SMS_received, No_show]\n",
       "Index: []"
      ]
     },
     "execution_count": 27,
     "metadata": {},
     "output_type": "execute_result"
    }
   ],
   "source": [
    "# Verify that there are no Female entries in the male dataframe\n",
    "male_df.query('Gender == \"F\"')\n",
    "# This should display an empty dataset if there are no entries that have gender set as female."
   ]
  },
  {
   "cell_type": "code",
   "execution_count": 28,
   "id": "8d6f51a4",
   "metadata": {},
   "outputs": [
    {
     "data": {
      "text/html": [
       "<div>\n",
       "<style scoped>\n",
       "    .dataframe tbody tr th:only-of-type {\n",
       "        vertical-align: middle;\n",
       "    }\n",
       "\n",
       "    .dataframe tbody tr th {\n",
       "        vertical-align: top;\n",
       "    }\n",
       "\n",
       "    .dataframe thead th {\n",
       "        text-align: right;\n",
       "    }\n",
       "</style>\n",
       "<table border=\"1\" class=\"dataframe\">\n",
       "  <thead>\n",
       "    <tr style=\"text-align: right;\">\n",
       "      <th></th>\n",
       "      <th>AppointmentID</th>\n",
       "      <th>PatientId</th>\n",
       "      <th>Gender</th>\n",
       "      <th>ScheduledDay</th>\n",
       "      <th>Age</th>\n",
       "      <th>Neighbourhood</th>\n",
       "      <th>Scholarship</th>\n",
       "      <th>Hipertension</th>\n",
       "      <th>Diabetes</th>\n",
       "      <th>Alcoholism</th>\n",
       "      <th>Handcap</th>\n",
       "      <th>SMS_received</th>\n",
       "      <th>No_show</th>\n",
       "    </tr>\n",
       "  </thead>\n",
       "  <tbody>\n",
       "    <tr>\n",
       "      <th>0</th>\n",
       "      <td>5642903</td>\n",
       "      <td>2.987250e+13</td>\n",
       "      <td>F</td>\n",
       "      <td>2016-04-29T18:38:08Z</td>\n",
       "      <td>62</td>\n",
       "      <td>JARDIM DA PENHA</td>\n",
       "      <td>0</td>\n",
       "      <td>1</td>\n",
       "      <td>0</td>\n",
       "      <td>0</td>\n",
       "      <td>0</td>\n",
       "      <td>0</td>\n",
       "      <td>No</td>\n",
       "    </tr>\n",
       "    <tr>\n",
       "      <th>2</th>\n",
       "      <td>5642549</td>\n",
       "      <td>4.262962e+12</td>\n",
       "      <td>F</td>\n",
       "      <td>2016-04-29T16:19:04Z</td>\n",
       "      <td>62</td>\n",
       "      <td>MATA DA PRAIA</td>\n",
       "      <td>0</td>\n",
       "      <td>0</td>\n",
       "      <td>0</td>\n",
       "      <td>0</td>\n",
       "      <td>0</td>\n",
       "      <td>0</td>\n",
       "      <td>No</td>\n",
       "    </tr>\n",
       "  </tbody>\n",
       "</table>\n",
       "</div>"
      ],
      "text/plain": [
       "   AppointmentID     PatientId Gender          ScheduledDay  Age  \\\n",
       "0        5642903  2.987250e+13      F  2016-04-29T18:38:08Z   62   \n",
       "2        5642549  4.262962e+12      F  2016-04-29T16:19:04Z   62   \n",
       "\n",
       "     Neighbourhood  Scholarship  Hipertension  Diabetes  Alcoholism  Handcap  \\\n",
       "0  JARDIM DA PENHA            0             1         0           0        0   \n",
       "2    MATA DA PRAIA            0             0         0           0        0   \n",
       "\n",
       "   SMS_received No_show  \n",
       "0             0      No  \n",
       "2             0      No  "
      ]
     },
     "execution_count": 28,
     "metadata": {},
     "output_type": "execute_result"
    }
   ],
   "source": [
    "# Extract the appointments booked by males\n",
    "female_df = df_clean.query('Gender == \"F\"')\n",
    "female_df.head(2)"
   ]
  },
  {
   "cell_type": "code",
   "execution_count": 29,
   "id": "a8cda30c",
   "metadata": {
    "scrolled": true
   },
   "outputs": [
    {
     "data": {
      "text/html": [
       "<div>\n",
       "<style scoped>\n",
       "    .dataframe tbody tr th:only-of-type {\n",
       "        vertical-align: middle;\n",
       "    }\n",
       "\n",
       "    .dataframe tbody tr th {\n",
       "        vertical-align: top;\n",
       "    }\n",
       "\n",
       "    .dataframe thead th {\n",
       "        text-align: right;\n",
       "    }\n",
       "</style>\n",
       "<table border=\"1\" class=\"dataframe\">\n",
       "  <thead>\n",
       "    <tr style=\"text-align: right;\">\n",
       "      <th></th>\n",
       "      <th>AppointmentID</th>\n",
       "      <th>PatientId</th>\n",
       "      <th>Gender</th>\n",
       "      <th>ScheduledDay</th>\n",
       "      <th>Age</th>\n",
       "      <th>Neighbourhood</th>\n",
       "      <th>Scholarship</th>\n",
       "      <th>Hipertension</th>\n",
       "      <th>Diabetes</th>\n",
       "      <th>Alcoholism</th>\n",
       "      <th>Handcap</th>\n",
       "      <th>SMS_received</th>\n",
       "      <th>No_show</th>\n",
       "    </tr>\n",
       "  </thead>\n",
       "  <tbody>\n",
       "  </tbody>\n",
       "</table>\n",
       "</div>"
      ],
      "text/plain": [
       "Empty DataFrame\n",
       "Columns: [AppointmentID, PatientId, Gender, ScheduledDay, Age, Neighbourhood, Scholarship, Hipertension, Diabetes, Alcoholism, Handcap, SMS_received, No_show]\n",
       "Index: []"
      ]
     },
     "execution_count": 29,
     "metadata": {},
     "output_type": "execute_result"
    }
   ],
   "source": [
    "# Verify that there are no male entries in the female dataframe\n",
    "female_df.query('Gender == \"M\"')\n",
    "# This should display an empty dataset if there are no entries that have gender set as male."
   ]
  },
  {
   "cell_type": "markdown",
   "id": "f9c555d5",
   "metadata": {},
   "source": [
    "### Step 2: Calculate the proportion of male patients who showed up for the appointment"
   ]
  },
  {
   "cell_type": "markdown",
   "id": "0d40d296",
   "metadata": {},
   "source": [
    "> Based on the description of the proportion function defined above, we need to obtain the **total number of male patients** and **the number of male patients who showed up for the appointments**"
   ]
  },
  {
   "cell_type": "code",
   "execution_count": 30,
   "id": "0a4284d9",
   "metadata": {},
   "outputs": [
    {
     "name": "stdout",
     "output_type": "stream",
     "text": [
      "38687\n",
      "30962\n"
     ]
    }
   ],
   "source": [
    "# Find the total number of male patients who made appointments\n",
    "total_males_appointments = male_df.AppointmentID.value_counts().sum()\n",
    "\n",
    "# Find the number of male patients who showed up for the appointments\n",
    "No_of_males_who_attended = male_df.query('No_show == \"No\"').value_counts().sum()\n",
    "\n",
    "# Print out the obtained values\n",
    "print(total_males_appointments)\n",
    "print(No_of_males_who_attended)"
   ]
  },
  {
   "cell_type": "code",
   "execution_count": 31,
   "id": "0eaebfe0",
   "metadata": {},
   "outputs": [
    {
     "data": {
      "text/plain": [
       "0.8003205211052808"
      ]
     },
     "execution_count": 31,
     "metadata": {},
     "output_type": "execute_result"
    }
   ],
   "source": [
    "# Invoke the proportion function to calculate the proportion of male patients who showed up for the appointments\n",
    "prop_M_who_showed = proportion(total_males_appointments, No_of_males_who_attended)\n",
    "prop_M_who_showed"
   ]
  },
  {
   "cell_type": "markdown",
   "id": "248e88a4",
   "metadata": {},
   "source": [
    "### Step 3: Calculate the proportion of female patients who showed up for the appointment"
   ]
  },
  {
   "cell_type": "markdown",
   "id": "6f01aa89",
   "metadata": {},
   "source": [
    "> This follows the same procedure as step 2 above"
   ]
  },
  {
   "cell_type": "code",
   "execution_count": 32,
   "id": "944297fe",
   "metadata": {},
   "outputs": [
    {
     "name": "stdout",
     "output_type": "stream",
     "text": [
      "71839\n",
      "57245\n"
     ]
    }
   ],
   "source": [
    "# Find the total number of female patients who made appointments\n",
    "total_females_appointments = female_df.AppointmentID.value_counts().sum()\n",
    "\n",
    "# Find the number of female patients who showed up for the appointments\n",
    "No_of_females_who_attended = female_df.query('No_show == \"No\"').value_counts().sum()\n",
    "\n",
    "# Print out the obtained values\n",
    "print(total_females_appointments)\n",
    "print(No_of_females_who_attended)"
   ]
  },
  {
   "cell_type": "code",
   "execution_count": 33,
   "id": "9bc3a37c",
   "metadata": {},
   "outputs": [
    {
     "data": {
      "text/plain": [
       "0.7968512924734475"
      ]
     },
     "execution_count": 33,
     "metadata": {},
     "output_type": "execute_result"
    }
   ],
   "source": [
    "# Invoke the proportion function to calculate the proportion\n",
    "prop_F_who_showed = proportion(total_females_appointments, No_of_females_who_attended)\n",
    "prop_F_who_showed"
   ]
  },
  {
   "cell_type": "markdown",
   "id": "850a2532",
   "metadata": {},
   "source": [
    "> Comparing the results from step 2 and 3, we can tell that the proportion of male patients who showed up for their appointments is slightly higher than that of the female patients. To get a clear picture of how these two proportions vary, we need to visualize them using a bar graph."
   ]
  },
  {
   "cell_type": "markdown",
   "id": "2b5733b0",
   "metadata": {},
   "source": [
    "### Step 4: Visualize the proportions"
   ]
  },
  {
   "cell_type": "code",
   "execution_count": 34,
   "id": "0d265e42",
   "metadata": {},
   "outputs": [
    {
     "data": {
      "image/png": "[encoded data removed]",
      "text/plain": [
       "<Figure size 432x288 with 1 Axes>"
      ]
     },
     "metadata": {
      "needs_background": "light"
     },
     "output_type": "display_data"
    }
   ],
   "source": [
    "genders = ['Male','Female']\n",
    "props = [prop_M_who_showed, prop_F_who_showed]\n",
    "colors = ['blue','Green']\n",
    "plt.bar(genders, props, color = colors)\n",
    "plt.title('Proportion of Male & Female who showed up for Appointments')\n",
    "plt.xlabel('Genders')\n",
    "plt.ylabel('Proportions')\n",
    "\n",
    "plt.show();"
   ]
  },
  {
   "cell_type": "markdown",
   "id": "aad338b2",
   "metadata": {},
   "source": [
    "### Question 2 Response\n",
    "> The visualization above shows that the proportion of males who showed up for the appointment is almost equal to the proportion of the females who showed up for the appointment"
   ]
  },
  {
   "cell_type": "markdown",
   "id": "4f3c69b1",
   "metadata": {},
   "source": [
    "## Research Question 3: Are older patients more likely to show up for an appointment as compared to the younger patients?"
   ]
  },
  {
   "cell_type": "markdown",
   "id": "344144e9",
   "metadata": {},
   "source": [
    "> To respond to this question, we need to divide the cleaned dataset into two datasets, one to hold appointments for the older patients and one to hold the records for the younger patients. The young patients are those whose age is less than or equal to the median age while the older patients are those whose age falls above the median age. <br>\n",
    ">> **young_df** : Dataframe for the young patients <br>\n",
    ">> **older_df** : Datafram for the older patients"
   ]
  },
  {
   "cell_type": "markdown",
   "id": "325b1525",
   "metadata": {},
   "source": [
    "### Step 1: Determine the median age"
   ]
  },
  {
   "cell_type": "code",
   "execution_count": 35,
   "id": "5d4e460b",
   "metadata": {},
   "outputs": [
    {
     "data": {
      "text/plain": [
       "37.0"
      ]
     },
     "execution_count": 35,
     "metadata": {},
     "output_type": "execute_result"
    }
   ],
   "source": [
    "median_age = df_clean['Age'].median()\n",
    "median_age"
   ]
  },
  {
   "cell_type": "markdown",
   "id": "8144bf8e",
   "metadata": {},
   "source": [
    "### Step 2: Separate the dataset"
   ]
  },
  {
   "cell_type": "code",
   "execution_count": 36,
   "id": "8e391497",
   "metadata": {},
   "outputs": [
    {
     "data": {
      "text/html": [
       "<div>\n",
       "<style scoped>\n",
       "    .dataframe tbody tr th:only-of-type {\n",
       "        vertical-align: middle;\n",
       "    }\n",
       "\n",
       "    .dataframe tbody tr th {\n",
       "        vertical-align: top;\n",
       "    }\n",
       "\n",
       "    .dataframe thead th {\n",
       "        text-align: right;\n",
       "    }\n",
       "</style>\n",
       "<table border=\"1\" class=\"dataframe\">\n",
       "  <thead>\n",
       "    <tr style=\"text-align: right;\">\n",
       "      <th></th>\n",
       "      <th>AppointmentID</th>\n",
       "      <th>PatientId</th>\n",
       "      <th>Gender</th>\n",
       "      <th>ScheduledDay</th>\n",
       "      <th>Age</th>\n",
       "      <th>Neighbourhood</th>\n",
       "      <th>Scholarship</th>\n",
       "      <th>Hipertension</th>\n",
       "      <th>Diabetes</th>\n",
       "      <th>Alcoholism</th>\n",
       "      <th>Handcap</th>\n",
       "      <th>SMS_received</th>\n",
       "      <th>No_show</th>\n",
       "    </tr>\n",
       "  </thead>\n",
       "  <tbody>\n",
       "    <tr>\n",
       "      <th>3</th>\n",
       "      <td>5642828</td>\n",
       "      <td>8.679512e+11</td>\n",
       "      <td>F</td>\n",
       "      <td>2016-04-29T17:29:31Z</td>\n",
       "      <td>8</td>\n",
       "      <td>PONTAL DE CAMBURI</td>\n",
       "      <td>0</td>\n",
       "      <td>0</td>\n",
       "      <td>0</td>\n",
       "      <td>0</td>\n",
       "      <td>0</td>\n",
       "      <td>0</td>\n",
       "      <td>No</td>\n",
       "    </tr>\n",
       "    <tr>\n",
       "      <th>6</th>\n",
       "      <td>5630279</td>\n",
       "      <td>7.336882e+14</td>\n",
       "      <td>F</td>\n",
       "      <td>2016-04-27T15:05:12Z</td>\n",
       "      <td>23</td>\n",
       "      <td>GOIABEIRAS</td>\n",
       "      <td>0</td>\n",
       "      <td>0</td>\n",
       "      <td>0</td>\n",
       "      <td>0</td>\n",
       "      <td>0</td>\n",
       "      <td>0</td>\n",
       "      <td>Yes</td>\n",
       "    </tr>\n",
       "  </tbody>\n",
       "</table>\n",
       "</div>"
      ],
      "text/plain": [
       "   AppointmentID     PatientId Gender          ScheduledDay  Age  \\\n",
       "3        5642828  8.679512e+11      F  2016-04-29T17:29:31Z    8   \n",
       "6        5630279  7.336882e+14      F  2016-04-27T15:05:12Z   23   \n",
       "\n",
       "       Neighbourhood  Scholarship  Hipertension  Diabetes  Alcoholism  \\\n",
       "3  PONTAL DE CAMBURI            0             0         0           0   \n",
       "6         GOIABEIRAS            0             0         0           0   \n",
       "\n",
       "   Handcap  SMS_received No_show  \n",
       "3        0             0      No  \n",
       "6        0             0     Yes  "
      ]
     },
     "execution_count": 36,
     "metadata": {},
     "output_type": "execute_result"
    }
   ],
   "source": [
    "# The young patients\n",
    "young_df = df_clean.query('Age <= {}'.format(median_age))\n",
    "young_df.head(2)"
   ]
  },
  {
   "cell_type": "code",
   "execution_count": 37,
   "id": "46bef5c6",
   "metadata": {},
   "outputs": [
    {
     "data": {
      "text/html": [
       "<div>\n",
       "<style scoped>\n",
       "    .dataframe tbody tr th:only-of-type {\n",
       "        vertical-align: middle;\n",
       "    }\n",
       "\n",
       "    .dataframe tbody tr th {\n",
       "        vertical-align: top;\n",
       "    }\n",
       "\n",
       "    .dataframe thead th {\n",
       "        text-align: right;\n",
       "    }\n",
       "</style>\n",
       "<table border=\"1\" class=\"dataframe\">\n",
       "  <thead>\n",
       "    <tr style=\"text-align: right;\">\n",
       "      <th></th>\n",
       "      <th>AppointmentID</th>\n",
       "      <th>PatientId</th>\n",
       "      <th>Gender</th>\n",
       "      <th>ScheduledDay</th>\n",
       "      <th>Age</th>\n",
       "      <th>Neighbourhood</th>\n",
       "      <th>Scholarship</th>\n",
       "      <th>Hipertension</th>\n",
       "      <th>Diabetes</th>\n",
       "      <th>Alcoholism</th>\n",
       "      <th>Handcap</th>\n",
       "      <th>SMS_received</th>\n",
       "      <th>No_show</th>\n",
       "    </tr>\n",
       "  </thead>\n",
       "  <tbody>\n",
       "    <tr>\n",
       "      <th>0</th>\n",
       "      <td>5642903</td>\n",
       "      <td>2.987250e+13</td>\n",
       "      <td>F</td>\n",
       "      <td>2016-04-29T18:38:08Z</td>\n",
       "      <td>62</td>\n",
       "      <td>JARDIM DA PENHA</td>\n",
       "      <td>0</td>\n",
       "      <td>1</td>\n",
       "      <td>0</td>\n",
       "      <td>0</td>\n",
       "      <td>0</td>\n",
       "      <td>0</td>\n",
       "      <td>No</td>\n",
       "    </tr>\n",
       "    <tr>\n",
       "      <th>1</th>\n",
       "      <td>5642503</td>\n",
       "      <td>5.589978e+14</td>\n",
       "      <td>M</td>\n",
       "      <td>2016-04-29T16:08:27Z</td>\n",
       "      <td>56</td>\n",
       "      <td>JARDIM DA PENHA</td>\n",
       "      <td>0</td>\n",
       "      <td>0</td>\n",
       "      <td>0</td>\n",
       "      <td>0</td>\n",
       "      <td>0</td>\n",
       "      <td>0</td>\n",
       "      <td>No</td>\n",
       "    </tr>\n",
       "  </tbody>\n",
       "</table>\n",
       "</div>"
      ],
      "text/plain": [
       "   AppointmentID     PatientId Gender          ScheduledDay  Age  \\\n",
       "0        5642903  2.987250e+13      F  2016-04-29T18:38:08Z   62   \n",
       "1        5642503  5.589978e+14      M  2016-04-29T16:08:27Z   56   \n",
       "\n",
       "     Neighbourhood  Scholarship  Hipertension  Diabetes  Alcoholism  Handcap  \\\n",
       "0  JARDIM DA PENHA            0             1         0           0        0   \n",
       "1  JARDIM DA PENHA            0             0         0           0        0   \n",
       "\n",
       "   SMS_received No_show  \n",
       "0             0      No  \n",
       "1             0      No  "
      ]
     },
     "execution_count": 37,
     "metadata": {},
     "output_type": "execute_result"
    }
   ],
   "source": [
    "# The older patients\n",
    "older_df = df_clean.query('Age > {}'.format(median_age))\n",
    "older_df.head(2)"
   ]
  },
  {
   "cell_type": "code",
   "execution_count": 38,
   "id": "57de2c6e",
   "metadata": {},
   "outputs": [
    {
     "data": {
      "text/plain": [
       "True"
      ]
     },
     "execution_count": 38,
     "metadata": {},
     "output_type": "execute_result"
    }
   ],
   "source": [
    "# Verify that the two dataframes are disjoint\n",
    "(older_df.AppointmentID.value_counts().sum())+(young_df.AppointmentID.value_counts().sum()) == df_clean.AppointmentID.value_counts().sum()\n",
    "# This should return True if the two datasets are disjoint."
   ]
  },
  {
   "cell_type": "markdown",
   "id": "44257e8d",
   "metadata": {},
   "source": [
    "### Step 3: Find the proportion of young patients who showed up for appointments"
   ]
  },
  {
   "cell_type": "code",
   "execution_count": 39,
   "id": "e8b019db",
   "metadata": {},
   "outputs": [
    {
     "data": {
      "text/plain": [
       "56116"
      ]
     },
     "execution_count": 39,
     "metadata": {},
     "output_type": "execute_result"
    }
   ],
   "source": [
    "# Find the total number of young patients\n",
    "total_young = young_df.AppointmentID.value_counts().sum()\n",
    "total_young"
   ]
  },
  {
   "cell_type": "code",
   "execution_count": 40,
   "id": "9e3faf5e",
   "metadata": {},
   "outputs": [
    {
     "data": {
      "text/plain": [
       "43355"
      ]
     },
     "execution_count": 40,
     "metadata": {},
     "output_type": "execute_result"
    }
   ],
   "source": [
    "# Find the number of young patients who showed up for their appointments\n",
    "Num_Young_showed_up = young_df.query('No_show == \"No\"').value_counts().sum()\n",
    "Num_Young_showed_up"
   ]
  },
  {
   "cell_type": "code",
   "execution_count": 41,
   "id": "8ae9f776",
   "metadata": {},
   "outputs": [
    {
     "data": {
      "text/plain": [
       "0.7725960510371374"
      ]
     },
     "execution_count": 41,
     "metadata": {},
     "output_type": "execute_result"
    }
   ],
   "source": [
    "# Invoke the Proportion function to calculate the proportion of young patients who showed up for the appointment\n",
    "prop_young = proportion(total_young, Num_Young_showed_up)\n",
    "prop_young"
   ]
  },
  {
   "cell_type": "markdown",
   "id": "1b5c4cfc",
   "metadata": {},
   "source": [
    "### Step 4: Find the proportion of older patients who showed up for appointments"
   ]
  },
  {
   "cell_type": "code",
   "execution_count": 42,
   "id": "24e98b24",
   "metadata": {},
   "outputs": [
    {
     "data": {
      "text/plain": [
       "54410"
      ]
     },
     "execution_count": 42,
     "metadata": {},
     "output_type": "execute_result"
    }
   ],
   "source": [
    "# Find the total number of older patients\n",
    "total_older = older_df.AppointmentID.value_counts().sum()\n",
    "total_older"
   ]
  },
  {
   "cell_type": "code",
   "execution_count": 43,
   "id": "923ee16f",
   "metadata": {},
   "outputs": [
    {
     "data": {
      "text/plain": [
       "44852"
      ]
     },
     "execution_count": 43,
     "metadata": {},
     "output_type": "execute_result"
    }
   ],
   "source": [
    "# Find the number of young patients who showed up for their appointments\n",
    "Num_Older_showed_up = older_df.query('No_show == \"No\"').value_counts().sum()\n",
    "Num_Older_showed_up"
   ]
  },
  {
   "cell_type": "code",
   "execution_count": 44,
   "id": "62452ab9",
   "metadata": {},
   "outputs": [
    {
     "data": {
      "text/plain": [
       "0.8243337621760706"
      ]
     },
     "execution_count": 44,
     "metadata": {},
     "output_type": "execute_result"
    }
   ],
   "source": [
    "# Invoke the Proportion function to calculate the proportion of older patients who showed up for the appointment\n",
    "prop_old = proportion(total_older, Num_Older_showed_up)\n",
    "prop_old"
   ]
  },
  {
   "cell_type": "markdown",
   "id": "9d0a11b7",
   "metadata": {},
   "source": [
    "> Comparing the results obtained in step 3 and step 4, it is evident that the proportion of older patients who showed up for their appointment is higher than that of the younger patients who showed up for the appointment. <br>\n",
    "**For better clarity, it is important to visualize these results**"
   ]
  },
  {
   "cell_type": "markdown",
   "id": "43061203",
   "metadata": {},
   "source": [
    "### Step 5: Visualize the results"
   ]
  },
  {
   "cell_type": "code",
   "execution_count": 45,
   "id": "1fac55c1",
   "metadata": {},
   "outputs": [
    {
     "data": {
      "image/png": "[encoded data removed]",
      "text/plain": [
       "<Figure size 432x288 with 1 Axes>"
      ]
     },
     "metadata": {
      "needs_background": "light"
     },
     "output_type": "display_data"
    }
   ],
   "source": [
    "ages = ['Younger', 'Older']\n",
    "age_proportions = [prop_young, prop_old]\n",
    "colors = ['Blue', 'Green']\n",
    "plt.bar(ages, age_proportions, color=colors)\n",
    "plt.title('Proportion of Younger and Older patients who showed up for their appointments')\n",
    "plt.xlabel('Age Category')\n",
    "plt.ylabel('Proportions')\n",
    "\n",
    "plt.show();"
   ]
  },
  {
   "cell_type": "markdown",
   "id": "0345adbb",
   "metadata": {},
   "source": [
    "> The visualization clearly shows that the proportion of older patients who showed up for their appointments was a bit higher as compared to that of the younger patients"
   ]
  },
  {
   "cell_type": "markdown",
   "id": "dc105538",
   "metadata": {},
   "source": [
    "## Research Question 4: How do the location of a hospital affect appointment attendance?"
   ]
  },
  {
   "cell_type": "markdown",
   "id": "3ee3583b",
   "metadata": {},
   "source": [
    "> - To effectively respond to this question, it is necessary to identify the counts of the number of appointments made to hospitals in the varous neighbourhoods. <br>\n",
    "> - It is also necessary to identify the total number of attended appointments in hospitals in every neighbourhood."
   ]
  },
  {
   "cell_type": "code",
   "execution_count": 46,
   "id": "d56a6698",
   "metadata": {},
   "outputs": [
    {
     "data": {
      "text/plain": [
       "JARDIM CAMBURI                 7717\n",
       "MARIA ORTIZ                    5805\n",
       "RESISTÊNCIA                    4431\n",
       "JARDIM DA PENHA                3877\n",
       "ITARARÉ                        3514\n",
       "                               ... \n",
       "ILHA DO BOI                      35\n",
       "ILHA DO FRADE                    10\n",
       "AEROPORTO                         8\n",
       "ILHAS OCEÂNICAS DE TRINDADE       2\n",
       "PARQUE INDUSTRIAL                 1\n",
       "Name: Neighbourhood, Length: 81, dtype: int64"
      ]
     },
     "execution_count": 46,
     "metadata": {},
     "output_type": "execute_result"
    }
   ],
   "source": [
    "# Find the total number of appointments made for every neighbourhood\n",
    "total_appointments_by_nbd = df_clean['Neighbourhood'].value_counts()\n",
    "total_appointments_by_nbd"
   ]
  },
  {
   "cell_type": "code",
   "execution_count": 47,
   "id": "684998c6",
   "metadata": {},
   "outputs": [
    {
     "data": {
      "text/plain": [
       "JARDIM CAMBURI       6252\n",
       "MARIA ORTIZ          4586\n",
       "RESISTÊNCIA          3525\n",
       "JARDIM DA PENHA      3246\n",
       "SANTA MARTHA         2635\n",
       "                     ... \n",
       "PONTAL DE CAMBURI      57\n",
       "ILHA DO BOI            32\n",
       "ILHA DO FRADE           8\n",
       "AEROPORTO               7\n",
       "PARQUE INDUSTRIAL       1\n",
       "Name: Neighbourhood, Length: 80, dtype: int64"
      ]
     },
     "execution_count": 47,
     "metadata": {},
     "output_type": "execute_result"
    }
   ],
   "source": [
    "# Find the total number of attended appointments for every neighbourhood\n",
    "total_attendants_by_nbd = df_clean.query('No_show == \"No\"')['Neighbourhood'].value_counts()\n",
    "total_attendants_by_nbd"
   ]
  },
  {
   "cell_type": "markdown",
   "id": "ae98d7fe",
   "metadata": {},
   "source": [
    "> Comparing the two results above:\n",
    "**Note**: _In the total number of appointments made for every neighbourhood, there are 81 neighbourhoods while in the total number of attended appointments for every neighbourhood, there are 80 neighbourhoods._ <br>\n",
    "> This is evident that there is one neighbourhood where some appointments were made, but none of the patients who filed for appointments showed up on the appointment day. <br>\n",
    "**Let's check which neighbourhood it is**"
   ]
  },
  {
   "cell_type": "code",
   "execution_count": 48,
   "id": "38d09726",
   "metadata": {},
   "outputs": [
    {
     "name": "stdout",
     "output_type": "stream",
     "text": [
      "ILHAS OCEÂNICAS DE TRINDADE\n"
     ]
    }
   ],
   "source": [
    "# Check the neighbourhood where patients filed for appointments but never showed up\n",
    "for i in total_appointments_by_nbd.index:\n",
    "    if i not in total_attendants_by_nbd.index:\n",
    "        print(i)"
   ]
  },
  {
   "cell_type": "markdown",
   "id": "ae48c23c",
   "metadata": {},
   "source": [
    "> Patients in `ILHAS OCEÂNICAS DE TRINDADE` booked some appointments but did not show up. <br>\n",
    ">>To avoid errors during analysis, we need to add this neighbourhood in the series holding results of the number of appointments made per neighbourhood, and assign a value **0** for this neighbourhood."
   ]
  },
  {
   "cell_type": "code",
   "execution_count": 49,
   "id": "379508de",
   "metadata": {},
   "outputs": [
    {
     "data": {
      "text/plain": [
       "True"
      ]
     },
     "execution_count": 49,
     "metadata": {},
     "output_type": "execute_result"
    }
   ],
   "source": [
    "# Data to add\n",
    "add_data = Series([0], index=['ILHAS OCEÂNICAS DE TRINDADE'])\n",
    "\n",
    "# Make the update\n",
    "total_attendants_by_nbd = pd.concat([total_attendants_by_nbd, add_data])\n",
    "\n",
    "# Verify that the new record was entered successfully\n",
    "total_attendants_by_nbd.count() == total_appointments_by_nbd.count() # Should return True"
   ]
  },
  {
   "cell_type": "code",
   "execution_count": 50,
   "id": "44ad178f",
   "metadata": {},
   "outputs": [],
   "source": [
    "# Use the indexs to identify entries from similar neighbourhoods and use them to calculated the proportions as required\n",
    "# att_props : attendance proportion for every neighbourhood\n",
    "\n",
    "neighbourhood = [] # Holds the list of Neighbourhoods\n",
    "attendance_proportion = [] # Holds the Patient proportion that showed up for the appointments\n",
    "for i in total_appointments_by_nbd.index:\n",
    "    for x in total_attendants_by_nbd.index:\n",
    "        if x == i:\n",
    "            att_props = proportion(total_appointments_by_nbd[i],total_attendants_by_nbd[x])\n",
    "            \n",
    "    #print(i, att_props)\n",
    "    neighbourhood.append(i)\n",
    "    attendance_proportion.append(att_props)\n",
    "    "
   ]
  },
  {
   "cell_type": "code",
   "execution_count": 51,
   "id": "1587e7f1",
   "metadata": {},
   "outputs": [
    {
     "data": {
      "image/png": "[encoded data removed]",
      "text/plain": [
       "<Figure size 720x1440 with 1 Axes>"
      ]
     },
     "metadata": {
      "needs_background": "light"
     },
     "output_type": "display_data"
    }
   ],
   "source": [
    "figure(figsize=(10,20))\n",
    "plt.barh(neighbourhood, attendance_proportion, height=0.3)\n",
    "plt.rcParams['font.size']='10'\n",
    "plt.title('Proportion of Patients who showed up for appointments by Neighbourhood')\n",
    "plt.xlabel('Proportions')\n",
    "plt.ylabel('Neighbourhood');\n",
    "#plt.yticks(fontsize=20)"
   ]
  },
  {
   "cell_type": "code",
   "execution_count": 52,
   "id": "d5cf49eb",
   "metadata": {
    "scrolled": true
   },
   "outputs": [
    {
     "data": {
      "text/plain": [
       "0.0"
      ]
     },
     "execution_count": 52,
     "metadata": {},
     "output_type": "execute_result"
    }
   ],
   "source": [
    "min(attendance_proportion)"
   ]
  },
  {
   "cell_type": "markdown",
   "id": "cb729954",
   "metadata": {},
   "source": [
    "**Note**: For the neighbourhood with a proportion of patients who showed up for the appointment after booking as 0, only **two** patient had book for the appointment. We can ignore this when considering the lowest proportion of turn out since the bookings for this neighbourhood are very low"
   ]
  },
  {
   "cell_type": "code",
   "execution_count": 53,
   "id": "07d173a8",
   "metadata": {},
   "outputs": [
    {
     "data": {
      "text/plain": [
       "0.7108150470219435"
      ]
     },
     "execution_count": 53,
     "metadata": {},
     "output_type": "execute_result"
    }
   ],
   "source": [
    "# remove 0 from the list of proportions\n",
    "attendance_proportion.remove(0.0)\n",
    "min(attendance_proportion)"
   ]
  },
  {
   "cell_type": "markdown",
   "id": "1d8bc201",
   "metadata": {},
   "source": [
    "### `Question 4 Results`\n",
    "> The visualization above shows that for hospitals located in some neighbourhoods, the proportion of patients who showed up for the appointment they booked was higher than in others. In almost all the neighbourhoods, the patient turn out after booking an appointment is more than 70%"
   ]
  },
  {
   "cell_type": "markdown",
   "id": "cafa387c",
   "metadata": {},
   "source": [
    "## Research Question 5: Are patients who are enrolled in Brasilian welfare program more likely to show up for scheduled appointments?"
   ]
  },
  {
   "cell_type": "markdown",
   "id": "382670e0",
   "metadata": {},
   "source": [
    "> To respond to this question, we need to divide the cleaned dataset into two separate datasets, one holding the records who were enrolled in the Brasilian welfare program and the other holding the records for patients who were not enrolled in the program <br>\n",
    ">> **enrolled_df** : Dataset holding records for the enrolled patients <br>\n",
    ">> **n_enrolled_df** : Dataset holding records for the patients who were not enrolled <br>\n",
    "\n",
    "> After separating the data, we will calculate the respective proportions"
   ]
  },
  {
   "cell_type": "markdown",
   "id": "da95150e",
   "metadata": {},
   "source": [
    "### Step 1: Separate the dataset"
   ]
  },
  {
   "cell_type": "code",
   "execution_count": 54,
   "id": "0541edf8",
   "metadata": {},
   "outputs": [
    {
     "data": {
      "text/plain": [
       "Index(['AppointmentID', 'PatientId', 'Gender', 'ScheduledDay', 'Age',\n",
       "       'Neighbourhood', 'Scholarship', 'Hipertension', 'Diabetes',\n",
       "       'Alcoholism', 'Handcap', 'SMS_received', 'No_show'],\n",
       "      dtype='object')"
      ]
     },
     "execution_count": 54,
     "metadata": {},
     "output_type": "execute_result"
    }
   ],
   "source": [
    "df_clean.columns"
   ]
  },
  {
   "cell_type": "code",
   "execution_count": 55,
   "id": "a59ae280",
   "metadata": {},
   "outputs": [],
   "source": [
    "# Separating the dataset\n",
    "enrolled_df = df_clean.query('Scholarship == 1')\n",
    "n_enrolled_df = df_clean.query('Scholarship == 0')"
   ]
  },
  {
   "cell_type": "code",
   "execution_count": 56,
   "id": "50b9cba1",
   "metadata": {},
   "outputs": [
    {
     "data": {
      "text/html": [
       "<div>\n",
       "<style scoped>\n",
       "    .dataframe tbody tr th:only-of-type {\n",
       "        vertical-align: middle;\n",
       "    }\n",
       "\n",
       "    .dataframe tbody tr th {\n",
       "        vertical-align: top;\n",
       "    }\n",
       "\n",
       "    .dataframe thead th {\n",
       "        text-align: right;\n",
       "    }\n",
       "</style>\n",
       "<table border=\"1\" class=\"dataframe\">\n",
       "  <thead>\n",
       "    <tr style=\"text-align: right;\">\n",
       "      <th></th>\n",
       "      <th>AppointmentID</th>\n",
       "      <th>PatientId</th>\n",
       "      <th>Gender</th>\n",
       "      <th>ScheduledDay</th>\n",
       "      <th>Age</th>\n",
       "      <th>Neighbourhood</th>\n",
       "      <th>Scholarship</th>\n",
       "      <th>Hipertension</th>\n",
       "      <th>Diabetes</th>\n",
       "      <th>Alcoholism</th>\n",
       "      <th>Handcap</th>\n",
       "      <th>SMS_received</th>\n",
       "      <th>No_show</th>\n",
       "    </tr>\n",
       "  </thead>\n",
       "  <tbody>\n",
       "    <tr>\n",
       "      <th>12</th>\n",
       "      <td>5634718</td>\n",
       "      <td>5.666548e+14</td>\n",
       "      <td>F</td>\n",
       "      <td>2016-04-28T11:33:51Z</td>\n",
       "      <td>22</td>\n",
       "      <td>NOVA PALESTINA</td>\n",
       "      <td>1</td>\n",
       "      <td>0</td>\n",
       "      <td>0</td>\n",
       "      <td>0</td>\n",
       "      <td>0</td>\n",
       "      <td>0</td>\n",
       "      <td>No</td>\n",
       "    </tr>\n",
       "    <tr>\n",
       "      <th>17</th>\n",
       "      <td>5633460</td>\n",
       "      <td>1.479497e+13</td>\n",
       "      <td>F</td>\n",
       "      <td>2016-04-28T09:28:57Z</td>\n",
       "      <td>40</td>\n",
       "      <td>CONQUISTA</td>\n",
       "      <td>1</td>\n",
       "      <td>0</td>\n",
       "      <td>0</td>\n",
       "      <td>0</td>\n",
       "      <td>0</td>\n",
       "      <td>0</td>\n",
       "      <td>Yes</td>\n",
       "    </tr>\n",
       "  </tbody>\n",
       "</table>\n",
       "</div>"
      ],
      "text/plain": [
       "    AppointmentID     PatientId Gender          ScheduledDay  Age  \\\n",
       "12        5634718  5.666548e+14      F  2016-04-28T11:33:51Z   22   \n",
       "17        5633460  1.479497e+13      F  2016-04-28T09:28:57Z   40   \n",
       "\n",
       "     Neighbourhood  Scholarship  Hipertension  Diabetes  Alcoholism  Handcap  \\\n",
       "12  NOVA PALESTINA            1             0         0           0        0   \n",
       "17       CONQUISTA            1             0         0           0        0   \n",
       "\n",
       "    SMS_received No_show  \n",
       "12             0      No  \n",
       "17             0     Yes  "
      ]
     },
     "execution_count": 56,
     "metadata": {},
     "output_type": "execute_result"
    }
   ],
   "source": [
    "# View the enrolled patients data\n",
    "enrolled_df.head(2)"
   ]
  },
  {
   "cell_type": "code",
   "execution_count": 57,
   "id": "8f12f346",
   "metadata": {},
   "outputs": [
    {
     "data": {
      "text/html": [
       "<div>\n",
       "<style scoped>\n",
       "    .dataframe tbody tr th:only-of-type {\n",
       "        vertical-align: middle;\n",
       "    }\n",
       "\n",
       "    .dataframe tbody tr th {\n",
       "        vertical-align: top;\n",
       "    }\n",
       "\n",
       "    .dataframe thead th {\n",
       "        text-align: right;\n",
       "    }\n",
       "</style>\n",
       "<table border=\"1\" class=\"dataframe\">\n",
       "  <thead>\n",
       "    <tr style=\"text-align: right;\">\n",
       "      <th></th>\n",
       "      <th>AppointmentID</th>\n",
       "      <th>PatientId</th>\n",
       "      <th>Gender</th>\n",
       "      <th>ScheduledDay</th>\n",
       "      <th>Age</th>\n",
       "      <th>Neighbourhood</th>\n",
       "      <th>Scholarship</th>\n",
       "      <th>Hipertension</th>\n",
       "      <th>Diabetes</th>\n",
       "      <th>Alcoholism</th>\n",
       "      <th>Handcap</th>\n",
       "      <th>SMS_received</th>\n",
       "      <th>No_show</th>\n",
       "    </tr>\n",
       "  </thead>\n",
       "  <tbody>\n",
       "    <tr>\n",
       "      <th>0</th>\n",
       "      <td>5642903</td>\n",
       "      <td>2.987250e+13</td>\n",
       "      <td>F</td>\n",
       "      <td>2016-04-29T18:38:08Z</td>\n",
       "      <td>62</td>\n",
       "      <td>JARDIM DA PENHA</td>\n",
       "      <td>0</td>\n",
       "      <td>1</td>\n",
       "      <td>0</td>\n",
       "      <td>0</td>\n",
       "      <td>0</td>\n",
       "      <td>0</td>\n",
       "      <td>No</td>\n",
       "    </tr>\n",
       "    <tr>\n",
       "      <th>1</th>\n",
       "      <td>5642503</td>\n",
       "      <td>5.589978e+14</td>\n",
       "      <td>M</td>\n",
       "      <td>2016-04-29T16:08:27Z</td>\n",
       "      <td>56</td>\n",
       "      <td>JARDIM DA PENHA</td>\n",
       "      <td>0</td>\n",
       "      <td>0</td>\n",
       "      <td>0</td>\n",
       "      <td>0</td>\n",
       "      <td>0</td>\n",
       "      <td>0</td>\n",
       "      <td>No</td>\n",
       "    </tr>\n",
       "  </tbody>\n",
       "</table>\n",
       "</div>"
      ],
      "text/plain": [
       "   AppointmentID     PatientId Gender          ScheduledDay  Age  \\\n",
       "0        5642903  2.987250e+13      F  2016-04-29T18:38:08Z   62   \n",
       "1        5642503  5.589978e+14      M  2016-04-29T16:08:27Z   56   \n",
       "\n",
       "     Neighbourhood  Scholarship  Hipertension  Diabetes  Alcoholism  Handcap  \\\n",
       "0  JARDIM DA PENHA            0             1         0           0        0   \n",
       "1  JARDIM DA PENHA            0             0         0           0        0   \n",
       "\n",
       "   SMS_received No_show  \n",
       "0             0      No  \n",
       "1             0      No  "
      ]
     },
     "execution_count": 57,
     "metadata": {},
     "output_type": "execute_result"
    }
   ],
   "source": [
    "# View the un-enrolled patients data\n",
    "n_enrolled_df.head(2)"
   ]
  },
  {
   "cell_type": "markdown",
   "id": "98807c31",
   "metadata": {},
   "source": [
    "### Step 2: Find the proportion of the enrolled patients who showed up for the appointment"
   ]
  },
  {
   "cell_type": "code",
   "execution_count": 58,
   "id": "343e379e",
   "metadata": {},
   "outputs": [
    {
     "data": {
      "text/plain": [
       "10861"
      ]
     },
     "execution_count": 58,
     "metadata": {},
     "output_type": "execute_result"
    }
   ],
   "source": [
    "# find the total number of enrolled patients\n",
    "tt_enrolled = enrolled_df.AppointmentID.value_counts().sum()\n",
    "tt_enrolled"
   ]
  },
  {
   "cell_type": "code",
   "execution_count": 59,
   "id": "16ec3577",
   "metadata": {},
   "outputs": [
    {
     "data": {
      "text/plain": [
       "8283"
      ]
     },
     "execution_count": 59,
     "metadata": {},
     "output_type": "execute_result"
    }
   ],
   "source": [
    "# find the total number of enrolled patients who showed up for their appointment\n",
    "tt_enrolled_show = enrolled_df.query('No_show == \"No\"').value_counts().sum()\n",
    "tt_enrolled_show"
   ]
  },
  {
   "cell_type": "code",
   "execution_count": 60,
   "id": "a4c367a4",
   "metadata": {},
   "outputs": [
    {
     "data": {
      "text/plain": [
       "0.7626369579228433"
      ]
     },
     "execution_count": 60,
     "metadata": {},
     "output_type": "execute_result"
    }
   ],
   "source": [
    "# Calculate the proportion of enrolled patients who showed up for the appointments\n",
    "# Invoke the proportion function\n",
    "enrolled_prop = proportion(tt_enrolled, tt_enrolled_show)\n",
    "enrolled_prop"
   ]
  },
  {
   "cell_type": "markdown",
   "id": "9d18fb8d",
   "metadata": {},
   "source": [
    "### Step 3: Find the proportion of the patients who were not enrolled who showed up for the appointment"
   ]
  },
  {
   "cell_type": "code",
   "execution_count": 61,
   "id": "e732ba01",
   "metadata": {},
   "outputs": [
    {
     "data": {
      "text/plain": [
       "99665"
      ]
     },
     "execution_count": 61,
     "metadata": {},
     "output_type": "execute_result"
    }
   ],
   "source": [
    "# find the total number of patients who were not enrolled in the program\n",
    "tt_n_enrolled = n_enrolled_df.AppointmentID.value_counts().sum()\n",
    "tt_n_enrolled"
   ]
  },
  {
   "cell_type": "code",
   "execution_count": 62,
   "id": "d4ae474c",
   "metadata": {},
   "outputs": [
    {
     "data": {
      "text/plain": [
       "79924"
      ]
     },
     "execution_count": 62,
     "metadata": {},
     "output_type": "execute_result"
    }
   ],
   "source": [
    "# find the total number of patients who were not enrolled in the program who showed up for their appointment\n",
    "tt_n_enrolled_show = n_enrolled_df.query('No_show == \"No\"').value_counts().sum()\n",
    "tt_n_enrolled_show"
   ]
  },
  {
   "cell_type": "code",
   "execution_count": 63,
   "id": "043a8d28",
   "metadata": {},
   "outputs": [
    {
     "data": {
      "text/plain": [
       "0.8019264536196258"
      ]
     },
     "execution_count": 63,
     "metadata": {},
     "output_type": "execute_result"
    }
   ],
   "source": [
    "# Calculate the proportion of patients who were not enrolled in the program who showed up for the appointments\n",
    "# Invoke the proportion function\n",
    "n_enrolled_prop = proportion(tt_n_enrolled, tt_n_enrolled_show)\n",
    "n_enrolled_prop"
   ]
  },
  {
   "cell_type": "markdown",
   "id": "d3cc928f",
   "metadata": {},
   "source": [
    "### `Question 5 Response`\n",
    "> comparing the results in step 2 and 3 above, we can conclude that patients who were not enrolled in the Brasilian welfare program were less likely to show up for appointments as compared to those who were not enrolled"
   ]
  },
  {
   "cell_type": "markdown",
   "id": "e5b9d49e",
   "metadata": {},
   "source": [
    "### Step 4: Visualizing the Results"
   ]
  },
  {
   "cell_type": "markdown",
   "id": "1975171f",
   "metadata": {},
   "source": [
    "> To show the difference in the proportions, we will use the a pie chart"
   ]
  },
  {
   "cell_type": "markdown",
   "id": "489e2c19",
   "metadata": {},
   "source": [
    "### `Question 5 Visual Response`"
   ]
  },
  {
   "cell_type": "code",
   "execution_count": 64,
   "id": "aef17b2b",
   "metadata": {},
   "outputs": [
    {
     "data": {
      "image/png": "[encoded data removed]",
      "text/plain": [
       "<Figure size 432x288 with 1 Axes>"
      ]
     },
     "metadata": {},
     "output_type": "display_data"
    }
   ],
   "source": [
    "plot_proportions = [enrolled_prop, n_enrolled_prop]\n",
    "m_labels = ['Enrolled', 'Not Enrolled']\n",
    "# m_colors = ['Blue', 'Green']\n",
    "plt.pie(plot_proportions, labels= m_labels, startangle=90)\n",
    "plt.title('Proportions of patients enrolled & not enrolled in the Brasilian welfare program who showed up for appointments')\n",
    "plt.show();"
   ]
  },
  {
   "cell_type": "markdown",
   "id": "b4e14947",
   "metadata": {},
   "source": [
    "> This pie chart shows that the proportion of the patients who were enrolled in the Brasilian welfare program were less likely to show up for appointments as compared to the patients who were not enrolled in the program"
   ]
  },
  {
   "cell_type": "markdown",
   "id": "7049bce2",
   "metadata": {},
   "source": [
    "## Research Question 6: How do positive diagnosis of health conditions such as hipertension, Diabetes, Alcoholism, and Handcap affect appointment attendance?"
   ]
  },
  {
   "cell_type": "markdown",
   "id": "db0fd2c7",
   "metadata": {},
   "source": [
    "> For this question, we will begin by examining how each individual health condition affects appointment attendance. Thereafter, we will check to see how the four conditions compare in terms of affecting whether the patients show up for appointments or not."
   ]
  },
  {
   "cell_type": "markdown",
   "id": "8746cc13",
   "metadata": {},
   "source": [
    "#### Research Question 6A: How do positive diagnosis of hipertension affect appointment attendance?"
   ]
  },
  {
   "cell_type": "markdown",
   "id": "de148390",
   "metadata": {},
   "source": [
    "##### Split the clean dataset into two datasets, one with records of patients who had High Blood Pressure (HBP), and another with records of patients who did not have HBP\n",
    "> **hbp_df** : records of patients with Hipertension <br>\n",
    "> **n_hbp_df** : records of patients with no Hipertension\n"
   ]
  },
  {
   "cell_type": "code",
   "execution_count": 65,
   "id": "fb335ec6",
   "metadata": {},
   "outputs": [],
   "source": [
    "# Split the data\n",
    "hbp_df = df_clean.query('Hipertension == 1')\n",
    "n_hbp_df = df_clean.query('Hipertension == 0')"
   ]
  },
  {
   "cell_type": "code",
   "execution_count": 66,
   "id": "4b8a8bf8",
   "metadata": {},
   "outputs": [
    {
     "data": {
      "text/html": [
       "<div>\n",
       "<style scoped>\n",
       "    .dataframe tbody tr th:only-of-type {\n",
       "        vertical-align: middle;\n",
       "    }\n",
       "\n",
       "    .dataframe tbody tr th {\n",
       "        vertical-align: top;\n",
       "    }\n",
       "\n",
       "    .dataframe thead th {\n",
       "        text-align: right;\n",
       "    }\n",
       "</style>\n",
       "<table border=\"1\" class=\"dataframe\">\n",
       "  <thead>\n",
       "    <tr style=\"text-align: right;\">\n",
       "      <th></th>\n",
       "      <th>AppointmentID</th>\n",
       "      <th>PatientId</th>\n",
       "      <th>Gender</th>\n",
       "      <th>ScheduledDay</th>\n",
       "      <th>Age</th>\n",
       "      <th>Neighbourhood</th>\n",
       "      <th>Scholarship</th>\n",
       "      <th>Hipertension</th>\n",
       "      <th>Diabetes</th>\n",
       "      <th>Alcoholism</th>\n",
       "      <th>Handcap</th>\n",
       "      <th>SMS_received</th>\n",
       "      <th>No_show</th>\n",
       "    </tr>\n",
       "  </thead>\n",
       "  <tbody>\n",
       "    <tr>\n",
       "      <th>0</th>\n",
       "      <td>5642903</td>\n",
       "      <td>2.987250e+13</td>\n",
       "      <td>F</td>\n",
       "      <td>2016-04-29T18:38:08Z</td>\n",
       "      <td>62</td>\n",
       "      <td>JARDIM DA PENHA</td>\n",
       "      <td>0</td>\n",
       "      <td>1</td>\n",
       "      <td>0</td>\n",
       "      <td>0</td>\n",
       "      <td>0</td>\n",
       "      <td>0</td>\n",
       "      <td>No</td>\n",
       "    </tr>\n",
       "    <tr>\n",
       "      <th>4</th>\n",
       "      <td>5642494</td>\n",
       "      <td>8.841186e+12</td>\n",
       "      <td>F</td>\n",
       "      <td>2016-04-29T16:07:23Z</td>\n",
       "      <td>56</td>\n",
       "      <td>JARDIM DA PENHA</td>\n",
       "      <td>0</td>\n",
       "      <td>1</td>\n",
       "      <td>1</td>\n",
       "      <td>0</td>\n",
       "      <td>0</td>\n",
       "      <td>0</td>\n",
       "      <td>No</td>\n",
       "    </tr>\n",
       "  </tbody>\n",
       "</table>\n",
       "</div>"
      ],
      "text/plain": [
       "   AppointmentID     PatientId Gender          ScheduledDay  Age  \\\n",
       "0        5642903  2.987250e+13      F  2016-04-29T18:38:08Z   62   \n",
       "4        5642494  8.841186e+12      F  2016-04-29T16:07:23Z   56   \n",
       "\n",
       "     Neighbourhood  Scholarship  Hipertension  Diabetes  Alcoholism  Handcap  \\\n",
       "0  JARDIM DA PENHA            0             1         0           0        0   \n",
       "4  JARDIM DA PENHA            0             1         1           0        0   \n",
       "\n",
       "   SMS_received No_show  \n",
       "0             0      No  \n",
       "4             0      No  "
      ]
     },
     "execution_count": 66,
     "metadata": {},
     "output_type": "execute_result"
    }
   ],
   "source": [
    "hbp_df.head(2)"
   ]
  },
  {
   "cell_type": "code",
   "execution_count": 67,
   "id": "5c570eec",
   "metadata": {
    "scrolled": false
   },
   "outputs": [
    {
     "data": {
      "text/html": [
       "<div>\n",
       "<style scoped>\n",
       "    .dataframe tbody tr th:only-of-type {\n",
       "        vertical-align: middle;\n",
       "    }\n",
       "\n",
       "    .dataframe tbody tr th {\n",
       "        vertical-align: top;\n",
       "    }\n",
       "\n",
       "    .dataframe thead th {\n",
       "        text-align: right;\n",
       "    }\n",
       "</style>\n",
       "<table border=\"1\" class=\"dataframe\">\n",
       "  <thead>\n",
       "    <tr style=\"text-align: right;\">\n",
       "      <th></th>\n",
       "      <th>AppointmentID</th>\n",
       "      <th>PatientId</th>\n",
       "      <th>Gender</th>\n",
       "      <th>ScheduledDay</th>\n",
       "      <th>Age</th>\n",
       "      <th>Neighbourhood</th>\n",
       "      <th>Scholarship</th>\n",
       "      <th>Hipertension</th>\n",
       "      <th>Diabetes</th>\n",
       "      <th>Alcoholism</th>\n",
       "      <th>Handcap</th>\n",
       "      <th>SMS_received</th>\n",
       "      <th>No_show</th>\n",
       "    </tr>\n",
       "  </thead>\n",
       "  <tbody>\n",
       "    <tr>\n",
       "      <th>1</th>\n",
       "      <td>5642503</td>\n",
       "      <td>5.589978e+14</td>\n",
       "      <td>M</td>\n",
       "      <td>2016-04-29T16:08:27Z</td>\n",
       "      <td>56</td>\n",
       "      <td>JARDIM DA PENHA</td>\n",
       "      <td>0</td>\n",
       "      <td>0</td>\n",
       "      <td>0</td>\n",
       "      <td>0</td>\n",
       "      <td>0</td>\n",
       "      <td>0</td>\n",
       "      <td>No</td>\n",
       "    </tr>\n",
       "    <tr>\n",
       "      <th>2</th>\n",
       "      <td>5642549</td>\n",
       "      <td>4.262962e+12</td>\n",
       "      <td>F</td>\n",
       "      <td>2016-04-29T16:19:04Z</td>\n",
       "      <td>62</td>\n",
       "      <td>MATA DA PRAIA</td>\n",
       "      <td>0</td>\n",
       "      <td>0</td>\n",
       "      <td>0</td>\n",
       "      <td>0</td>\n",
       "      <td>0</td>\n",
       "      <td>0</td>\n",
       "      <td>No</td>\n",
       "    </tr>\n",
       "  </tbody>\n",
       "</table>\n",
       "</div>"
      ],
      "text/plain": [
       "   AppointmentID     PatientId Gender          ScheduledDay  Age  \\\n",
       "1        5642503  5.589978e+14      M  2016-04-29T16:08:27Z   56   \n",
       "2        5642549  4.262962e+12      F  2016-04-29T16:19:04Z   62   \n",
       "\n",
       "     Neighbourhood  Scholarship  Hipertension  Diabetes  Alcoholism  Handcap  \\\n",
       "1  JARDIM DA PENHA            0             0         0           0        0   \n",
       "2    MATA DA PRAIA            0             0         0           0        0   \n",
       "\n",
       "   SMS_received No_show  \n",
       "1             0      No  \n",
       "2             0      No  "
      ]
     },
     "execution_count": 67,
     "metadata": {},
     "output_type": "execute_result"
    }
   ],
   "source": [
    "n_hbp_df.head(2)"
   ]
  },
  {
   "cell_type": "markdown",
   "id": "73cd84dd",
   "metadata": {},
   "source": [
    "#### Step 1: Find the proportion of patients with hipertension who showed up for the appointment"
   ]
  },
  {
   "cell_type": "code",
   "execution_count": 68,
   "id": "d523d60f",
   "metadata": {},
   "outputs": [
    {
     "data": {
      "text/plain": [
       "21801"
      ]
     },
     "execution_count": 68,
     "metadata": {},
     "output_type": "execute_result"
    }
   ],
   "source": [
    "# Find the total number of patients who were diagnosed with hipertension/High Blood Pressure (HBP)\n",
    "tt_HBP_patient = hbp_df['AppointmentID'].value_counts().sum()\n",
    "tt_HBP_patient"
   ]
  },
  {
   "cell_type": "code",
   "execution_count": 69,
   "id": "afb59a50",
   "metadata": {},
   "outputs": [
    {
     "data": {
      "text/plain": [
       "18029"
      ]
     },
     "execution_count": 69,
     "metadata": {},
     "output_type": "execute_result"
    }
   ],
   "source": [
    "# Find the number of patients with hipertension who showed up for the appointment\n",
    "tt_HBP_patient_show = hbp_df.query('No_show == \"No\"').value_counts().sum()\n",
    "tt_HBP_patient_show"
   ]
  },
  {
   "cell_type": "code",
   "execution_count": 70,
   "id": "5c55f14c",
   "metadata": {},
   "outputs": [
    {
     "data": {
      "text/plain": [
       "0.8269804137424889"
      ]
     },
     "execution_count": 70,
     "metadata": {},
     "output_type": "execute_result"
    }
   ],
   "source": [
    "# proportion of patients with hipertension who showed up for the appointment\n",
    "prop_HBP_patient_show = proportion(tt_HBP_patient, tt_HBP_patient_show)\n",
    "prop_HBP_patient_show"
   ]
  },
  {
   "cell_type": "markdown",
   "id": "f2477987",
   "metadata": {},
   "source": [
    "#### Step 2: Find the proportion of patients with no hipertension who showed up for the appointment"
   ]
  },
  {
   "cell_type": "code",
   "execution_count": 71,
   "id": "c9cf726e",
   "metadata": {},
   "outputs": [
    {
     "data": {
      "text/plain": [
       "88725"
      ]
     },
     "execution_count": 71,
     "metadata": {},
     "output_type": "execute_result"
    }
   ],
   "source": [
    "# Find the total number of patients who did not have hipertension/High Blood Pressure (HBP)\n",
    "n_tt_HBP_patient = n_hbp_df['AppointmentID'].value_counts().sum()\n",
    "n_tt_HBP_patient"
   ]
  },
  {
   "cell_type": "code",
   "execution_count": 72,
   "id": "7f04bc26",
   "metadata": {},
   "outputs": [
    {
     "data": {
      "text/plain": [
       "70178"
      ]
     },
     "execution_count": 72,
     "metadata": {},
     "output_type": "execute_result"
    }
   ],
   "source": [
    "# Find the number of patients with no hipertension who showed up for the appointment\n",
    "n_tt_HBP_patient_show = n_hbp_df.query('No_show == \"No\"').value_counts().sum()\n",
    "n_tt_HBP_patient_show"
   ]
  },
  {
   "cell_type": "code",
   "execution_count": 73,
   "id": "08a2fb87",
   "metadata": {},
   "outputs": [
    {
     "data": {
      "text/plain": [
       "0.7909608340377571"
      ]
     },
     "execution_count": 73,
     "metadata": {},
     "output_type": "execute_result"
    }
   ],
   "source": [
    "# proportion of patients with no hipertension who showed up for the appointment\n",
    "prop_n_HBP_patient_show = proportion(n_tt_HBP_patient, n_tt_HBP_patient_show)\n",
    "prop_n_HBP_patient_show"
   ]
  },
  {
   "cell_type": "markdown",
   "id": "a738886b",
   "metadata": {},
   "source": [
    "#### Step 3: Visualize the results"
   ]
  },
  {
   "cell_type": "code",
   "execution_count": 74,
   "id": "9ad0033f",
   "metadata": {},
   "outputs": [
    {
     "data": {
      "image/png": "[encoded data removed]",
      "text/plain": [
       "<Figure size 432x288 with 1 Axes>"
      ]
     },
     "metadata": {
      "needs_background": "light"
     },
     "output_type": "display_data"
    }
   ],
   "source": [
    "hbp_status = ['Positive', 'Negative']\n",
    "hbp_proportions = [prop_HBP_patient_show, prop_n_HBP_patient_show]\n",
    "colors = ['Red', 'Green']\n",
    "plt.bar(hbp_status, hbp_proportions, color=colors)\n",
    "plt.title('Proportion of patients with & without hipertension who showed up for their appointments')\n",
    "plt.xlabel('Hypertension Status')\n",
    "plt.ylabel('Proportions')\n",
    "\n",
    "plt.show();"
   ]
  },
  {
   "cell_type": "markdown",
   "id": "c59c86f7",
   "metadata": {},
   "source": [
    "#### `Question 6A Response`\n",
    "> The data indicates that the proportion of patients with hipertension who showed up for the appointment was higher than the proportion of patients without hipertension who showed up for the appointment."
   ]
  },
  {
   "cell_type": "markdown",
   "id": "8b45c721",
   "metadata": {},
   "source": [
    "#### Research Question 6b: How do positive diagnosis of Diabetes affect appointment attendance?"
   ]
  },
  {
   "cell_type": "markdown",
   "id": "f79f1426",
   "metadata": {},
   "source": [
    "##### Step 1: Split the dataset\n",
    "> __diabetic_df__ : appointment records of diabetic patients <br>\n",
    "> __n_diabetic_df__ : appointment records of patients who did not have diabetes"
   ]
  },
  {
   "cell_type": "code",
   "execution_count": 75,
   "id": "cafde057",
   "metadata": {},
   "outputs": [],
   "source": [
    "# Split the data\n",
    "diabetic_df = df_clean.query('Diabetes == 1')\n",
    "n_diabetic_df = df_clean.query('Diabetes == 0')"
   ]
  },
  {
   "cell_type": "code",
   "execution_count": 76,
   "id": "ef811e73",
   "metadata": {},
   "outputs": [
    {
     "data": {
      "text/html": [
       "<div>\n",
       "<style scoped>\n",
       "    .dataframe tbody tr th:only-of-type {\n",
       "        vertical-align: middle;\n",
       "    }\n",
       "\n",
       "    .dataframe tbody tr th {\n",
       "        vertical-align: top;\n",
       "    }\n",
       "\n",
       "    .dataframe thead th {\n",
       "        text-align: right;\n",
       "    }\n",
       "</style>\n",
       "<table border=\"1\" class=\"dataframe\">\n",
       "  <thead>\n",
       "    <tr style=\"text-align: right;\">\n",
       "      <th></th>\n",
       "      <th>AppointmentID</th>\n",
       "      <th>PatientId</th>\n",
       "      <th>Gender</th>\n",
       "      <th>ScheduledDay</th>\n",
       "      <th>Age</th>\n",
       "      <th>Neighbourhood</th>\n",
       "      <th>Scholarship</th>\n",
       "      <th>Hipertension</th>\n",
       "      <th>Diabetes</th>\n",
       "      <th>Alcoholism</th>\n",
       "      <th>Handcap</th>\n",
       "      <th>SMS_received</th>\n",
       "      <th>No_show</th>\n",
       "    </tr>\n",
       "  </thead>\n",
       "  <tbody>\n",
       "    <tr>\n",
       "      <th>4</th>\n",
       "      <td>5642494</td>\n",
       "      <td>8.841186e+12</td>\n",
       "      <td>F</td>\n",
       "      <td>2016-04-29T16:07:23Z</td>\n",
       "      <td>56</td>\n",
       "      <td>JARDIM DA PENHA</td>\n",
       "      <td>0</td>\n",
       "      <td>1</td>\n",
       "      <td>1</td>\n",
       "      <td>0</td>\n",
       "      <td>0</td>\n",
       "      <td>0</td>\n",
       "      <td>No</td>\n",
       "    </tr>\n",
       "  </tbody>\n",
       "</table>\n",
       "</div>"
      ],
      "text/plain": [
       "   AppointmentID     PatientId Gender          ScheduledDay  Age  \\\n",
       "4        5642494  8.841186e+12      F  2016-04-29T16:07:23Z   56   \n",
       "\n",
       "     Neighbourhood  Scholarship  Hipertension  Diabetes  Alcoholism  Handcap  \\\n",
       "4  JARDIM DA PENHA            0             1         1           0        0   \n",
       "\n",
       "   SMS_received No_show  \n",
       "4             0      No  "
      ]
     },
     "execution_count": 76,
     "metadata": {},
     "output_type": "execute_result"
    }
   ],
   "source": [
    "diabetic_df.head(1)"
   ]
  },
  {
   "cell_type": "code",
   "execution_count": 77,
   "id": "3e17d82f",
   "metadata": {},
   "outputs": [
    {
     "data": {
      "text/html": [
       "<div>\n",
       "<style scoped>\n",
       "    .dataframe tbody tr th:only-of-type {\n",
       "        vertical-align: middle;\n",
       "    }\n",
       "\n",
       "    .dataframe tbody tr th {\n",
       "        vertical-align: top;\n",
       "    }\n",
       "\n",
       "    .dataframe thead th {\n",
       "        text-align: right;\n",
       "    }\n",
       "</style>\n",
       "<table border=\"1\" class=\"dataframe\">\n",
       "  <thead>\n",
       "    <tr style=\"text-align: right;\">\n",
       "      <th></th>\n",
       "      <th>AppointmentID</th>\n",
       "      <th>PatientId</th>\n",
       "      <th>Gender</th>\n",
       "      <th>ScheduledDay</th>\n",
       "      <th>Age</th>\n",
       "      <th>Neighbourhood</th>\n",
       "      <th>Scholarship</th>\n",
       "      <th>Hipertension</th>\n",
       "      <th>Diabetes</th>\n",
       "      <th>Alcoholism</th>\n",
       "      <th>Handcap</th>\n",
       "      <th>SMS_received</th>\n",
       "      <th>No_show</th>\n",
       "    </tr>\n",
       "  </thead>\n",
       "  <tbody>\n",
       "    <tr>\n",
       "      <th>0</th>\n",
       "      <td>5642903</td>\n",
       "      <td>2.987250e+13</td>\n",
       "      <td>F</td>\n",
       "      <td>2016-04-29T18:38:08Z</td>\n",
       "      <td>62</td>\n",
       "      <td>JARDIM DA PENHA</td>\n",
       "      <td>0</td>\n",
       "      <td>1</td>\n",
       "      <td>0</td>\n",
       "      <td>0</td>\n",
       "      <td>0</td>\n",
       "      <td>0</td>\n",
       "      <td>No</td>\n",
       "    </tr>\n",
       "  </tbody>\n",
       "</table>\n",
       "</div>"
      ],
      "text/plain": [
       "   AppointmentID     PatientId Gender          ScheduledDay  Age  \\\n",
       "0        5642903  2.987250e+13      F  2016-04-29T18:38:08Z   62   \n",
       "\n",
       "     Neighbourhood  Scholarship  Hipertension  Diabetes  Alcoholism  Handcap  \\\n",
       "0  JARDIM DA PENHA            0             1         0           0        0   \n",
       "\n",
       "   SMS_received No_show  \n",
       "0             0      No  "
      ]
     },
     "execution_count": 77,
     "metadata": {},
     "output_type": "execute_result"
    }
   ],
   "source": [
    "n_diabetic_df.head(1)"
   ]
  },
  {
   "cell_type": "markdown",
   "id": "0887d139",
   "metadata": {},
   "source": [
    "##### Step 2: Find the proportion of the diabetic patients who showed up for the appointment"
   ]
  },
  {
   "cell_type": "code",
   "execution_count": 78,
   "id": "89899fac",
   "metadata": {},
   "outputs": [
    {
     "data": {
      "text/plain": [
       "7943"
      ]
     },
     "execution_count": 78,
     "metadata": {},
     "output_type": "execute_result"
    }
   ],
   "source": [
    "# Total number of diabetic patients\n",
    "tt_diabetic = diabetic_df.AppointmentID.value_counts().sum()\n",
    "tt_diabetic"
   ]
  },
  {
   "cell_type": "code",
   "execution_count": 79,
   "id": "af3c9e59",
   "metadata": {},
   "outputs": [
    {
     "data": {
      "text/plain": [
       "6513"
      ]
     },
     "execution_count": 79,
     "metadata": {},
     "output_type": "execute_result"
    }
   ],
   "source": [
    "# Number of diabetic patients who showed up for the appointment\n",
    "tt_diabetic_show = diabetic_df.query('No_show == \"No\"').value_counts().sum()\n",
    "tt_diabetic_show"
   ]
  },
  {
   "cell_type": "code",
   "execution_count": 80,
   "id": "cb0df250",
   "metadata": {},
   "outputs": [
    {
     "data": {
      "text/plain": [
       "0.8199672667757774"
      ]
     },
     "execution_count": 80,
     "metadata": {},
     "output_type": "execute_result"
    }
   ],
   "source": [
    "# Proportion of diabetic patients who showed up for the appointments\n",
    "prop_diabetic_show = proportion(tt_diabetic, tt_diabetic_show)\n",
    "prop_diabetic_show"
   ]
  },
  {
   "cell_type": "markdown",
   "id": "8239ebb9",
   "metadata": {},
   "source": [
    "##### Step 3: Find the proportion of the non-diabetic patients who showed up for the appointment"
   ]
  },
  {
   "cell_type": "code",
   "execution_count": 81,
   "id": "96eddb17",
   "metadata": {},
   "outputs": [
    {
     "data": {
      "text/plain": [
       "102583"
      ]
     },
     "execution_count": 81,
     "metadata": {},
     "output_type": "execute_result"
    }
   ],
   "source": [
    "# Total number of non diabetic patients\n",
    "tt_n_diabetic = n_diabetic_df.AppointmentID.value_counts().sum()\n",
    "tt_n_diabetic"
   ]
  },
  {
   "cell_type": "code",
   "execution_count": 82,
   "id": "0b9f615b",
   "metadata": {},
   "outputs": [
    {
     "data": {
      "text/plain": [
       "81694"
      ]
     },
     "execution_count": 82,
     "metadata": {},
     "output_type": "execute_result"
    }
   ],
   "source": [
    "# Number of diabetic non-patients who showed up for the appointment\n",
    "n_diabetic_show = n_diabetic_df.query('No_show == \"No\"').value_counts().sum()\n",
    "n_diabetic_show"
   ]
  },
  {
   "cell_type": "code",
   "execution_count": 83,
   "id": "092e653c",
   "metadata": {},
   "outputs": [
    {
     "data": {
      "text/plain": [
       "0.7963697688700857"
      ]
     },
     "execution_count": 83,
     "metadata": {},
     "output_type": "execute_result"
    }
   ],
   "source": [
    "# Proportion of non_diabetic patients who showed up for the appointments\n",
    "prop_n_diabetic_show = proportion(tt_n_diabetic, n_diabetic_show)\n",
    "prop_n_diabetic_show"
   ]
  },
  {
   "cell_type": "markdown",
   "id": "dfd65aa2",
   "metadata": {},
   "source": [
    "##### Step 4: Visualize the results"
   ]
  },
  {
   "cell_type": "code",
   "execution_count": 84,
   "id": "414c50ee",
   "metadata": {},
   "outputs": [
    {
     "data": {
      "image/png": "[encoded data removed]",
      "text/plain": [
       "<Figure size 432x288 with 1 Axes>"
      ]
     },
     "metadata": {
      "needs_background": "light"
     },
     "output_type": "display_data"
    }
   ],
   "source": [
    "diabetes_status = ['Positive', 'Negative']\n",
    "diabetes_proportions = [prop_diabetic_show, prop_n_diabetic_show]\n",
    "colors = ['Red', 'Green']\n",
    "plt.bar(diabetes_status, diabetes_proportions, color=colors)\n",
    "plt.title('Proportion of patients with & without diabetes who showed up for their appointments')\n",
    "plt.xlabel('Diabetes Status')\n",
    "plt.ylabel('Proportions')\n",
    "\n",
    "plt.show();"
   ]
  },
  {
   "cell_type": "markdown",
   "id": "351282b1",
   "metadata": {},
   "source": [
    "##### `Question 6B Results`\n",
    "> This shows that the proportion of patients with diabetes who showed up for the appointment was higher than the proportion of patients without diabetes who showed up for the appointment"
   ]
  },
  {
   "cell_type": "markdown",
   "id": "67c418e8",
   "metadata": {},
   "source": [
    "#### Research Question 6c: How do Alcoholism affect appointment attendance?"
   ]
  },
  {
   "cell_type": "markdown",
   "id": "155b005d",
   "metadata": {},
   "source": [
    "##### Step 1: Split the dataset\n",
    "> __alcoholic_df__ : appointment records of alcoholic patients <br>\n",
    "> __n_alcoholic_df__ : appointment records of patients who did not have alcoholism"
   ]
  },
  {
   "cell_type": "code",
   "execution_count": 85,
   "id": "3b16bcf8",
   "metadata": {},
   "outputs": [],
   "source": [
    "# Split the data\n",
    "alcoholic_df = df_clean.query('Alcoholism == 1')\n",
    "n_alcoholic_df = df_clean.query('Alcoholism == 0')"
   ]
  },
  {
   "cell_type": "code",
   "execution_count": 86,
   "id": "cc1827ce",
   "metadata": {},
   "outputs": [
    {
     "data": {
      "text/html": [
       "<div>\n",
       "<style scoped>\n",
       "    .dataframe tbody tr th:only-of-type {\n",
       "        vertical-align: middle;\n",
       "    }\n",
       "\n",
       "    .dataframe tbody tr th {\n",
       "        vertical-align: top;\n",
       "    }\n",
       "\n",
       "    .dataframe thead th {\n",
       "        text-align: right;\n",
       "    }\n",
       "</style>\n",
       "<table border=\"1\" class=\"dataframe\">\n",
       "  <thead>\n",
       "    <tr style=\"text-align: right;\">\n",
       "      <th></th>\n",
       "      <th>AppointmentID</th>\n",
       "      <th>PatientId</th>\n",
       "      <th>Gender</th>\n",
       "      <th>ScheduledDay</th>\n",
       "      <th>Age</th>\n",
       "      <th>Neighbourhood</th>\n",
       "      <th>Scholarship</th>\n",
       "      <th>Hipertension</th>\n",
       "      <th>Diabetes</th>\n",
       "      <th>Alcoholism</th>\n",
       "      <th>Handcap</th>\n",
       "      <th>SMS_received</th>\n",
       "      <th>No_show</th>\n",
       "    </tr>\n",
       "  </thead>\n",
       "  <tbody>\n",
       "    <tr>\n",
       "      <th>46</th>\n",
       "      <td>5615608</td>\n",
       "      <td>1.379437e+11</td>\n",
       "      <td>M</td>\n",
       "      <td>2016-04-25T12:44:36Z</td>\n",
       "      <td>58</td>\n",
       "      <td>SÃO CRISTÓVÃO</td>\n",
       "      <td>0</td>\n",
       "      <td>1</td>\n",
       "      <td>0</td>\n",
       "      <td>1</td>\n",
       "      <td>0</td>\n",
       "      <td>1</td>\n",
       "      <td>No</td>\n",
       "    </tr>\n",
       "  </tbody>\n",
       "</table>\n",
       "</div>"
      ],
      "text/plain": [
       "    AppointmentID     PatientId Gender          ScheduledDay  Age  \\\n",
       "46        5615608  1.379437e+11      M  2016-04-25T12:44:36Z   58   \n",
       "\n",
       "    Neighbourhood  Scholarship  Hipertension  Diabetes  Alcoholism  Handcap  \\\n",
       "46  SÃO CRISTÓVÃO            0             1         0           1        0   \n",
       "\n",
       "    SMS_received No_show  \n",
       "46             1      No  "
      ]
     },
     "execution_count": 86,
     "metadata": {},
     "output_type": "execute_result"
    }
   ],
   "source": [
    "alcoholic_df.head(1)"
   ]
  },
  {
   "cell_type": "code",
   "execution_count": 87,
   "id": "e4a41a5c",
   "metadata": {},
   "outputs": [
    {
     "data": {
      "text/html": [
       "<div>\n",
       "<style scoped>\n",
       "    .dataframe tbody tr th:only-of-type {\n",
       "        vertical-align: middle;\n",
       "    }\n",
       "\n",
       "    .dataframe tbody tr th {\n",
       "        vertical-align: top;\n",
       "    }\n",
       "\n",
       "    .dataframe thead th {\n",
       "        text-align: right;\n",
       "    }\n",
       "</style>\n",
       "<table border=\"1\" class=\"dataframe\">\n",
       "  <thead>\n",
       "    <tr style=\"text-align: right;\">\n",
       "      <th></th>\n",
       "      <th>AppointmentID</th>\n",
       "      <th>PatientId</th>\n",
       "      <th>Gender</th>\n",
       "      <th>ScheduledDay</th>\n",
       "      <th>Age</th>\n",
       "      <th>Neighbourhood</th>\n",
       "      <th>Scholarship</th>\n",
       "      <th>Hipertension</th>\n",
       "      <th>Diabetes</th>\n",
       "      <th>Alcoholism</th>\n",
       "      <th>Handcap</th>\n",
       "      <th>SMS_received</th>\n",
       "      <th>No_show</th>\n",
       "    </tr>\n",
       "  </thead>\n",
       "  <tbody>\n",
       "    <tr>\n",
       "      <th>0</th>\n",
       "      <td>5642903</td>\n",
       "      <td>2.987250e+13</td>\n",
       "      <td>F</td>\n",
       "      <td>2016-04-29T18:38:08Z</td>\n",
       "      <td>62</td>\n",
       "      <td>JARDIM DA PENHA</td>\n",
       "      <td>0</td>\n",
       "      <td>1</td>\n",
       "      <td>0</td>\n",
       "      <td>0</td>\n",
       "      <td>0</td>\n",
       "      <td>0</td>\n",
       "      <td>No</td>\n",
       "    </tr>\n",
       "  </tbody>\n",
       "</table>\n",
       "</div>"
      ],
      "text/plain": [
       "   AppointmentID     PatientId Gender          ScheduledDay  Age  \\\n",
       "0        5642903  2.987250e+13      F  2016-04-29T18:38:08Z   62   \n",
       "\n",
       "     Neighbourhood  Scholarship  Hipertension  Diabetes  Alcoholism  Handcap  \\\n",
       "0  JARDIM DA PENHA            0             1         0           0        0   \n",
       "\n",
       "   SMS_received No_show  \n",
       "0             0      No  "
      ]
     },
     "execution_count": 87,
     "metadata": {},
     "output_type": "execute_result"
    }
   ],
   "source": [
    "n_alcoholic_df.head(1)"
   ]
  },
  {
   "cell_type": "markdown",
   "id": "1e154659",
   "metadata": {},
   "source": [
    "##### Step 2: Find the proportion of the alcoholic patients who showed up for the appointment"
   ]
  },
  {
   "cell_type": "code",
   "execution_count": 88,
   "id": "5d71dfa9",
   "metadata": {},
   "outputs": [
    {
     "data": {
      "text/plain": [
       "3360"
      ]
     },
     "execution_count": 88,
     "metadata": {},
     "output_type": "execute_result"
    }
   ],
   "source": [
    "# Total number of alcoholic patients\n",
    "tt_alcoholic = alcoholic_df.AppointmentID.value_counts().sum()\n",
    "tt_alcoholic"
   ]
  },
  {
   "cell_type": "code",
   "execution_count": 89,
   "id": "7f35a210",
   "metadata": {},
   "outputs": [
    {
     "data": {
      "text/plain": [
       "2683"
      ]
     },
     "execution_count": 89,
     "metadata": {},
     "output_type": "execute_result"
    }
   ],
   "source": [
    "# Number of alcoholic patients who showed up for the appointment\n",
    "tt_alcoholic_show = alcoholic_df.query('No_show == \"No\"').value_counts().sum()\n",
    "tt_alcoholic_show"
   ]
  },
  {
   "cell_type": "code",
   "execution_count": 90,
   "id": "9857abc3",
   "metadata": {},
   "outputs": [
    {
     "data": {
      "text/plain": [
       "0.7985119047619048"
      ]
     },
     "execution_count": 90,
     "metadata": {},
     "output_type": "execute_result"
    }
   ],
   "source": [
    "# Proportion of diabetic patients who showed up for the appointments\n",
    "prop_alcoholic_show = proportion(tt_alcoholic, tt_alcoholic_show)\n",
    "prop_alcoholic_show"
   ]
  },
  {
   "cell_type": "markdown",
   "id": "1c3ea5d2",
   "metadata": {},
   "source": [
    "##### Step 3: Find the proportion of the non-alcoholic patients who showed up for the appointment"
   ]
  },
  {
   "cell_type": "code",
   "execution_count": 91,
   "id": "9b32f01c",
   "metadata": {},
   "outputs": [
    {
     "data": {
      "text/plain": [
       "107166"
      ]
     },
     "execution_count": 91,
     "metadata": {},
     "output_type": "execute_result"
    }
   ],
   "source": [
    "# Total number of non alcoholic patients\n",
    "tt_n_alcoholic = n_alcoholic_df.AppointmentID.value_counts().sum()\n",
    "tt_n_alcoholic"
   ]
  },
  {
   "cell_type": "code",
   "execution_count": 92,
   "id": "ed92ffef",
   "metadata": {},
   "outputs": [
    {
     "data": {
      "text/plain": [
       "85524"
      ]
     },
     "execution_count": 92,
     "metadata": {},
     "output_type": "execute_result"
    }
   ],
   "source": [
    "# Number of diabetic non-alcoholic who showed up for the appointment\n",
    "n_alcoholic_show = n_alcoholic_df.query('No_show == \"No\"').value_counts().sum()\n",
    "n_alcoholic_show"
   ]
  },
  {
   "cell_type": "code",
   "execution_count": 93,
   "id": "f8bc13de",
   "metadata": {},
   "outputs": [
    {
     "data": {
      "text/plain": [
       "0.7980516208498964"
      ]
     },
     "execution_count": 93,
     "metadata": {},
     "output_type": "execute_result"
    }
   ],
   "source": [
    "# Proportion of non_diabetic patients who showed up for the appointments\n",
    "prop_n_alcoholic_show = proportion(tt_n_alcoholic, n_alcoholic_show)\n",
    "prop_n_alcoholic_show"
   ]
  },
  {
   "cell_type": "markdown",
   "id": "32666205",
   "metadata": {},
   "source": [
    "##### Step 4: Visualize the results"
   ]
  },
  {
   "cell_type": "code",
   "execution_count": 94,
   "id": "55cf4093",
   "metadata": {},
   "outputs": [
    {
     "data": {
      "image/png": "[encoded data removed]",
      "text/plain": [
       "<Figure size 432x288 with 1 Axes>"
      ]
     },
     "metadata": {
      "needs_background": "light"
     },
     "output_type": "display_data"
    }
   ],
   "source": [
    "diabetes_status = ['Alcoholic', 'Non-Alcoholic']\n",
    "diabetes_proportions = [prop_alcoholic_show, prop_n_alcoholic_show]\n",
    "colors = ['Red', 'Green']\n",
    "plt.bar(diabetes_status, diabetes_proportions, color=colors)\n",
    "plt.title('Proportion of patients with & without Alcoholism who showed up for their appointments')\n",
    "plt.xlabel('Alcoholism Status')\n",
    "plt.ylabel('Proportions')\n",
    "\n",
    "plt.show();"
   ]
  },
  {
   "cell_type": "markdown",
   "id": "9f692471",
   "metadata": {},
   "source": [
    "#### `Research question 6C Results`\n",
    "> Since there is no significant difference between the proportion of alcoholic patients who showed up for appointments and the non-alcoholic patients who showed up for the appointments, We can conclude that Alcoholism does not significantly affect whether an individiual shows up for an appointment or not."
   ]
  },
  {
   "cell_type": "markdown",
   "id": "de2fbb20",
   "metadata": {},
   "source": [
    "#### Research Question 6D: How do being HandCapped affect appointment attendance?"
   ]
  },
  {
   "cell_type": "markdown",
   "id": "6f6197af",
   "metadata": {},
   "source": [
    "##### Step 1: Split the dataset\n",
    "> __handcap_df__ : appointment records of HandCapped patients <br>\n",
    "> __n_handcap_df__ : appointment records of patients who are not HandCapped"
   ]
  },
  {
   "cell_type": "code",
   "execution_count": 95,
   "id": "e405887b",
   "metadata": {},
   "outputs": [],
   "source": [
    "# Split the data\n",
    "handcap_df = df_clean.query('Handcap == 1')\n",
    "n_handcap_df = df_clean.query('Handcap == 0')"
   ]
  },
  {
   "cell_type": "code",
   "execution_count": 96,
   "id": "28399781",
   "metadata": {},
   "outputs": [
    {
     "data": {
      "text/html": [
       "<div>\n",
       "<style scoped>\n",
       "    .dataframe tbody tr th:only-of-type {\n",
       "        vertical-align: middle;\n",
       "    }\n",
       "\n",
       "    .dataframe tbody tr th {\n",
       "        vertical-align: top;\n",
       "    }\n",
       "\n",
       "    .dataframe thead th {\n",
       "        text-align: right;\n",
       "    }\n",
       "</style>\n",
       "<table border=\"1\" class=\"dataframe\">\n",
       "  <thead>\n",
       "    <tr style=\"text-align: right;\">\n",
       "      <th></th>\n",
       "      <th>AppointmentID</th>\n",
       "      <th>PatientId</th>\n",
       "      <th>Gender</th>\n",
       "      <th>ScheduledDay</th>\n",
       "      <th>Age</th>\n",
       "      <th>Neighbourhood</th>\n",
       "      <th>Scholarship</th>\n",
       "      <th>Hipertension</th>\n",
       "      <th>Diabetes</th>\n",
       "      <th>Alcoholism</th>\n",
       "      <th>Handcap</th>\n",
       "      <th>SMS_received</th>\n",
       "      <th>No_show</th>\n",
       "    </tr>\n",
       "  </thead>\n",
       "  <tbody>\n",
       "    <tr>\n",
       "      <th>147</th>\n",
       "      <td>5639200</td>\n",
       "      <td>2.984854e+14</td>\n",
       "      <td>F</td>\n",
       "      <td>2016-04-29T08:48:03Z</td>\n",
       "      <td>65</td>\n",
       "      <td>UNIVERSITÁRIO</td>\n",
       "      <td>0</td>\n",
       "      <td>1</td>\n",
       "      <td>0</td>\n",
       "      <td>0</td>\n",
       "      <td>1</td>\n",
       "      <td>0</td>\n",
       "      <td>No</td>\n",
       "    </tr>\n",
       "  </tbody>\n",
       "</table>\n",
       "</div>"
      ],
      "text/plain": [
       "     AppointmentID     PatientId Gender          ScheduledDay  Age  \\\n",
       "147        5639200  2.984854e+14      F  2016-04-29T08:48:03Z   65   \n",
       "\n",
       "     Neighbourhood  Scholarship  Hipertension  Diabetes  Alcoholism  Handcap  \\\n",
       "147  UNIVERSITÁRIO            0             1         0           0        1   \n",
       "\n",
       "     SMS_received No_show  \n",
       "147             0      No  "
      ]
     },
     "execution_count": 96,
     "metadata": {},
     "output_type": "execute_result"
    }
   ],
   "source": [
    "handcap_df.head(1)"
   ]
  },
  {
   "cell_type": "code",
   "execution_count": 97,
   "id": "17fd0689",
   "metadata": {},
   "outputs": [
    {
     "data": {
      "text/html": [
       "<div>\n",
       "<style scoped>\n",
       "    .dataframe tbody tr th:only-of-type {\n",
       "        vertical-align: middle;\n",
       "    }\n",
       "\n",
       "    .dataframe tbody tr th {\n",
       "        vertical-align: top;\n",
       "    }\n",
       "\n",
       "    .dataframe thead th {\n",
       "        text-align: right;\n",
       "    }\n",
       "</style>\n",
       "<table border=\"1\" class=\"dataframe\">\n",
       "  <thead>\n",
       "    <tr style=\"text-align: right;\">\n",
       "      <th></th>\n",
       "      <th>AppointmentID</th>\n",
       "      <th>PatientId</th>\n",
       "      <th>Gender</th>\n",
       "      <th>ScheduledDay</th>\n",
       "      <th>Age</th>\n",
       "      <th>Neighbourhood</th>\n",
       "      <th>Scholarship</th>\n",
       "      <th>Hipertension</th>\n",
       "      <th>Diabetes</th>\n",
       "      <th>Alcoholism</th>\n",
       "      <th>Handcap</th>\n",
       "      <th>SMS_received</th>\n",
       "      <th>No_show</th>\n",
       "    </tr>\n",
       "  </thead>\n",
       "  <tbody>\n",
       "    <tr>\n",
       "      <th>0</th>\n",
       "      <td>5642903</td>\n",
       "      <td>2.987250e+13</td>\n",
       "      <td>F</td>\n",
       "      <td>2016-04-29T18:38:08Z</td>\n",
       "      <td>62</td>\n",
       "      <td>JARDIM DA PENHA</td>\n",
       "      <td>0</td>\n",
       "      <td>1</td>\n",
       "      <td>0</td>\n",
       "      <td>0</td>\n",
       "      <td>0</td>\n",
       "      <td>0</td>\n",
       "      <td>No</td>\n",
       "    </tr>\n",
       "  </tbody>\n",
       "</table>\n",
       "</div>"
      ],
      "text/plain": [
       "   AppointmentID     PatientId Gender          ScheduledDay  Age  \\\n",
       "0        5642903  2.987250e+13      F  2016-04-29T18:38:08Z   62   \n",
       "\n",
       "     Neighbourhood  Scholarship  Hipertension  Diabetes  Alcoholism  Handcap  \\\n",
       "0  JARDIM DA PENHA            0             1         0           0        0   \n",
       "\n",
       "   SMS_received No_show  \n",
       "0             0      No  "
      ]
     },
     "execution_count": 97,
     "metadata": {},
     "output_type": "execute_result"
    }
   ],
   "source": [
    "n_handcap_df.head(1)"
   ]
  },
  {
   "cell_type": "markdown",
   "id": "2d8a8cc0",
   "metadata": {},
   "source": [
    "##### Step 2: Find the proportion of the handcap patients who showed up for the appointment"
   ]
  },
  {
   "cell_type": "code",
   "execution_count": 98,
   "id": "fce93cf0",
   "metadata": {},
   "outputs": [
    {
     "data": {
      "text/plain": [
       "2042"
      ]
     },
     "execution_count": 98,
     "metadata": {},
     "output_type": "execute_result"
    }
   ],
   "source": [
    "# Total number of handcap patients\n",
    "tt_handcap = handcap_df.AppointmentID.value_counts().sum()\n",
    "tt_handcap"
   ]
  },
  {
   "cell_type": "code",
   "execution_count": 99,
   "id": "ff8db936",
   "metadata": {},
   "outputs": [
    {
     "data": {
      "text/plain": [
       "1676"
      ]
     },
     "execution_count": 99,
     "metadata": {},
     "output_type": "execute_result"
    }
   ],
   "source": [
    "# Number of handcap patients who showed up for the appointment\n",
    "tt_handcap_show = handcap_df.query('No_show == \"No\"').value_counts().sum()\n",
    "tt_handcap_show"
   ]
  },
  {
   "cell_type": "code",
   "execution_count": 100,
   "id": "fca6e56f",
   "metadata": {},
   "outputs": [
    {
     "data": {
      "text/plain": [
       "0.8207639569049952"
      ]
     },
     "execution_count": 100,
     "metadata": {},
     "output_type": "execute_result"
    }
   ],
   "source": [
    "# Proportion of handcap patients who showed up for the appointments\n",
    "prop_handcap_show = proportion(tt_handcap, tt_handcap_show)\n",
    "prop_handcap_show"
   ]
  },
  {
   "cell_type": "markdown",
   "id": "aedefa4b",
   "metadata": {},
   "source": [
    "##### Step 3: Find the proportion of the non-handcap patients who showed up for the appointment"
   ]
  },
  {
   "cell_type": "code",
   "execution_count": 101,
   "id": "1e833b2a",
   "metadata": {},
   "outputs": [
    {
     "data": {
      "text/plain": [
       "108285"
      ]
     },
     "execution_count": 101,
     "metadata": {},
     "output_type": "execute_result"
    }
   ],
   "source": [
    "# Total number of non handcap patients\n",
    "tt_n_handcap = n_handcap_df.AppointmentID.value_counts().sum()\n",
    "tt_n_handcap"
   ]
  },
  {
   "cell_type": "code",
   "execution_count": 102,
   "id": "42ba3ff6",
   "metadata": {},
   "outputs": [
    {
     "data": {
      "text/plain": [
       "86373"
      ]
     },
     "execution_count": 102,
     "metadata": {},
     "output_type": "execute_result"
    }
   ],
   "source": [
    "# Number of diabetic non-handcap who showed up for the appointment\n",
    "n_handcap_show = n_handcap_df.query('No_show == \"No\"').value_counts().sum()\n",
    "n_handcap_show"
   ]
  },
  {
   "cell_type": "code",
   "execution_count": 103,
   "id": "71d595db",
   "metadata": {},
   "outputs": [
    {
     "data": {
      "text/plain": [
       "0.7976451031998891"
      ]
     },
     "execution_count": 103,
     "metadata": {},
     "output_type": "execute_result"
    }
   ],
   "source": [
    "# Proportion of non_handcap patients who showed up for the appointments\n",
    "prop_n_handcap_show = proportion(tt_n_handcap, n_handcap_show)\n",
    "prop_n_handcap_show"
   ]
  },
  {
   "cell_type": "markdown",
   "id": "56e7316b",
   "metadata": {},
   "source": [
    "##### Step 4: Visualize the results"
   ]
  },
  {
   "cell_type": "code",
   "execution_count": 104,
   "id": "029ea2eb",
   "metadata": {},
   "outputs": [
    {
     "data": {
      "image/png": "[encoded data removed]",
      "text/plain": [
       "<Figure size 432x288 with 1 Axes>"
      ]
     },
     "metadata": {
      "needs_background": "light"
     },
     "output_type": "display_data"
    }
   ],
   "source": [
    "handcap_status = ['Handcap', 'Non-Handcap']\n",
    "handcap_proportions = [prop_handcap_show, prop_n_handcap_show]\n",
    "colors = ['Red', 'Green']\n",
    "plt.barh(handcap_status, handcap_proportions, color=colors)\n",
    "plt.title('Proportion of Handcap & Non-Handcap patients who showed up for their appointments')\n",
    "plt.xlabel('Proportions')\n",
    "plt.ylabel('Handcap Status')\n",
    "\n",
    "plt.show();"
   ]
  },
  {
   "cell_type": "markdown",
   "id": "51a618d7",
   "metadata": {},
   "source": [
    "#### `Research question 6D Results`\n",
    "> This analysis shows that the handcapped patients are more likely to show up for appointments as compared to the non-handcap patients"
   ]
  },
  {
   "cell_type": "markdown",
   "id": "f132b86f",
   "metadata": {},
   "source": [
    "<a id = conclusion></a>\n",
    "# Conclusion"
   ]
  },
  {
   "cell_type": "markdown",
   "id": "5915c181",
   "metadata": {},
   "source": [
    "> **Findings**: Based on the analysis done on the dataset:-\n",
    ">> 1. Patients aged between 0 to 10 years book a higher number of appointments as compared to the other age groups. The number of appointments booked by patients aged between 90 years and 100 years is disproportionately low as compared to the other age groups.<br>\n",
    ">> 2. The proportion of males who showed up for the appointment is almost equal to the proportion of the females who showed up for the appointment. <br>\n",
    ">> 3. The proportion of older patients who showed up for their appointment is higher than that of the younger patients who showed up for the appointment. <br>\n",
    ">> 4. For hospitals located in some neighbourhoods, the proportion of patients who showed up for the appointment they booked was higher than in others. However, in all neighbourhoods, more than 70% of the patients who booked appointments showed up on for the appointment. <br>\n",
    ">> 5. The proportion of the patients who were enrolled in the Brasilian welfare program and showed up for appointments was slightly lower compared to the proportion of patients who were not enrolled in the program and showed up for the appointments. <br>\n",
    ">> 6. > a. The proportion of patients with hipertension who showed up for the appointment was higher than the proportion of patients without hipertension who showed up for the appointment. <br>\n",
    "> b. The proportion of patients with diabetes who showed up for the appointment was higher than the proportion of patients without diabetes who showed up for the appointment. <br>\n",
    "> c. Since there is no significant difference between the proportion of alcoholic patients who showed up for appointments and the non-alcoholic patients who showed up for the appointments, We can conclude that Alcoholism does not significantly affect whether an individiual shows up for an appointment or not.\n",
    "> d. The proportion of Handcap patients who showed up for the appointment was higher than the proportion of patients who are not handcap who showed up for the appointment. <br>\n",
    "\n",
    "> **Challenges**\n",
    ">> 1. _This analysis only focused on correlation between the variables. Causation was not addressed_\n",
    ">> 2. _Writing python functions to replace some repetitive tasks was challenging_"
   ]
  },
  {
   "cell_type": "code",
   "execution_count": null,
   "id": "9ba90343",
   "metadata": {},
   "outputs": [],
   "source": []
  }
 ],
 "metadata": {
  "kernelspec": {
   "display_name": "Python 3 (ipykernel)",
   "language": "python",
   "name": "python3"
  },
  "language_info": {
   "codemirror_mode": {
    "name": "ipython",
    "version": 3
   },
   "file_extension": ".py",
   "mimetype": "text/x-python",
   "name": "python",
   "nbconvert_exporter": "python",
   "pygments_lexer": "ipython3",
   "version": "3.9.12"
  }
 },
 "nbformat": 4,
 "nbformat_minor": 5
}
